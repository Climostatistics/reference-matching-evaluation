{
 "cells": [
  {
   "cell_type": "code",
   "execution_count": null,
   "metadata": {},
   "outputs": [],
   "source": [
    "import csv\n",
    "import matplotlib.pyplot as plt\n",
    "import numpy as np\n",
    "\n",
    "from datetime import datetime"
   ]
  },
  {
   "cell_type": "code",
   "execution_count": null,
   "metadata": {},
   "outputs": [],
   "source": [
    "def read_data(dir):\n",
    "    x = []\n",
    "    y = []\n",
    "    with open(dir + '/results.csv', 'r') as csvfile:\n",
    "        reader = csv.reader(csvfile)\n",
    "        for row in reader:\n",
    "            x.append(datetime.strptime(row[0], \"%Y-%m-%d %H:%M:%S\"))\n",
    "            if not y:\n",
    "                [y.append([]) for i in range(len(row)-1)]\n",
    "            [y[i].append(float(j)) for i, j in enumerate(row[1:])]\n",
    "    return tuple([x] + y)"
   ]
  },
  {
   "cell_type": "code",
   "execution_count": null,
   "metadata": {},
   "outputs": [],
   "source": [
    "def smooth(y, N):\n",
    "    cs = np.concatenate(([0], np.cumsum(y)))\n",
    "    data = [(cs[i]-cs[i-N])/N for i in range(N, len(cs))]\n",
    "    return data"
   ]
  },
  {
   "cell_type": "markdown",
   "metadata": {},
   "source": [
    "## References distribution"
   ]
  },
  {
   "cell_type": "markdown",
   "metadata": {},
   "source": [
    "### Static data"
   ]
  },
  {
   "cell_type": "code",
   "execution_count": null,
   "metadata": {},
   "outputs": [],
   "source": [
    "def plot_distribution(data, ax, title, legend=False, pos=(1.1, 1)):\n",
    "    index = np.arange(0, len(data[0]), 1)\n",
    "    p1 = ax.bar(index, data[1], width=1, color='#d8d2c4')\n",
    "    p2 = ax.bar(index, data[2], width=1, bottom=data[1], color='#4f5858')\n",
    "    p3 = ax.bar(index, data[3], width=1, bottom=[c1+c2 for c1, c2 in zip(data[1], data[2])], color='#3eb1c8')\n",
    "    p4 = ax.bar(index, data[4], width=1, bottom=[c1+c2+c3 for c1, c2, c3 in zip(data[1], data[2], data[3])],\n",
    "                color='#ffc72c')\n",
    "    p5 = ax.bar(index, data[5], width=1,\n",
    "                bottom=[c1+c2+c3+c4 for c1, c2, c3, c4 in zip(data[1], data[2], data[3], data[4])],\n",
    "                color='#ef3340')\n",
    "    ax.set_title(title)\n",
    "    ax.set_xlim(index[0], index[len(index)-1])\n",
    "    ax.set_ylim(0, 1)\n",
    "    ax.set_xlabel('Days')\n",
    "    if legend:\n",
    "        ax.legend((p1[0], p2[0], p3[0], p4[0], p5[0]),\n",
    "                  ('publisher', 'crossref unstructured', 'crossref structured', 'no match unstructured',\n",
    "                   'no match structured'),\n",
    "                  bbox_to_anchor=pos)"
   ]
  },
  {
   "cell_type": "code",
   "execution_count": null,
   "metadata": {},
   "outputs": [],
   "source": [
    "data = read_data('plugins/references_distribution_const')\n",
    "plt.plot(data[0], data[1])\n",
    "plt.ylabel('Number of references')\n",
    "xticks = plt.xticks(rotation=90)"
   ]
  },
  {
   "cell_type": "code",
   "execution_count": null,
   "metadata": {},
   "outputs": [],
   "source": [
    "plot_distribution([data[0]] + list(data[2:]), plt.gca(), 'Static itemset', legend=True, pos=(1.1, 0.63))"
   ]
  },
  {
   "cell_type": "markdown",
   "metadata": {},
   "source": [
    "### Varying data"
   ]
  },
  {
   "cell_type": "code",
   "execution_count": null,
   "metadata": {},
   "outputs": [],
   "source": [
    "data_raw = read_data('plugins/references_distribution')\n",
    "\n",
    "N = 10\n",
    "data_smooth = list(read_data('plugins/references_distribution'))\n",
    "data_smooth[0] = data_smooth[0][(N-1):]\n",
    "for i in range(1, len(data_smooth)):\n",
    "    data_smooth[i] = smooth(data_smooth[i], N)\n",
    "\n",
    "plt.rcParams.update({'font.size': 12})\n",
    "f, axes = plt.subplots(1, 2, sharey=True, figsize=(12, 4))\n",
    "plot_distribution(data_raw, axes[0], 'Raw')\n",
    "axes[0].set_ylabel('Fraction')\n",
    "plot_distribution(data_smooth, axes[1], 'Smoothed', True)"
   ]
  },
  {
   "cell_type": "markdown",
   "metadata": {},
   "source": [
    "## Matcher evaluation"
   ]
  },
  {
   "cell_type": "markdown",
   "metadata": {},
   "source": [
    "### Real data"
   ]
  },
  {
   "cell_type": "code",
   "execution_count": null,
   "metadata": {},
   "outputs": [],
   "source": [
    "def plot_eval(data, ax, title='', ylabel='', legend=False, xticks=True):\n",
    "    ax.plot(data[0], data[1], color='#3eb1c8')\n",
    "    ax.plot(data[0], data[2], color='#ffc72c')\n",
    "    ax.plot(data[0], data[3], color='#ef3340')\n",
    "    ax.set_title(title)\n",
    "    ax.set_ylabel(ylabel)\n",
    "    if xticks:\n",
    "        for tick in ax.get_xticklabels():\n",
    "            tick.set_rotation(90)\n",
    "    else:\n",
    "        ax.xaxis.set_ticks_position('none')\n",
    "        ax.set_xticklabels([])\n",
    "    if legend:\n",
    "        ax.legend(['precision', 'recall', 'F1'], bbox_to_anchor=(0.4, 1.35), ncol=3)\n",
    "\n",
    "plt.rcParams.update({'font.size': 12})\n",
    "f, axes = plt.subplots(1, 2, sharey=True, figsize=(12, 4))\n",
    "plot_eval(read_data('plugins/ref_matching_eval_real_python'), axes[0], title='Python impl')\n",
    "plot_eval(read_data('plugins/ref_matching_eval_real_java'), axes[1], title='Java impl', legend=True)"
   ]
  },
  {
   "cell_type": "markdown",
   "metadata": {},
   "source": [
    "### Artificial data"
   ]
  },
  {
   "cell_type": "code",
   "execution_count": null,
   "metadata": {},
   "outputs": [],
   "source": [
    "data_raw_python = read_data('plugins/ref_matching_eval_artificial_python')\n",
    "N = 10\n",
    "data_smooth_python = list(data_raw_python)\n",
    "data_smooth_python[0] = data_smooth_python[0][(N-1):]\n",
    "for i in range(1, len(data_smooth_python)):\n",
    "    data_smooth_python[i] = smooth(data_smooth_python[i], N)\n",
    "data_raw_java = read_data('plugins/ref_matching_eval_artificial_java')\n",
    "data_smooth_java = list(data_raw_java)\n",
    "data_smooth_java[0] = data_smooth_java[0][(N-1):]\n",
    "for i in range(1, len(data_smooth_java)):\n",
    "    data_smooth_java[i] = smooth(data_smooth_java[i], N)\n",
    "\n",
    "plt.rcParams.update({'font.size': 12})\n",
    "f, axes = plt.subplots(2, 2, sharey=True, figsize=(12, 8))\n",
    "plot_eval(data_raw_python, axes[0,0], title='Python impl', ylabel='Raw', xticks=False)\n",
    "plot_eval(data_raw_java, axes[0,1], title='Java impl', xticks=False, legend=True)\n",
    "plot_eval(data_smooth_python, axes[1,0], ylabel='Smoothed')\n",
    "plot_eval(data_smooth_java, axes[1,1])"
   ]
  },
  {
   "cell_type": "markdown",
   "metadata": {},
   "source": [
    "## Thresholds"
   ]
  },
  {
   "cell_type": "markdown",
   "metadata": {},
   "source": [
    "### Real data"
   ]
  },
  {
   "cell_type": "code",
   "execution_count": null,
   "metadata": {},
   "outputs": [],
   "source": [
    "def plot_threshold(data, plt, title=''):\n",
    "    plt.plot(data[0], data[1], color='#3eb1c8')\n",
    "    plt.set_title(title)\n",
    "    for tick in plt.get_xticklabels():\n",
    "        tick.set_rotation(90)\n",
    "\n",
    "data_raw = read_data('plugins/ref_matching_threshold_real')\n",
    "N = 9\n",
    "data_smooth = list(data_raw)\n",
    "data_smooth[0] = data_smooth[0][(N-1):]\n",
    "for i in range(1, len(data_smooth)):\n",
    "    data_smooth[i] = smooth(data_smooth[i], N)\n",
    "\n",
    "plt.rcParams.update({'font.size': 12})\n",
    "f, axes = plt.subplots(1, 2, sharey=True, figsize=(12, 4))\n",
    "plot_threshold(data_raw, axes[0], title='Raw')\n",
    "plot_threshold(data_smooth, axes[1], title='Smoothed')"
   ]
  },
  {
   "cell_type": "markdown",
   "metadata": {},
   "source": [
    "### Artificial data"
   ]
  },
  {
   "cell_type": "code",
   "execution_count": null,
   "metadata": {},
   "outputs": [],
   "source": [
    "data_raw = read_data('plugins/ref_matching_threshold_artificial')\n",
    "N = 10\n",
    "data_smooth = list(data_raw)\n",
    "data_smooth[0] = data_smooth[0][(N-1):]\n",
    "for i in range(1, len(data_smooth)):\n",
    "    data_smooth[i] = smooth(data_smooth[i], N)\n",
    "\n",
    "f, axes = plt.subplots(1, 2, sharey=True, figsize=(12, 4))\n",
    "plot_threshold(data_raw, axes[0], title='Raw')\n",
    "plot_threshold(data_smooth, axes[1], title='Smoothed')"
   ]
  }
 ],
 "metadata": {
  "kernelspec": {
   "display_name": "Python 3",
   "language": "python",
   "name": "python3"
  },
  "language_info": {
   "codemirror_mode": {
    "name": "ipython",
    "version": 3
   },
   "file_extension": ".py",
   "mimetype": "text/x-python",
   "name": "python",
   "nbconvert_exporter": "python",
   "pygments_lexer": "ipython3",
   "version": "3.6.6"
  }
 },
 "nbformat": 4,
 "nbformat_minor": 2
}
