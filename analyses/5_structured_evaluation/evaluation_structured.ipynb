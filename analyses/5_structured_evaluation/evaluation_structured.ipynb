{
 "cells": [
  {
   "cell_type": "markdown",
   "metadata": {},
   "source": [
    "# Evaluation of SBMV for structured references\n",
    "\n",
    "Dominika Tkaczyk\n",
    "\n",
    "5.05.2019\n",
    "\n",
    "This analysis contains the evaluation of the search-based matching algorithms for structured references."
   ]
  },
  {
   "cell_type": "markdown",
   "metadata": {},
   "source": [
    "## Methodology\n",
    "\n",
    "The test dataset is composed of 2,000 randomly chosen structured references. Three algorithms are compared:\n",
    "  * the legacy approach (OpenURL)\n",
    "  * Search-Based Matching\n",
    "  * Search-Based Matching with Validation"
   ]
  },
  {
   "cell_type": "markdown",
   "metadata": {},
   "source": [
    "## Results"
   ]
  },
  {
   "cell_type": "code",
   "execution_count": 1,
   "metadata": {},
   "outputs": [],
   "source": [
    "import sys\n",
    "sys.path.append('../..')\n",
    "\n",
    "%matplotlib inline\n",
    "\n",
    "import matplotlib.pyplot as plt\n",
    "import numpy as np\n",
    "import re\n",
    "import utils.data_format_keys as dfk\n",
    "\n",
    "from dataset.dataset_utils import get_target_test_doi, get_target_gt_doi\n",
    "from evaluation.link_metrics import LinkMetricsResults\n",
    "from scipy.stats import chi2_contingency\n",
    "from utils.utils import read_json\n",
    "from utils.cr_utils import generate_unstructured\n",
    "\n",
    "DATA_DIR = 'data/'"
   ]
  },
  {
   "cell_type": "markdown",
   "metadata": {},
   "source": [
    "Read the datasets:"
   ]
  },
  {
   "cell_type": "code",
   "execution_count": 2,
   "metadata": {},
   "outputs": [
    {
     "name": "stdout",
     "output_type": "stream",
     "text": [
      "Dataset size: 2000\n"
     ]
    }
   ],
   "source": [
    "dataset_ou = read_json(DATA_DIR + 'dataset_ou.json')[dfk.DATASET_DATASET]\n",
    "dataset_sbm = read_json(DATA_DIR + 'dataset_sbm.json')[dfk.DATASET_DATASET]\n",
    "dataset_sbmv = read_json(DATA_DIR + 'dataset_sbmv.json')[dfk.DATASET_DATASET]\n",
    "print('Dataset size: {}'.format(len(dataset_sbm)))"
   ]
  },
  {
   "cell_type": "markdown",
   "metadata": {},
   "source": [
    "This function modifies the dataset according to the threshold:"
   ]
  },
  {
   "cell_type": "code",
   "execution_count": 3,
   "metadata": {},
   "outputs": [],
   "source": [
    "def modify_validation_threshold(dataset, threshold):\n",
    "    for item in dataset:\n",
    "        if item[dfk.DATASET_SCORE] is not None and item[dfk.DATASET_SCORE] < threshold:\n",
    "            item[dfk.DATASET_TARGET_TEST][dfk.CR_ITEM_DOI] = None\n",
    "    return dataset\n",
    "\n",
    "def modify_relevance_threshold(dataset, threshold):\n",
    "    for item in dataset:\n",
    "        if item[dfk.DATASET_SCORE] is not None \\\n",
    "            and item[dfk.DATASET_SCORE]/len(generate_unstructured(item[dfk.DATASET_REFERENCE])) < threshold:\n",
    "            item[dfk.DATASET_TARGET_TEST][dfk.CR_ITEM_DOI] = None\n",
    "    return dataset"
   ]
  },
  {
   "cell_type": "markdown",
   "metadata": {},
   "source": [
    "Let's calculate SBM's and SBMV's results for different thresholds:"
   ]
  },
  {
   "cell_type": "code",
   "execution_count": 4,
   "metadata": {},
   "outputs": [],
   "source": [
    "dataset_sbm = modify_relevance_threshold(dataset_sbm, 0.46)\n",
    "dataset_sbmv = modify_validation_threshold(dataset_sbmv, 0.78)"
   ]
  },
  {
   "cell_type": "markdown",
   "metadata": {},
   "source": [
    "The results of OpenURL:"
   ]
  },
  {
   "cell_type": "code",
   "execution_count": 5,
   "metadata": {},
   "outputs": [
    {
     "name": "stdout",
     "output_type": "stream",
     "text": [
      "OpenURL precision: 0.9516 (CI at 95% 0.9397-0.9634)\n",
      "OpenURL recall: 0.9244 (CI at 95% 0.9101-0.9388)\n",
      "OpenURL F1: 0.9378\n"
     ]
    }
   ],
   "source": [
    "def print_summary(dataset, name):\n",
    "    link_results = LinkMetricsResults(dataset)\n",
    "    print('{} precision: {:.4f} (CI at 95% {:.4f}-{:.4f})'\n",
    "          .format(name, link_results.get(dfk.EVAL_PREC),\n",
    "                  link_results.get(dfk.EVAL_CI_PREC)[0], link_results.get(dfk.EVAL_CI_PREC)[1]))\n",
    "    print('{} recall: {:.4f} (CI at 95% {:.4f}-{:.4f})'\n",
    "          .format(name, link_results.get(dfk.EVAL_REC),\n",
    "                  link_results.get(dfk.EVAL_CI_REC)[0], link_results.get(dfk.EVAL_CI_REC)[1]))\n",
    "    print('{} F1: {:.4f}'.format(name, link_results.get(dfk.EVAL_F1)))\n",
    "\n",
    "print_summary(dataset_ou, 'OpenURL')"
   ]
  },
  {
   "cell_type": "markdown",
   "metadata": {},
   "source": [
    "The results of SBM:"
   ]
  },
  {
   "cell_type": "code",
   "execution_count": 6,
   "metadata": {},
   "outputs": [
    {
     "name": "stdout",
     "output_type": "stream",
     "text": [
      "SBM precision: 0.6304 (CI at 95% 0.6080-0.6528)\n",
      "SBM recall: 0.8666 (CI at 95% 0.8481-0.8851)\n",
      "SBM F1: 0.7299\n"
     ]
    }
   ],
   "source": [
    "print_summary(dataset_sbm, 'SBM')"
   ]
  },
  {
   "cell_type": "markdown",
   "metadata": {},
   "source": [
    "The results of SBMV:"
   ]
  },
  {
   "cell_type": "code",
   "execution_count": 7,
   "metadata": {},
   "outputs": [
    {
     "name": "stdout",
     "output_type": "stream",
     "text": [
      "SBMV precision: 0.9446 (CI at 95% 0.9321-0.9570)\n",
      "SBMV recall: 0.9460 (CI at 95% 0.9337-0.9583)\n",
      "SBMV F1: 0.9453\n"
     ]
    }
   ],
   "source": [
    "print_summary(dataset_sbmv, 'SBMV')"
   ]
  },
  {
   "cell_type": "markdown",
   "metadata": {},
   "source": [
    "Let's use a statistical test to check whether the differences in precision and recall between the legacy approach and SBMV are statistically significant:"
   ]
  },
  {
   "cell_type": "code",
   "execution_count": 8,
   "metadata": {},
   "outputs": [
    {
     "name": "stdout",
     "output_type": "stream",
     "text": [
      "precision p-value: 0.4776 (this is not statistically significant)\n",
      "recall p-value: 0.0312 (this is statistically significant)\n"
     ]
    }
   ],
   "source": [
    "for metric in [dfk.EVAL_PREC, dfk.EVAL_REC]:\n",
    "    fun = get_target_test_doi if metric == dfk.EVAL_PREC else get_target_gt_doi\n",
    "    ou_results = LinkMetricsResults(dataset_ou)\n",
    "    ou_precision = ou_results.get(metric)\n",
    "    ou_test_count = len([d for d in dataset_ou if fun(d) is not None])\n",
    "    ou_precision_success = int(ou_precision * ou_test_count)\n",
    "\n",
    "    sbmv_results = LinkMetricsResults(dataset_sbmv)\n",
    "    sbmv_precision = sbmv_results.get(metric)\n",
    "    sbmv_test_count = len([d for d in dataset_sbmv if fun(d) is not None])\n",
    "    sbmv_precision_success = int(sbmv_precision * sbmv_test_count)\n",
    "\n",
    "    _, p, _, _ = chi2_contingency(np.array([[ou_precision_success,\n",
    "                                             ou_test_count-ou_precision_success],\n",
    "                                           [sbmv_precision_success,\n",
    "                                            sbmv_test_count-sbmv_precision_success]]),\n",
    "                                  correction=True)\n",
    "    c = 'this is statistically significant' if p < 0.05 \\\n",
    "        else 'this is not statistically significant'\n",
    "    print('{} p-value: {:.4f} ({})'.format(metric, p, c))"
   ]
  },
  {
   "cell_type": "markdown",
   "metadata": {},
   "source": [
    "Let's compare the algorithms in one plot:"
   ]
  },
  {
   "cell_type": "code",
   "execution_count": 9,
   "metadata": {},
   "outputs": [],
   "source": [
    "def get_means(dataset):\n",
    "    results = LinkMetricsResults(dataset)\n",
    "    return [results.get(m) for m in [dfk.EVAL_PREC, dfk.EVAL_REC, dfk.EVAL_F1]]\n",
    "\n",
    "def get_ci(dataset):\n",
    "    results = LinkMetricsResults(dataset)\n",
    "    ms = [results.get(m) for m in [dfk.EVAL_PREC, dfk.EVAL_REC]]\n",
    "    return [[a-results.get(m)[0] for m, a in zip([dfk.EVAL_CI_PREC, dfk.EVAL_CI_REC], ms)] + [0],\n",
    "            [results.get(m)[1]-a for m, a in zip([dfk.EVAL_CI_PREC, dfk.EVAL_CI_REC], ms)] + [0]]\n",
    "\n",
    "def autolabel(ax, rects):\n",
    "    plt.rcParams.update({'font.size': 14})\n",
    "    for rect in rects:\n",
    "        height = rect.get_height()\n",
    "        text = '{:.2f}'.format(height)\n",
    "        text = re.sub('\\.00$', '', text)\n",
    "        ax.text(rect.get_x() + rect.get_width()/2., 1.04*height, text, ha='center', va='bottom')"
   ]
  },
  {
   "cell_type": "code",
   "execution_count": 10,
   "metadata": {},
   "outputs": [
    {
     "data": {
      "image/png": "[encoded data removed]",
      "text/plain": [
       "<Figure size 864x648 with 1 Axes>"
      ]
     },
     "metadata": {
      "needs_background": "light"
     },
     "output_type": "display_data"
    }
   ],
   "source": [
    "ind = np.arange(3)\n",
    "width = 0.25\n",
    "plt.rcParams.update({'font.size': 16, 'legend.fontsize': 14}) \n",
    "fig, ax = plt.subplots(figsize=(12, 9))\n",
    "\n",
    "rects1 = ax.bar(ind - 0.5 * width, get_means(dataset_ou), yerr=get_ci(dataset_ou), width=width,\n",
    "                color='#d8d2c4')\n",
    "rects2 = ax.bar(ind + 0.5 * width, get_means(dataset_sbm), yerr=get_ci(dataset_sbm),\n",
    "                width=width, color='#4f5858')\n",
    "rects3 = ax.bar(ind + 1.5 * width, get_means(dataset_sbmv), yerr=get_ci(dataset_sbmv),\n",
    "                width=width, color='#3eb1c8')\n",
    "\n",
    "ax.set_ylabel('fraction')\n",
    "ax.set_xticks(ind + width / 2)\n",
    "ax.set_xticklabels(('precision', 'recall', 'F1'))\n",
    "plt.ylim(0, 1.25)\n",
    "plt.yticks([0, 0.2, 0.4, 0.6, 0.8, 1.0])\n",
    "ax.legend((rects1[0], rects2[0], rects3[0]), ('OpenURL', 'SBM', 'SBMV'))\n",
    "autolabel(ax, rects1)\n",
    "autolabel(ax, rects2)\n",
    "autolabel(ax, rects3)\n",
    "\n",
    "plt.show() "
   ]
  }
 ],
 "metadata": {
  "kernelspec": {
   "display_name": "Python 3",
   "language": "python",
   "name": "python3"
  },
  "language_info": {
   "codemirror_mode": {
    "name": "ipython",
    "version": 3
   },
   "file_extension": ".py",
   "mimetype": "text/x-python",
   "name": "python",
   "nbconvert_exporter": "python",
   "pygments_lexer": "ipython3",
   "version": "3.6.7"
  }
 },
 "nbformat": 4,
 "nbformat_minor": 2
}
