{
 "cells": [
  {
   "cell_type": "markdown",
   "metadata": {},
   "source": [
    "# Comparing existing and new links\n",
    "\n",
    "Dominika Tkaczyk\n",
    "\n",
    "13.10.2018\n",
    "\n",
    "In this analysis I examine how the links existing in the live system compare to the links currently returned by both STQ and SBM algorithms.\n",
    "\n",
    "For the comparison of the two algorithms on automatically generated reference strings, see [this notebook](https://github.com/CrossRef/reference-matching-evaluation/blob/master/analyses/comparison.ipynb)."
   ]
  },
  {
   "cell_type": "markdown",
   "metadata": {},
   "source": [
    "## TL;DR\n",
    "\n",
    "  * I examined 1000 random reference strings from the live system. For each one I keep:\n",
    "    * original link (currently in the system)\n",
    "    * STQ link (the link returned by STQ form)\n",
    "    * SBM link (the link returned by SBM algorithm)\n",
    "  * 46% of reference strings are currently unmatched in the system:\n",
    "    * of those unmatched, in 32% cases STQ returned DOI\n",
    "    * of those unmatched, in 30% cases STQ DOI is the same as SBM (almost every DOI returned by STQ was \"confirmed\" by SBM)\n",
    "    * according to the estimations, when STQ did not give any answer, SA was correct in 16% cases\n",
    "  * The remaining 54% of reference strings are currently matched in the system:\n",
    "    * of those matched, in 89% cases all three links are the same; this confirms high agreement of STQ and SBM\n",
    "    * of those matched, in 6% of the references STQ link is missing, but the original link is the same as SBM\n",
    "    * of those matched, in 4% of the cases SBM link is incorrect; the most common causes are:\n",
    "      * a short reference string without the title\n",
    "      * choosing a document closely related to the real target, such that usually contains all the real target's metadata, such as a review or a chapter instead of the book\n",
    "  * The highest level of agreement between the links is obtained for the thresholds:\n",
    "    * simple threshold 67: in 64.6% of the cases all links agree and in 82.5% of the cases SBM link is equal to either original or new STQ link\n",
    "    * normalized threshold 0.46: in 67.5% of the cases all links agree and in 85.2% of the cases SBM link is equal to either original or new STQ link"
   ]
  },
  {
   "cell_type": "markdown",
   "metadata": {},
   "source": [
    "## Methodology\n",
    "\n",
    "The following procedure was used to gather the data for this experiment:\n",
    "1. A random sample of 5000 items was extracted from the system.\n",
    "2. I iterated over all references in the sampled items, and extracted all 6289 unstructured references (reference strings).\n",
    "3. I sampled 1000 unstructured references from them and ran both STQ and SBM algorithms on them.\n",
    "4. I examined the differences between the links."
   ]
  },
  {
   "cell_type": "markdown",
   "metadata": {},
   "source": [
    "## Results"
   ]
  },
  {
   "cell_type": "code",
   "execution_count": 1,
   "metadata": {},
   "outputs": [],
   "source": [
    "import sys\n",
    "sys.path.append('..')\n",
    "\n",
    "%matplotlib inline\n",
    "\n",
    "import json\n",
    "import matplotlib.pyplot as plt\n",
    "import numpy as np\n",
    "import re\n",
    "import utils.data_format_keys as dfk\n",
    "\n",
    "from utils.utils import read_json, save_json\n",
    "\n",
    "DATA_DIR = '../data/existing_links/'"
   ]
  },
  {
   "cell_type": "markdown",
   "metadata": {},
   "source": [
    "Let's read the data:"
   ]
  },
  {
   "cell_type": "code",
   "execution_count": 2,
   "metadata": {},
   "outputs": [
    {
     "name": "stdout",
     "output_type": "stream",
     "text": [
      "{\n",
      "    \"source_DOI\": \"10.1186/s12879-018-3375-3\",\n",
      "    \"ref_string\": \"Rocha LA, Ferreira de Almeida EBL, Gontijo Filho PP. Changes in hands microbiota associated with skin damage because of hand hygiene procedures on the health care workers. Am J Infect Control. 2009;37(2):155\\u20139.\",\n",
      "    \"original_link\": \"10.1016/j.ajic.2008.04.251\",\n",
      "    \"current_STQ_link\": \"10.1016/j.ajic.2008.04.251\",\n",
      "    \"search_API_link\": \"10.1016/j.ajic.2008.04.251\",\n",
      "    \"search_API_score\": 108.036255,\n",
      "    \"reason\": \"all links agree\"\n",
      "}\n"
     ]
    }
   ],
   "source": [
    "data = read_json(DATA_DIR + 'sample_1000_reasons.json')\n",
    "orig_link = 'original_link'\n",
    "stq_link = 'current_STQ_link'\n",
    "sbm_link = 'search_API_link'\n",
    "print(json.dumps(data[0], indent=4))"
   ]
  },
  {
   "cell_type": "markdown",
   "metadata": {},
   "source": [
    "For each reference, I keep the following information:\n",
    "  * source DOI\n",
    "  * reference string\n",
    "  * original link: link currently existing in the system, can be null\n",
    "  * current STQ link: link obtained from STQ, can be null\n",
    "  * search API link: link obtained from SBM, can be null\n",
    "  * search API score: relevance score from SBM\n",
    "\n",
    "### Null original link\n",
    "\n",
    "The first category we will explore are references currently not matched to any target document in the system. How many references don't have the original link?"
   ]
  },
  {
   "cell_type": "code",
   "execution_count": 3,
   "metadata": {},
   "outputs": [
    {
     "name": "stdout",
     "output_type": "stream",
     "text": [
      "Null original link: 458\n"
     ]
    }
   ],
   "source": [
    "data_orig_null = [d for d in data if d[orig_link] is None]\n",
    "print('Null original link: {}'.format(len(data_orig_null)))"
   ]
  },
  {
   "cell_type": "markdown",
   "metadata": {},
   "source": [
    "45.8% of reference strings in our sample are not linked to anything. In how many cases we have a new STQ link?"
   ]
  },
  {
   "cell_type": "code",
   "execution_count": 4,
   "metadata": {},
   "outputs": [
    {
     "name": "stdout",
     "output_type": "stream",
     "text": [
      "Null original link, STQ link exists: 146\n"
     ]
    }
   ],
   "source": [
    "data_orig_null_stq_exists = [d for d in data_orig_null if d[stq_link] is not None]\n",
    "print('Null original link, STQ link exists: {}'.format(len(data_orig_null_stq_exists)))"
   ]
  },
  {
   "cell_type": "markdown",
   "metadata": {},
   "source": [
    "In 32% of references with null original link we have the new STQ link. And how many of those have the same SBM link?"
   ]
  },
  {
   "cell_type": "code",
   "execution_count": 5,
   "metadata": {},
   "outputs": [
    {
     "name": "stdout",
     "output_type": "stream",
     "text": [
      "Null original link; STQ and SBM agree: 139\n"
     ]
    }
   ],
   "source": [
    "data_orig_null_sbm_stq_equal = [d for d in data_orig_null if d[stq_link] is not None and d[stq_link] == d[sbm_link]]\n",
    "print('Null original link; STQ and SBM agree: {}'.format(len(data_orig_null_sbm_stq_equal)))"
   ]
  },
  {
   "cell_type": "markdown",
   "metadata": {},
   "source": [
    "It seems there is a high agreement between STQ and SBM, almost all new STQ links were \"confirmed\" by SBM.\n",
    "\n",
    "We are left with 319 cases, in which the original link is null and STQ and SBM links differ. I manually inspected a sample of them and provided an explanation of what happened. This function will show the distribution of those explanations (\"comments\"):"
   ]
  },
  {
   "cell_type": "code",
   "execution_count": 6,
   "metadata": {},
   "outputs": [],
   "source": [
    "def summarize_comments(data):\n",
    "    comments = [d['reason'] for d in data]\n",
    "    comments = list(set([(r, comments.count(r)) for r in comments]))\n",
    "    comments.sort(key=lambda x: x[1], reverse=True) \n",
    "    return comments "
   ]
  },
  {
   "cell_type": "markdown",
   "metadata": {},
   "source": [
    "The distribution of the explanations of the cases where original link is null and SBM and STQ links disagree:"
   ]
  },
  {
   "cell_type": "code",
   "execution_count": 7,
   "metadata": {},
   "outputs": [
    {
     "data": {
      "text/plain": [
       "[('original link null; STQ link null; SBM link not inspected', 185),\n",
       " ('original link null; STQ link null; SBM link incorrect', 104),\n",
       " ('original link null; STQ link null; SBM link correct', 20),\n",
       " ('original link null; STQ link null; SBM links to a review', 3),\n",
       " ('original link null; STQ and SBM disagree; same landing page', 2),\n",
       " ('original link null; STQ and SBM disagree; SBM links to a chapter', 1),\n",
       " ('original link null; STQ and SBM disagree; SBM correct', 1),\n",
       " ('original link null; STQ and SBM disagree, SBM link broken', 1),\n",
       " ('original link null; STQ and SBM disagree; SBM link incorrect', 1),\n",
       " ('original link null; STQ and SBM disagree; same metadata', 1)]"
      ]
     },
     "execution_count": 7,
     "metadata": {},
     "output_type": "execute_result"
    }
   ],
   "source": [
    "data_orig_null_sbm_stq_disagree = [d for d in data_orig_null if d[stq_link] != d[sbm_link]]\n",
    "summarize_comments(data_orig_null_sbm_stq_disagree)"
   ]
  },
  {
   "cell_type": "markdown",
   "metadata": {},
   "source": [
    "We have the following cases:\n",
    "  * 185: only SBM link present; not inspected manually\n",
    "  * 107: only SBM link present and incorrect \n",
    "  * 20: only SBM present and correct\n",
    "  * 3: STQ and SBM links disagree, but the either the landing pages or the document metadata are the same\n",
    "  * 4: other cases\n",
    "\n",
    "### All links agree\n",
    "\n",
    "How many cases we have, in which all three links agree?"
   ]
  },
  {
   "cell_type": "code",
   "execution_count": 8,
   "metadata": {},
   "outputs": [
    {
     "name": "stdout",
     "output_type": "stream",
     "text": [
      "All links agree: 481\n"
     ]
    }
   ],
   "source": [
    "data_all_agree = [d for d in data\n",
    "                  if d[orig_link] is not None and d[orig_link] == d[stq_link] and d[sbm_link] == d[stq_link]]\n",
    "print('All links agree: {}'.format(len(data_all_agree)))"
   ]
  },
  {
   "cell_type": "markdown",
   "metadata": {},
   "source": [
    "Almost half of all the cases, and 89% of the cases with not null original link. This also confirms high agreement between STQ and SBM.\n",
    "\n",
    "### Original link is different\n",
    "\n",
    "In how many cases SBM link is the same as STQ link, but original link is not null and different?"
   ]
  },
  {
   "cell_type": "code",
   "execution_count": 9,
   "metadata": {},
   "outputs": [
    {
     "name": "stdout",
     "output_type": "stream",
     "text": [
      "Original link is different : 2\n"
     ]
    },
    {
     "data": {
      "text/plain": [
       "[('original link incorrect', 1), ('different version of the paper', 1)]"
      ]
     },
     "execution_count": 9,
     "metadata": {},
     "output_type": "execute_result"
    }
   ],
   "source": [
    "data_diff_orig = [d for d in data\n",
    "                  if d[orig_link] is not None and d[orig_link] != d[stq_link] and d[sbm_link] == d[stq_link]]\n",
    "print('Original link is different : {}'.format(len(data_diff_orig)))\n",
    "summarize_comments(data_diff_orig)"
   ]
  },
  {
   "cell_type": "markdown",
   "metadata": {},
   "source": [
    "Only 2 references:\n",
    "  * in one case the DOIs link to two different versions of the same paper\n",
    "  * in the second case the original link is incorrect\n",
    "  \n",
    "### STQ link is different\n",
    "  \n",
    "Now let's see the cases, where original and SBM links agree and STQ is different:"
   ]
  },
  {
   "cell_type": "code",
   "execution_count": 10,
   "metadata": {},
   "outputs": [
    {
     "name": "stdout",
     "output_type": "stream",
     "text": [
      "STQ link is different : 32\n"
     ]
    },
    {
     "data": {
      "text/plain": [
       "[('STQ link missing', 32)]"
      ]
     },
     "execution_count": 10,
     "metadata": {},
     "output_type": "execute_result"
    }
   ],
   "source": [
    "data_diff_stq = [d for d in data\n",
    "                 if d[orig_link] is not None and d[orig_link] != d[stq_link] and d[sbm_link] == d[orig_link]]\n",
    "print('STQ link is different : {}'.format(len(data_diff_stq)))\n",
    "summarize_comments(data_diff_stq)"
   ]
  },
  {
   "cell_type": "markdown",
   "metadata": {},
   "source": [
    "In all cases STQ link is simply missing.\n",
    "\n",
    "### SBM link is different\n",
    "\n",
    "How many cases we have, where SBM link is different from the other two?"
   ]
  },
  {
   "cell_type": "code",
   "execution_count": 11,
   "metadata": {},
   "outputs": [
    {
     "name": "stdout",
     "output_type": "stream",
     "text": [
      "SBT link is different : 24\n"
     ]
    },
    {
     "data": {
      "text/plain": [
       "[('SBM link incorrect', 14),\n",
       " ('same document (metadata)', 3),\n",
       " ('SBM links to a chapter', 2),\n",
       " ('same document (landing page)', 2),\n",
       " ('original link incorrect', 1),\n",
       " ('SBM links to a correction', 1),\n",
       " ('SBM links to one paper in conference proceedings', 1)]"
      ]
     },
     "execution_count": 11,
     "metadata": {},
     "output_type": "execute_result"
    }
   ],
   "source": [
    "data_diff_sbt = [d for d in data\n",
    "                if d[orig_link] is not None and d[orig_link] == d[stq_link] and d[sbm_link] != d[orig_link]]\n",
    "print('SBT link is different : {}'.format(len(data_diff_sbt)))\n",
    "summarize_comments(data_diff_sbt)"
   ]
  },
  {
   "cell_type": "markdown",
   "metadata": {},
   "source": [
    "Out of 24 cases:\n",
    "  * in 14 cases SBM link is incorrect (11 of those are strings not containing the title of the reference)\n",
    "  * in 5 the linked documents appear to be the same\n",
    "  * in 4 cases SBM links to a document related to the correct one, such as a chapter or a correction\n",
    "  * in 1 case the original link is incorrect\n",
    "\n",
    "### All three links are different"
   ]
  },
  {
   "cell_type": "code",
   "execution_count": 12,
   "metadata": {},
   "outputs": [
    {
     "name": "stdout",
     "output_type": "stream",
     "text": [
      "All links different : 3\n"
     ]
    },
    {
     "data": {
      "text/plain": [
       "[('STQ link missing; both link to a different chapter', 2),\n",
       " ('STQ link missing; SBM link incorrect', 1)]"
      ]
     },
     "execution_count": 12,
     "metadata": {},
     "output_type": "execute_result"
    }
   ],
   "source": [
    "data_diff_all = [d for d in data\n",
    "                 if d[orig_link] is not None and d[orig_link] != d[stq_link]\n",
    "                 and d[sbm_link] != d[orig_link] and d[stq_link] != d[sbm_link]]\n",
    "print('All links different : {}'.format(len(data_diff_all)))\n",
    "summarize_comments(data_diff_all)"
   ]
  },
  {
   "cell_type": "markdown",
   "metadata": {},
   "source": [
    "In all three cases STQ link is missing and SBT link is incorrect.\n",
    "\n",
    "### Overall distribution\n",
    "\n",
    "Finally, let's see the overall distribution of all 1000 cases:"
   ]
  },
  {
   "cell_type": "code",
   "execution_count": 13,
   "metadata": {},
   "outputs": [
    {
     "data": {
      "image/png": "[encoded data removed]",
      "text/plain": [
       "<Figure size 648x432 with 1 Axes>"
      ]
     },
     "metadata": {},
     "output_type": "display_data"
    }
   ],
   "source": [
    "labels = 'all links agree', 'STQ null; orig and SBM agree', 'orig null; STQ and SBM agree', \\\n",
    "         'orig and STQ null', 'other cases'\n",
    "sizes = [481, 32, 139, 312, 36]\n",
    "\n",
    "fig, ax = plt.subplots(figsize=(9,6))\n",
    "ax.pie(sizes, labels=labels, autopct='%1.1f%%', startangle=90,\n",
    "       colors=['#d8d2c4', '#4f5858', '#3eb1c8', '#ffc72c', '#ef3340'])\n",
    "ax.axis('equal')\n",
    "\n",
    "plt.show()"
   ]
  },
  {
   "cell_type": "markdown",
   "metadata": {},
   "source": [
    "### The rate of agreement vs. relevance threshold\n",
    "\n",
    "Let's also see how the relevance threshold affects the agreement between the links.\n",
    "\n",
    "These functions modify the dataset according to the threshold:"
   ]
  },
  {
   "cell_type": "code",
   "execution_count": 14,
   "metadata": {},
   "outputs": [],
   "source": [
    "def modify_simple_threshold(dataset, threshold):\n",
    "    for item in dataset:\n",
    "        if item['search_API_score'] < threshold:\n",
    "            item[sbm_link] = None\n",
    "    return dataset\n",
    "\n",
    "def modify_norm_threshold(dataset, threshold):\n",
    "    for item in dataset:\n",
    "        if item['search_API_score']/len(item['ref_string']) < threshold:\n",
    "            item[sbm_link] = None\n",
    "    return dataset"
   ]
  },
  {
   "cell_type": "markdown",
   "metadata": {},
   "source": [
    "get_category classifies an item from the dataset into one of the categories:\n",
    "  * *SBM = STQ = orig* (all links agree)\n",
    "  * *SBM = STQ =/= orig* (original link is different)\n",
    "  * *SBM = orig =/= STQ* (new STQ link is different)\n",
    "  * *SBM =/= STQ = orig* (SBM link is different)\n",
    "  * *other*\n",
    "\n",
    "Note that links are different if they point to different DOIs or only one of them is null."
   ]
  },
  {
   "cell_type": "code",
   "execution_count": 15,
   "metadata": {},
   "outputs": [],
   "source": [
    "def get_category(item):\n",
    "    if (item['reason'] == 'all links agree' and item[sbm_link] is not None) or \\\n",
    "        (item[sbm_link] == item[orig_link] and item[sbm_link] == item[stq_link]):\n",
    "        return 'SBM = STQ = orig'\n",
    "    if ('STQ correct' in item['reason'] and 'SBM correct' in item['reason'] and item[sbm_link] is not None) \\\n",
    "        or (item[sbm_link] != item[orig_link] and item[sbm_link] == item[stq_link]):\n",
    "        return 'SBM = STQ =/= orig'\n",
    "    if ('orig correct' in item['reason'] and 'SBM correct' in item['reason'] and item[sbm_link] is not None) \\\n",
    "        or (item[sbm_link] == item[orig_link] and item[sbm_link] != item[stq_link]):\n",
    "        return 'SBM = orig =/= STQ'\n",
    "    if ('STQ correct' in item['reason'] and 'orig correct' in item['reason']) \\\n",
    "        or (item[sbm_link] != item[orig_link] and item[orig_link] == item[stq_link]):\n",
    "        return 'SBM =/= STQ = orig'\n",
    "    return 'other'"
   ]
  },
  {
   "cell_type": "markdown",
   "metadata": {},
   "source": [
    "What happens with the categories in the dataset as we vary the simple threshold?"
   ]
  },
  {
   "cell_type": "code",
   "execution_count": 16,
   "metadata": {},
   "outputs": [
    {
     "data": {
      "image/png": "[encoded data removed]",
      "text/plain": [
       "<Figure size 432x288 with 1 Axes>"
      ]
     },
     "metadata": {
      "needs_background": "light"
     },
     "output_type": "display_data"
    }
   ],
   "source": [
    "data = read_json(DATA_DIR + 'sample_1000.json')\n",
    "data_categories = [[get_category(d) for d in modify_simple_threshold(data, t)] for t in np.arange(0, 100, 1)]\n",
    "categories = ['SBM = STQ = orig', 'SBM = STQ =/= orig', 'SBM = orig =/= STQ', 'SBM =/= STQ = orig', 'other']\n",
    "categories_counts = [[d.count(cat)/1000 for d in data_categories] for cat in categories]\n",
    "\n",
    "ind = np.arange(0, 100, 1)\n",
    "p1 = plt.bar(ind, categories_counts[0], width=1, color='#d8d2c4')\n",
    "p2 = plt.bar(ind, categories_counts[1], width=1, bottom=categories_counts[0], color='#4f5858')\n",
    "p3 = plt.bar(ind, categories_counts[2], width=1,\n",
    "             bottom=[c1+c2 for c1, c2 in zip(categories_counts[0],categories_counts[1])], color='#3eb1c8')\n",
    "p4 = plt.bar(ind, categories_counts[3], width=1,\n",
    "             bottom=[c1+c2+c3 for c1, c2, c3 in zip(categories_counts[0],categories_counts[1],categories_counts[2])],\n",
    "             color='#ffc72c')\n",
    "p5 = plt.bar(ind, categories_counts[4], width=1,\n",
    "             bottom=[c1+c2+c3+c4 for c1, c2, c3, c4 in zip(categories_counts[0],categories_counts[1],\n",
    "                                                           categories_counts[2],categories_counts[3])],\n",
    "             color='#ef3340')\n",
    "\n",
    "plt.xlabel('Simple threshold')\n",
    "plt.ylabel('Ref strings (%)')\n",
    "plt.legend((p1[0], p2[0], p3[0], p4[0], p5[0]), categories, bbox_to_anchor=(1.05, 1.03))\n",
    "\n",
    "plt.show()"
   ]
  },
  {
   "cell_type": "markdown",
   "metadata": {},
   "source": [
    "Based on this, the best simple threshold is 67. For this threshold, all links agree in 646 cases and in additional 179 cases SBM link is equal to either original or new STQ link. In total, SBM link agrees with original or new STQ link in 82.5% cases.\n",
    "\n",
    "What happens with the categories in the dataset as we vary the normalized threshold?"
   ]
  },
  {
   "cell_type": "code",
   "execution_count": 17,
   "metadata": {},
   "outputs": [
    {
     "data": {
      "image/png": "[encoded data removed]",
      "text/plain": [
       "<Figure size 432x288 with 1 Axes>"
      ]
     },
     "metadata": {
      "needs_background": "light"
     },
     "output_type": "display_data"
    }
   ],
   "source": [
    "data = read_json(DATA_DIR + 'sample_1000.json')\n",
    "data_categories = [[get_category(d) for d in modify_norm_threshold(data, t)] for t in np.arange(0.0, 1.0, 0.01)]\n",
    "categories_counts = [[d.count(cat)/1000 for d in data_categories] for cat in categories]\n",
    "\n",
    "ind = np.arange(0.0, 1.0, 0.01)\n",
    "p1 = plt.bar(ind, categories_counts[0], width=0.01, color='#d8d2c4')\n",
    "p2 = plt.bar(ind, categories_counts[1], width=0.01, bottom=categories_counts[0], color='#4f5858')\n",
    "p3 = plt.bar(ind, categories_counts[2], width=0.01,\n",
    "             bottom=[c1+c2 for c1, c2 in zip(categories_counts[0],categories_counts[1])], color='#3eb1c8')\n",
    "p4 = plt.bar(ind, categories_counts[3], width=0.01,\n",
    "             bottom=[c1+c2+c3 for c1, c2, c3 in zip(categories_counts[0],categories_counts[1],categories_counts[2])],\n",
    "             color='#ffc72c')\n",
    "p5 = plt.bar(ind, categories_counts[4], width=0.01,\n",
    "             bottom=[c1+c2+c3+c4 for c1, c2, c3, c4 in zip(categories_counts[0],categories_counts[1],\n",
    "                                                           categories_counts[2],categories_counts[3])],\n",
    "             color='#ef3340')\n",
    "\n",
    "plt.xlabel('Normalized threshold')\n",
    "plt.ylabel('Ref strings (%)')\n",
    "plt.legend((p1[0], p2[0], p3[0], p4[0], p5[0]), categories, bbox_to_anchor=(1.05, 1.03))\n",
    "\n",
    "plt.show()"
   ]
  },
  {
   "cell_type": "markdown",
   "metadata": {},
   "source": [
    "Based on this, the best normalized threshold is 0.46. For this threshold, all links agree in 675 cases and in additional 177 cases SBM link is equal to either original or new STQ link. In total, SBM link agrees with original or new STQ link in 85.2% of the cases. Note that the agreement for the best normalized threshold is higher than in the case of the simple threshold.\n",
    "\n",
    "Let's now apply the normalized threshold of 0.46 (the best value) and look more closely at the disagreements between links.\n",
    "\n",
    "First, let's check those cases where the original link is different than the other two:"
   ]
  },
  {
   "cell_type": "code",
   "execution_count": 18,
   "metadata": {},
   "outputs": [
    {
     "data": {
      "text/plain": [
       "[('orig null, STQ correct, SBM correct', 133),\n",
       " ('STQ null, orig incorrect, SBM null', 3),\n",
       " ('STQ null, orig correct, SBM null', 3)]"
      ]
     },
     "execution_count": 18,
     "metadata": {},
     "output_type": "execute_result"
    }
   ],
   "source": [
    "data = read_json(DATA_DIR + 'sample_1000.json')\n",
    "modify_norm_threshold(data, 0.46)\n",
    "[d.update({'reason': re.sub('SBM [a-z]+', 'SBM null', d['reason'])}) for d in data if d[sbm_link] is None]\n",
    "[d.update({'reason': re.sub('all links agree', 'orig correct, STQ correct, SBM null', d['reason'])}) for d in data\n",
    " if d[sbm_link] is None]\n",
    "data_orig_different = [d for d in data if get_category(d) == 'SBM = STQ =/= orig']\n",
    "summarize_comments(data_orig_different)"
   ]
  },
  {
   "cell_type": "markdown",
   "metadata": {},
   "source": [
    "In most cases the original link is missing. This might be related to new documents appearing in the system and not linked yet by the backlog processing.\n",
    "\n",
    "The next category is \"new STQ link is different than the other two\":"
   ]
  },
  {
   "cell_type": "code",
   "execution_count": 19,
   "metadata": {},
   "outputs": [
    {
     "data": {
      "text/plain": [
       "[('STQ null, orig correct, SBM correct', 27),\n",
       " ('orig null, STQ correct, SBM null', 9),\n",
       " ('STQ null, orig correct, SBM incorrect', 2)]"
      ]
     },
     "execution_count": 19,
     "metadata": {},
     "output_type": "execute_result"
    }
   ],
   "source": [
    "data_stq_different = [d for d in data if get_category(d) == 'SBM = orig =/= STQ']\n",
    "summarize_comments(data_stq_different)"
   ]
  },
  {
   "cell_type": "markdown",
   "metadata": {},
   "source": [
    "Not a lot of cases here. The most common is when original and SBM links are correct, and new STQ link is null.\n",
    "\n",
    "Now let's inspect those cases, where SBM is different from the other two:"
   ]
  },
  {
   "cell_type": "code",
   "execution_count": 20,
   "metadata": {},
   "outputs": [
    {
     "data": {
      "text/plain": [
       "[('orig null, STQ null, SBM incorrect', 49),\n",
       " ('orig correct, STQ correct, SBM null', 47),\n",
       " ('orig null, STQ null, SBM correct', 36),\n",
       " ('orig correct, STQ correct, SBM incorrect', 9),\n",
       " ('orig incorrect, STQ incorrect, SBM incorrect', 2)]"
      ]
     },
     "execution_count": 20,
     "metadata": {},
     "output_type": "execute_result"
    }
   ],
   "source": [
    "data_sbm_different = [d for d in data if get_category(d) == 'SBM =/= STQ = orig']\n",
    "summarize_comments(data_sbm_different)"
   ]
  },
  {
   "cell_type": "markdown",
   "metadata": {},
   "source": [
    "This is the biggest group. The most common cases are: both original and STQ links are null, and SBM exists (correct or incorrect), and both original and STQ links are correct and SBM is null.\n",
    "\n",
    "Finally, the \"other\" category:"
   ]
  },
  {
   "cell_type": "code",
   "execution_count": 21,
   "metadata": {},
   "outputs": [
    {
     "data": {
      "text/plain": [
       "[('orig null, STQ correct, SBM incorrect', 2),\n",
       " ('orig null, STQ incorrect, SBM correct', 1),\n",
       " ('orig null, STQ incorrect, SBM incorrect', 1),\n",
       " ('orig incorrect, STQ correct, SBM null', 1)]"
      ]
     },
     "execution_count": 21,
     "metadata": {},
     "output_type": "execute_result"
    }
   ],
   "source": [
    "data_other = [d for d in data if get_category(d) == 'other']\n",
    "summarize_comments(data_other)"
   ]
  },
  {
   "cell_type": "markdown",
   "metadata": {},
   "source": [
    "Only 5 cases in total.\n",
    "\n",
    "In summary, for the normalized threshold of 0.46 we have the following:\n",
    "  * all links agree in 675 cases\n",
    "  * in 200 cases there are some differences and SBM link is correct\n",
    "  * in 125 cases there are some differences and SBM link is incorrect\n",
    "\n",
    "### Precision and recall vs. relevance threshold\n",
    "\n",
    "Finally, let's see how precision and recall of the original and new STQ compare to SBM on out 1000 reference strings. The values reported here are only approximate, because we did not inspect manually all links. We assume that a link returned by both original and SBM, or STQ and SBM, is correct. The cases with differences were inspected manually. If none of the three links is correct, we also assume the target document doesn't exist.\n",
    "\n",
    "This function will calculate the precision and recall values for all types of links:"
   ]
  },
  {
   "cell_type": "code",
   "execution_count": 22,
   "metadata": {},
   "outputs": [],
   "source": [
    "def plot_data(dataset):\n",
    "    sbm_correct = len([d for d in dataset if (d[sbm_link] is not None and d['reason'] == 'all links agree') or\n",
    "                      (d[sbm_link] is not None and \"SBM correct\" in d['reason'])]) \n",
    "    sbm_exist = len([d for d in dataset if d[sbm_link] is not None])\n",
    "    orig_correct = len([d for d in dataset if (d[orig_link] is not None and d['reason'] == 'all links agree') or\n",
    "                   (d[orig_link] is not None and 'orig correct' in d['reason'])])\n",
    "    orig_exist = len([d for d in dataset if d[orig_link] is not None])\n",
    "    stq_correct = len([d for d in dataset if (d[stq_link] is not None and d['reason'] == 'all links agree') or\n",
    "                   (d[stq_link] is not None and 'STQ correct' in d['reason'])])\n",
    "    stq_exist = len([d for d in dataset if d[stq_link] is not None])\n",
    "    gt = len([d for d in dataset if d['reason'] == 'all links agree' or ' correct' in d['reason']])\n",
    "    \n",
    "    return sbm_correct/sbm_exist, sbm_correct/gt, \\\n",
    "        orig_correct/orig_exist, orig_correct/gt, \\\n",
    "        stq_correct/stq_exist, stq_correct/gt"
   ]
  },
  {
   "cell_type": "markdown",
   "metadata": {},
   "source": [
    "Let's plot all precisions and recalls vs. STQ's simple threshold (of course the threshold does not affect original and STQ's numbers):"
   ]
  },
  {
   "cell_type": "code",
   "execution_count": 23,
   "metadata": {},
   "outputs": [
    {
     "data": {
      "image/png": "[encoded data removed]",
      "text/plain": [
       "<Figure size 432x288 with 1 Axes>"
      ]
     },
     "metadata": {
      "needs_background": "light"
     },
     "output_type": "display_data"
    }
   ],
   "source": [
    "data = read_json(DATA_DIR + 'sample_1000.json')\n",
    "\n",
    "thresholds = np.arange(0, 150, 1)\n",
    "results = [plot_data(modify_simple_threshold(data, t)) for t in thresholds]\n",
    "plt.plot(thresholds, results)\n",
    "plt.legend(['SBM precision', 'SBM recall', 'original precision', 'original recall',\n",
    "            'STQ precision', 'STQ recall'])\n",
    "plt.ylim((0,1.05))\n",
    "plt.xlabel('Simple threshold')\n",
    "plt.show()"
   ]
  },
  {
   "cell_type": "markdown",
   "metadata": {},
   "source": [
    "And the same for the normalized threshold:"
   ]
  },
  {
   "cell_type": "code",
   "execution_count": 24,
   "metadata": {},
   "outputs": [
    {
     "data": {
      "image/png": "[encoded data removed]",
      "text/plain": [
       "<Figure size 432x288 with 1 Axes>"
      ]
     },
     "metadata": {
      "needs_background": "light"
     },
     "output_type": "display_data"
    }
   ],
   "source": [
    "data = read_json(DATA_DIR + 'sample_1000.json')\n",
    "\n",
    "thresholds = np.arange(0, 1, .01)\n",
    "results = [plot_data(modify_norm_threshold(data, t)) for t in thresholds]\n",
    "plt.plot(thresholds, results)\n",
    "plt.legend(['SBM precision', 'SBM recall', 'original precision', 'original recall',\n",
    "            'STQ precision', 'STQ recall'])\n",
    "plt.ylim((0,1.05))\n",
    "plt.xlabel('Normalized threshold')\n",
    "plt.show()"
   ]
  },
  {
   "cell_type": "markdown",
   "metadata": {},
   "source": [
    "Both original and STQ's precisions are very high. We have only a few cases where original or STQ link is incorrect. As a result, matching their precision with SBM algorithm requires very high values of the threshold, and at the same time causes the recall to drop significantly below STQ's recall."
   ]
  }
 ],
 "metadata": {
  "kernelspec": {
   "display_name": "Python 3",
   "language": "python",
   "name": "python3"
  },
  "language_info": {
   "codemirror_mode": {
    "name": "ipython",
    "version": 3
   },
   "file_extension": ".py",
   "mimetype": "text/x-python",
   "name": "python",
   "nbconvert_exporter": "python",
   "pygments_lexer": "ipython3",
   "version": "3.6.6"
  }
 },
 "nbformat": 4,
 "nbformat_minor": 2
}
