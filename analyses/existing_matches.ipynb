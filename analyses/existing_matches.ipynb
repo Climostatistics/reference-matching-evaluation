{
 "cells": [
  {
   "cell_type": "markdown",
   "metadata": {},
   "source": [
    "# Comparing existing and new links\n",
    "\n",
    "Dominika Tkaczyk\n",
    "\n",
    "7.11.2018\n",
    "\n",
    "In this analysis I examine how the links existing in the live system compare to the links currently returned by STQ and SBM(V) algorithms.\n",
    "\n",
    "For the comparison of the algorithms on automatically generated reference strings, see [this notebook](https://github.com/CrossRef/reference-matching-evaluation/blob/master/analyses/comparison.ipynb)."
   ]
  },
  {
   "cell_type": "markdown",
   "metadata": {},
   "source": [
    "## TL;DR\n",
    "\n",
    "  * The dataset used in this analysis is composed of 1000 random reference strings from the live system. For each string I have:\n",
    "    * original link (currently in the system)\n",
    "    * STQ link (the link returned by STQ form)\n",
    "    * SBM link (the link returned by SBM algorithm)\n",
    "    * SBMV link (the link returned by SBMV algorithm)\n",
    "  * Both variations of SBM are outperformed by STQ (F1 95.3% vs. 90.0% and 86.0%).\n",
    "  * **SBMV slightly outperforms STQ** (F1 95.7% vs. 95.3%), with precision worse by 0.41 percentage points and recall better by 2.05 percentage points. However, **the differences in precision and recall between SBMV and STQ are not statistically significant**. In other words, the values are so close that we cannot rule out that the differences are due to the randomness in sampling.\n",
    "  * The highest level of agreement between the links is obtained for the thresholds:\n",
    "    * simple threshold 67 (for SBM): in 83.0% of the cases SBM link is equal to either original or new STQ link\n",
    "    * normalized threshold 0.46 (for SBM): in 85.6% of the cases SBM link is equal to either original or new STQ link\n",
    "    * validation threshold 0.45 (for SBMV): **in 93.9% of the cases SBMV link is equal to either original or new STQ link**\n",
    "  * The thresholds resulting in the best F1 are very similar to the thresholds resulting in the best agreement (simple threshold: 64 vs. 67, normalized threshold 0.4 vs. 0.46, validation threshold 0.4 vs. 0.45)"
   ]
  },
  {
   "cell_type": "markdown",
   "metadata": {},
   "source": [
    "## Methodology\n",
    "\n",
    "The goal of this analysis is to examine the agreement between the approaches, as well as to estimate precision, recall and F1 on the real data.\n",
    "\n",
    "The following procedure was used to gather the data for these experiments:\n",
    "1. A random sample of 5000 items was extracted from the system.\n",
    "2. I iterated over all references in the sampled items, and extracted all 6289 unstructured references (reference strings).\n",
    "3. I sampled 1000 unstructured references from them, recorded the existing target DOI (if any), and ran STQ, SBM and SBMV algorithms on them.\n",
    "\n",
    "To estimate precision, recall and F1, I also needed the ground truth (true) target DOI for each reference strings. These were assigned in the following way:\n",
    "* if DOIs returned by STQ and SBM are the same, I assume it is correct and assign it to the document as the ground truth DOI\n",
    "* if DOIs returned by STQ and SBM are different, both were inspected manually:\n",
    "  * if one of them was correct, it was assigned to the document as the ground truth DOI\n",
    "  * if none of them was correct, I assume no target DOI exists\n",
    "* if only SBM returned the DOI, it was manually verified:\n",
    "  * if correct, it was assigned to the document as the ground truth DOI\n",
    "  * if incorrect, I assume no target DOI exists\n",
    "  \n",
    "Note that this ground truth information might not be 100% correct, since not all cases were manually verified."
   ]
  },
  {
   "cell_type": "markdown",
   "metadata": {},
   "source": [
    "## Results"
   ]
  },
  {
   "cell_type": "code",
   "execution_count": 1,
   "metadata": {},
   "outputs": [],
   "source": [
    "import sys\n",
    "sys.path.append('..')\n",
    "\n",
    "%matplotlib inline\n",
    "\n",
    "import json\n",
    "import matplotlib.pyplot as plt\n",
    "import numpy as np\n",
    "import re\n",
    "import utils.data_format_keys as dfk\n",
    "\n",
    "from dataset.dataset_utils import get_target_gt_doi, get_target_test_doi\n",
    "from evaluation.evaluation_utils import doi_test_same, doi_equals\n",
    "from evaluation.link_metrics import LinkMetricsResults\n",
    "from evaluation.reference_metrics import ReferenceMetricsResults\n",
    "from scipy.stats import chi2_contingency\n",
    "from utils.utils import read_json\n",
    "\n",
    "DATA_DIR = '../data/existing_links/'"
   ]
  },
  {
   "cell_type": "markdown",
   "metadata": {},
   "source": [
    "### Precision, recall, F1\n",
    "\n",
    "First, let's compare precision, recall and F1 of different algorithms.\n",
    "\n",
    "Here are the results of STQ:"
   ]
  },
  {
   "cell_type": "code",
   "execution_count": 2,
   "metadata": {},
   "outputs": [
    {
     "name": "stdout",
     "output_type": "stream",
     "text": [
      "STQ precision: 0.9897 (CI at 95% 0.9820-0.9973)\n",
      "STQ recall: 0.9191 (CI at 95% 0.8993-0.9389)\n",
      "STQ F1: 0.9531\n"
     ]
    }
   ],
   "source": [
    "def print_summary(dataset, name):\n",
    "    link_results = LinkMetricsResults(dataset)\n",
    "    print('{} precision: {:.4f} (CI at 95% {:.4f}-{:.4f})'\n",
    "          .format(name, link_results.get(dfk.EVAL_PREC),\n",
    "                  link_results.get(dfk.EVAL_CI_PREC)[0], link_results.get(dfk.EVAL_CI_PREC)[1]))\n",
    "    print('{} recall: {:.4f} (CI at 95% {:.4f}-{:.4f})'\n",
    "          .format(name, link_results.get(dfk.EVAL_REC),\n",
    "                  link_results.get(dfk.EVAL_CI_REC)[0], link_results.get(dfk.EVAL_CI_REC)[1]))\n",
    "    print('{} F1: {:.4f}'.format(name, link_results.get(dfk.EVAL_F1)))\n",
    "\n",
    "dataset_stq = read_json(DATA_DIR + 'sample_1000_stq.json')[dfk.DATASET_DATASET]\n",
    "print_summary(dataset_stq, 'STQ')"
   ]
  },
  {
   "cell_type": "markdown",
   "metadata": {},
   "source": [
    "For precision and recall the confidence intervals at the confidence level of 95% are given. The confidence interval is the range of values where the real value is likely to be. For example, based on this, we are 95% sure that the real recall of STQ is in the range 0.8993-0.9389. More information about the foundations of sampling and confidence intervals can be found in [this notebook](https://github.com/CrossRef/reference-matching-evaluation/blob/master/analyses/sampling_notes.ipynb).\n",
    "\n",
    "In order to calculate the results for SBM and SBMV, we have to modify the SBM and SBMV datasets according to the best thresholds calculated previously. These functions will modify the dataset according to the simple, normalized or validation threshold:"
   ]
  },
  {
   "cell_type": "code",
   "execution_count": 3,
   "metadata": {},
   "outputs": [],
   "source": [
    "def modify_simple_threshold(dataset, threshold):\n",
    "    for item in dataset:\n",
    "        if item[dfk.DATASET_SCORE] is not None and item[dfk.DATASET_SCORE] < threshold:\n",
    "            item[dfk.DATASET_TARGET_TEST][dfk.CR_ITEM_DOI] = None\n",
    "    return dataset\n",
    "\n",
    "def modify_norm_threshold(dataset, threshold):\n",
    "    for item in dataset:\n",
    "        if item[dfk.DATASET_SCORE] is not None \\\n",
    "            and item[dfk.DATASET_SCORE]/len(item[dfk.DATASET_REF_STRING]) < threshold:\n",
    "            item[dfk.DATASET_TARGET_TEST][dfk.CR_ITEM_DOI] = None\n",
    "    return dataset\n",
    "\n",
    "def modify_valid_threshold(dataset, threshold):\n",
    "    for item in dataset:\n",
    "        if item[dfk.DATASET_SCORE] is not None and item[dfk.DATASET_SCORE] < threshold:\n",
    "            item[dfk.DATASET_TARGET_TEST][dfk.CR_ITEM_DOI] = None\n",
    "    return dataset"
   ]
  },
  {
   "cell_type": "markdown",
   "metadata": {},
   "source": [
    "Let's see the results of SBM with a simple threshold of 64:"
   ]
  },
  {
   "cell_type": "code",
   "execution_count": 4,
   "metadata": {},
   "outputs": [
    {
     "name": "stdout",
     "output_type": "stream",
     "text": [
      "SBM precision: 0.8935 (CI at 95% 0.8702-0.9167)\n",
      "SBM recall: 0.8285 (CI at 95% 0.8012-0.8559)\n",
      "SBM F1: 0.8598\n"
     ]
    }
   ],
   "source": [
    "dataset_sbm_simple = read_json(DATA_DIR + 'sample_1000_sbm.json')[dfk.DATASET_DATASET]\n",
    "modify_simple_threshold(dataset_sbm_simple, 64)\n",
    "print_summary(dataset_sbm_simple, 'SBM')"
   ]
  },
  {
   "cell_type": "markdown",
   "metadata": {},
   "source": [
    "Now the results of SBM with the normalized threshold of 0.4:"
   ]
  },
  {
   "cell_type": "code",
   "execution_count": 5,
   "metadata": {},
   "outputs": [
    {
     "name": "stdout",
     "output_type": "stream",
     "text": [
      "SBM precision: 0.8657 (CI at 95% 0.8419-0.8894)\n",
      "SBM recall: 0.9369 (CI at 95% 0.9192-0.9545)\n",
      "SBM F1: 0.8999\n"
     ]
    }
   ],
   "source": [
    "dataset_sbm_norm = read_json(DATA_DIR + 'sample_1000_sbm.json')[dfk.DATASET_DATASET]\n",
    "modify_norm_threshold(dataset_sbm_norm, 0.4)\n",
    "print_summary(dataset_sbm_norm, 'SBM')"
   ]
  },
  {
   "cell_type": "markdown",
   "metadata": {},
   "source": [
    "And finally, the results of SBMV with the validation threshold of 0.4:"
   ]
  },
  {
   "cell_type": "code",
   "execution_count": 6,
   "metadata": {},
   "outputs": [
    {
     "name": "stdout",
     "output_type": "stream",
     "text": [
      "SBM precision: 0.9758 (CI at 95% 0.9644-0.9872)\n",
      "SBM recall: 0.9396 (CI at 95% 0.9224-0.9569)\n",
      "SBM F1: 0.9574\n"
     ]
    }
   ],
   "source": [
    "dataset_sbmv = read_json(DATA_DIR + 'sample_1000_sbmv.json')[dfk.DATASET_DATASET]\n",
    "modify_simple_threshold(dataset_sbmv, 0.4)\n",
    "print_summary(dataset_sbmv, 'SBM')"
   ]
  },
  {
   "cell_type": "markdown",
   "metadata": {},
   "source": [
    "Let's compare all the results in one plot:"
   ]
  },
  {
   "cell_type": "code",
   "execution_count": 7,
   "metadata": {},
   "outputs": [],
   "source": [
    "def get_means(dataset):\n",
    "    results = LinkMetricsResults(dataset)\n",
    "    return [results.get(m) for m in [dfk.EVAL_PREC, dfk.EVAL_REC, dfk.EVAL_F1]]\n",
    "\n",
    "def get_ci(dataset):\n",
    "    results = LinkMetricsResults(dataset)\n",
    "    ms = [results.get(m) for m in [dfk.EVAL_PREC, dfk.EVAL_REC]]\n",
    "    return [[a-results.get(m)[0] for m, a in zip([dfk.EVAL_CI_PREC, dfk.EVAL_CI_REC], ms)] + [0],\n",
    "            [results.get(m)[1]-a for m, a in zip([dfk.EVAL_CI_PREC, dfk.EVAL_CI_REC], ms)] + [0]]\n",
    "\n",
    "def autolabel(ax, rects):\n",
    "    plt.rcParams.update({'font.size': 10})\n",
    "    for rect in rects:\n",
    "        height = rect.get_height()\n",
    "        text = '{:.2f}'.format(height)\n",
    "        text = re.sub('\\.00$', '', text)\n",
    "        ax.text(rect.get_x() + rect.get_width()/2., 1.03*height, text, ha='center', va='bottom')"
   ]
  },
  {
   "cell_type": "code",
   "execution_count": 8,
   "metadata": {},
   "outputs": [
    {
     "data": {
      "image/png": "[encoded data removed]",
      "text/plain": [
       "<Figure size 864x648 with 1 Axes>"
      ]
     },
     "metadata": {
      "needs_background": "light"
     },
     "output_type": "display_data"
    }
   ],
   "source": [
    "ind = np.arange(3)\n",
    "width = 0.2\n",
    "plt.rcParams.update({'font.size': 15, 'legend.fontsize': 10}) \n",
    "fig, ax = plt.subplots(figsize=(12, 9))\n",
    "\n",
    "rects1 = ax.bar(ind - width, get_means(dataset_stq), yerr=get_ci(dataset_stq), width=width, color='#d8d2c4')\n",
    "rects2 = ax.bar(ind, get_means(dataset_sbm_simple), yerr=get_ci(dataset_sbm_simple), width=width, color='#4f5858')\n",
    "rects3 = ax.bar(ind + width, get_means(dataset_sbm_norm), yerr=get_ci(dataset_sbm_norm), width=width, color='#3eb1c8')\n",
    "rects4 = ax.bar(ind + 2*width, get_means(dataset_sbmv), yerr=get_ci(dataset_sbmv), width=width, color='#ffc72c')\n",
    "\n",
    "ax.set_ylabel('fraction')\n",
    "ax.set_xticks(ind + width / 2)\n",
    "ax.set_xticklabels(('precision', 'recall', 'F1'))\n",
    "plt.ylim(0, 1.2)\n",
    "plt.yticks([0, 0.2, 0.4, 0.6, 0.8, 1.0])\n",
    "ax.legend((rects1[0], rects2[0], rects3[0], rects4[0]),\n",
    "          ('STQ', 'SBM (simple threshold)', 'SBM (norm threshold)', 'SBMV'))\n",
    "autolabel(ax, rects1)\n",
    "autolabel(ax, rects2)\n",
    "autolabel(ax, rects3)\n",
    "autolabel(ax, rects4)\n",
    "\n",
    "plt.show() "
   ]
  },
  {
   "cell_type": "markdown",
   "metadata": {},
   "source": [
    "As we can see, SBMV outperforms all other algorithms. It is slightly better than STQ (F1 95.74% vs. 95.31%), with precision worse by only 0.41 percentage points and recall better by 2.05 percentage points.\n",
    "\n",
    "Both variations of SBM are much worse than SBMV and STQ.\n",
    "\n",
    "Let's also calculate statistical significance between STQ's and SBMV's precision and recall using a Chi-square test of independence:"
   ]
  },
  {
   "cell_type": "code",
   "execution_count": 9,
   "metadata": {},
   "outputs": [
    {
     "name": "stdout",
     "output_type": "stream",
     "text": [
      "precision p-value: 0.0777 (this is not statistically significant)\n",
      "recall p-value: 0.1525 (this is not statistically significant)\n"
     ]
    }
   ],
   "source": [
    "for metric in [dfk.EVAL_PREC, dfk.EVAL_REC]:\n",
    "    fun = get_target_test_doi if metric == dfk.EVAL_PREC else get_target_gt_doi\n",
    "    stq_results = LinkMetricsResults(dataset_stq)\n",
    "    stq_precision = stq_results.get(metric)\n",
    "    stq_test_count = len([d for d in dataset_stq if fun(d) is not None])\n",
    "    stq_precision_success = int(stq_precision * stq_test_count)\n",
    "\n",
    "    sbmv_results = LinkMetricsResults(dataset_sbmv)\n",
    "    sbmv_precision = sbmv_results.get(metric)\n",
    "    sbmv_test_count = len([d for d in dataset_sbmv if fun(d) is not None])\n",
    "    sbmv_precision_success = int(sbmv_precision * sbmv_test_count)\n",
    "\n",
    "    _, p, _, _ = chi2_contingency(np.array([[stq_precision_success, stq_test_count-stq_precision_success],\n",
    "                                           [sbmv_precision_success, sbmv_test_count-sbmv_precision_success]]),\n",
    "                                  correction=True)\n",
    "    c = 'this is statistically significant' if p < 0.05 else 'this is not statistically significant'\n",
    "    print('{} p-value: {:.4f} ({})'.format(metric, p, c))"
   ]
  },
  {
   "cell_type": "markdown",
   "metadata": {},
   "source": [
    "For both precision and recall, the differences are not statistically significant. In other words, the values are so close that we cannot rule out that the differences are due to the randomness in sampling.\n",
    "\n",
    "Finally, let's see what would the validation threshold of SBMV be if we wanted to match STQ's precision:"
   ]
  },
  {
   "cell_type": "code",
   "execution_count": 10,
   "metadata": {},
   "outputs": [
    {
     "name": "stdout",
     "output_type": "stream",
     "text": [
      "STQ's precision is matched for threshold 0.61\n",
      "Recall for this threshold: 0.8436213991769548\n"
     ]
    }
   ],
   "source": [
    "dataset_sbmv = read_json(DATA_DIR + 'sample_1000_sbmv.json')[dfk.DATASET_DATASET]\n",
    "results = [LinkMetricsResults(modify_simple_threshold(dataset_sbmv, t)) for t in np.arange(0, 1, 0.01)]\n",
    "thresholds = np.arange(0, 1, 0.1)\n",
    "precisions = [r.get(dfk.EVAL_PREC) for r in results]\n",
    "recalls = [r.get(dfk.EVAL_REC) for r in results]\n",
    "for i, p in enumerate(precisions):\n",
    "    if p >= 0.9897:\n",
    "        break\n",
    "print('STQ\\'s precision is matched for threshold {}'.format(i/100))\n",
    "print('Recall for this threshold: {}'.format(recalls[i]))"
   ]
  },
  {
   "cell_type": "markdown",
   "metadata": {},
   "source": [
    "Unfortunately, by the time we match STQ's precision, the recall drops to 84%, which is much lower than STQ's recall of 92%."
   ]
  },
  {
   "cell_type": "markdown",
   "metadata": {},
   "source": [
    "### Agreement between links\n",
    "\n",
    "Let's also see how the relevance thresholds affect the agreement between the links.\n",
    "\n",
    "Function *get_category* classifies an item from the dataset into one of the categories:\n",
    "  * SBM(V) = STQ = orig (all links agree)\n",
    "  * SBM(V) = STQ =/= orig (original link is different)\n",
    "  * SBM(V) = orig =/= STQ (new STQ link is different)\n",
    "  * SBM(V) =/= STQ = orig (SBM(V) link is different)\n",
    "  * other"
   ]
  },
  {
   "cell_type": "code",
   "execution_count": 11,
   "metadata": {},
   "outputs": [],
   "source": [
    "def get_category(item_orig, item_stq, item_new):\n",
    "    if doi_test_same(item_orig, get_target_test_doi(item_stq)) and \\\n",
    "            doi_test_same(item_orig, get_target_test_doi(item_new)):\n",
    "        return 'SBM(V) = STQ = orig'\n",
    "    if doi_equals(item_orig) and doi_equals(item_stq) and doi_equals(item_new):\n",
    "        return 'SBM(V) = STQ = orig'\n",
    "    if doi_test_same(item_new, get_target_test_doi(item_stq)) and \\\n",
    "            not doi_test_same(item_new, get_target_test_doi(item_orig)):\n",
    "        return 'SBM(V) = STQ =/= orig'\n",
    "    if not doi_equals(item_orig) and doi_equals(item_stq) and doi_equals(item_new):\n",
    "        return 'SBM(V) = STQ =/= orig'\n",
    "    if doi_test_same(item_new, get_target_test_doi(item_orig)) and \\\n",
    "            not doi_test_same(item_new, get_target_test_doi(item_stq)):\n",
    "        return 'SBM(V) = orig =/= STQ'\n",
    "    if doi_equals(item_orig) and not doi_equals(item_stq) and doi_equals(item_new):\n",
    "        return 'SBM(V) = orig =/= STQ'\n",
    "    if doi_test_same(item_stq, get_target_test_doi(item_orig)) and \\\n",
    "            not doi_test_same(item_new, get_target_test_doi(item_stq)):\n",
    "        return 'SBM(V) =/= STQ = orig'\n",
    "    if doi_equals(item_orig) and doi_equals(item_stq) and not doi_equals(item_new):\n",
    "        return 'SBM(V) =/= STQ = orig'\n",
    "    return 'other'"
   ]
  },
  {
   "cell_type": "markdown",
   "metadata": {},
   "source": [
    "What is the distribution of the categories in the dataset as we vary the simple threshold of SBM?"
   ]
  },
  {
   "cell_type": "code",
   "execution_count": 12,
   "metadata": {},
   "outputs": [
    {
     "data": {
      "image/png": "[encoded data removed]",
      "text/plain": [
       "<Figure size 432x288 with 1 Axes>"
      ]
     },
     "metadata": {
      "needs_background": "light"
     },
     "output_type": "display_data"
    }
   ],
   "source": [
    "def plot_agreement(categories, data, index, xlab, w):\n",
    "    p1 = plt.bar(index, data[0], width=w, color='#d8d2c4')\n",
    "    p2 = plt.bar(index, data[1], width=w, bottom=data[0], color='#4f5858')\n",
    "    p3 = plt.bar(index, data[2], width=w, bottom=[c1+c2 for c1, c2 in zip(data[0], data[1])], color='#3eb1c8')\n",
    "    p4 = plt.bar(index, data[3], width=w, bottom=[c1+c2+c3 for c1, c2, c3 in zip(data[0], data[1], data[2])],\n",
    "                 color='#ffc72c')\n",
    "    p5 = plt.bar(index, data[4], width=w,\n",
    "                 bottom=[c1+c2+c3+c4 for c1, c2, c3, c4 in zip(data[0], data[1], data[2], data[3])], color='#ef3340')\n",
    "    plt.xlim(index[0], index[len(index)-1])\n",
    "    plt.ylim(0, 1)\n",
    "    plt.xlabel(xlab)\n",
    "    plt.ylabel('Reference strings (%)')\n",
    "    plt.legend((p1[0], p2[0], p3[0], p4[0], p5[0]), categories, bbox_to_anchor=(1.05, 1.03))\n",
    "    plt.show()\n",
    "    \n",
    "dataset_orig = read_json(DATA_DIR + 'sample_1000_orig.json')[dfk.DATASET_DATASET]\n",
    "dataset_stq = read_json(DATA_DIR + 'sample_1000_stq.json')[dfk.DATASET_DATASET]\n",
    "dataset_sbm = read_json(DATA_DIR + 'sample_1000_sbm.json')[dfk.DATASET_DATASET]\n",
    "\n",
    "data_categories = [[get_category(d1, d2, d3)\n",
    "                    for d1, d2, d3 in zip(dataset_orig, dataset_stq, modify_simple_threshold(dataset_sbm, t))]\n",
    "                   for t in np.arange(0, 101, 1)]\n",
    "categories = ['SBM(V) = STQ = orig', 'SBM(V) = STQ =/= orig', 'SBM(V) = orig =/= STQ', 'SBM(V) =/= STQ = orig', 'other']\n",
    "categories_counts = [[d.count(cat)/1000 for d in data_categories] for cat in categories]\n",
    "plot_agreement(categories, categories_counts, np.arange(0, 101, 1), 'Simple threshold', 1)"
   ]
  },
  {
   "cell_type": "markdown",
   "metadata": {},
   "source": [
    "Let's also calculate the simple threshold, for which the best agreement is achieved:"
   ]
  },
  {
   "cell_type": "code",
   "execution_count": 13,
   "metadata": {},
   "outputs": [
    {
     "name": "stdout",
     "output_type": "stream",
     "text": [
      "The best agreement between original, STQ, and SBM with a simple threshold\n",
      "Threshold: 67\n",
      "All links agree in 65.9% of cases\n",
      "SBM link agrees with either original or STQ link in 83.0% of cases\n"
     ]
    }
   ],
   "source": [
    "best_agreement = max(categories_counts[0])\n",
    "index = categories_counts[0].index(best_agreement)\n",
    "print('The best agreement between original, STQ, and SBM with a simple threshold')\n",
    "print('Threshold: {}'.format(index))\n",
    "print('All links agree in {:.1f}% of cases'.format(100*best_agreement))\n",
    "print('SBM link agrees with either original or STQ link in {:.1f}% of cases'\n",
    "      .format(100*(categories_counts[0][index] + categories_counts[1][index] + categories_counts[2][index])))"
   ]
  },
  {
   "cell_type": "markdown",
   "metadata": {},
   "source": [
    "What happens with the categories in the dataset as we vary the normalized threshold of SBM?"
   ]
  },
  {
   "cell_type": "code",
   "execution_count": 14,
   "metadata": {},
   "outputs": [
    {
     "data": {
      "image/png": "[encoded data removed]",
      "text/plain": [
       "<Figure size 432x288 with 1 Axes>"
      ]
     },
     "metadata": {
      "needs_background": "light"
     },
     "output_type": "display_data"
    }
   ],
   "source": [
    "dataset_orig = read_json(DATA_DIR + 'sample_1000_orig.json')[dfk.DATASET_DATASET]\n",
    "dataset_stq = read_json(DATA_DIR + 'sample_1000_stq.json')[dfk.DATASET_DATASET]\n",
    "dataset_sbm = read_json(DATA_DIR + 'sample_1000_sbm.json')[dfk.DATASET_DATASET]\n",
    "\n",
    "data_categories = [[get_category(d1, d2, d3)\n",
    "                    for d1, d2, d3 in zip(dataset_orig, dataset_stq, modify_norm_threshold(dataset_sbm, t))]\n",
    "                   for t in np.arange(0, 1.01, 0.01)]\n",
    "categories_counts = [[d.count(cat)/1000 for d in data_categories] for cat in categories]\n",
    "plot_agreement(categories, categories_counts, np.arange(0, 1.01, 0.01), 'Normalized threshold', 0.01)"
   ]
  },
  {
   "cell_type": "markdown",
   "metadata": {},
   "source": [
    "And the normalized threshold, for which we have the best agreement:"
   ]
  },
  {
   "cell_type": "code",
   "execution_count": 15,
   "metadata": {},
   "outputs": [
    {
     "name": "stdout",
     "output_type": "stream",
     "text": [
      "The best agreement between original, STQ, and SBM with a normalized threshold\n",
      "Threshold: 0.46\n",
      "All links agree in 68.5% of cases\n",
      "SBM link agrees with either original or STQ link in 85.6% of cases\n"
     ]
    }
   ],
   "source": [
    "best_agreement = max(categories_counts[0])\n",
    "index = categories_counts[0].index(best_agreement)\n",
    "print('The best agreement between original, STQ, and SBM with a normalized threshold')\n",
    "print('Threshold: {}'.format(index/100))\n",
    "print('All links agree in {:.1f}% of cases'.format(100*best_agreement))\n",
    "print('SBM link agrees with either original or STQ link in {:.1f}% of cases'\n",
    "      .format(100*(categories_counts[0][index] + categories_counts[1][index] + categories_counts[2][index])))"
   ]
  },
  {
   "cell_type": "markdown",
   "metadata": {},
   "source": [
    "Finally, what happens with the categories in the dataset as we vary the validation threshold of SBMV?"
   ]
  },
  {
   "cell_type": "code",
   "execution_count": 16,
   "metadata": {},
   "outputs": [
    {
     "data": {
      "image/png": "[encoded data removed]",
      "text/plain": [
       "<Figure size 432x288 with 1 Axes>"
      ]
     },
     "metadata": {
      "needs_background": "light"
     },
     "output_type": "display_data"
    }
   ],
   "source": [
    "dataset_orig = read_json(DATA_DIR + 'sample_1000_orig.json')[dfk.DATASET_DATASET]\n",
    "dataset_stq = read_json(DATA_DIR + 'sample_1000_stq.json')[dfk.DATASET_DATASET]\n",
    "dataset_sbmv = read_json(DATA_DIR + 'sample_1000_sbmv.json')[dfk.DATASET_DATASET]\n",
    "\n",
    "data_categories = [[get_category(d1, d2, d3)\n",
    "                    for d1, d2, d3 in zip(dataset_orig, dataset_stq, modify_simple_threshold(dataset_sbmv, t))]\n",
    "                   for t in np.arange(0, 1.01, 0.01)]\n",
    "categories_counts = [[d.count(cat)/1000 for d in data_categories] for cat in categories]\n",
    "plot_agreement(categories, categories_counts, np.arange(0, 1.01, 0.01), 'Validation threshold', 0.01)"
   ]
  },
  {
   "cell_type": "markdown",
   "metadata": {},
   "source": [
    "And finally the validation threshold, for which we have the best agreement:"
   ]
  },
  {
   "cell_type": "code",
   "execution_count": 17,
   "metadata": {},
   "outputs": [
    {
     "name": "stdout",
     "output_type": "stream",
     "text": [
      "The best agreement between original, STQ, and SBMV with a validation threshold\n",
      "Threshold: 0.45\n",
      "All links agree in 76.7% of cases\n",
      "SBMV link agrees with either original or STQ link in 93.9% of cases\n"
     ]
    }
   ],
   "source": [
    "best_agreement = max(categories_counts[0])\n",
    "index = categories_counts[0].index(best_agreement)\n",
    "print('The best agreement between original, STQ, and SBMV with a validation threshold')\n",
    "print('Threshold: {}'.format(index/100))\n",
    "print('All links agree in {:.1f}% of cases'.format(100*best_agreement))\n",
    "print('SBMV link agrees with either original or STQ link in {:.1f}% of cases'\n",
    "      .format(100*(categories_counts[0][index] + categories_counts[1][index] + categories_counts[2][index])))"
   ]
  },
  {
   "cell_type": "markdown",
   "metadata": {},
   "source": [
    "From these results we see that there is a large agreement between the links. SBMV has the best agreement with other links for the validation threshold of 0.45: in 76.7% of the cases all links agree, and in 93.9% of the cases SBMV link agrees with either original or STQ link.\n",
    "\n",
    "The lines also look fairly flat in the neighbourhood of the best threshold 0.45. This means we have quite a large range of thresholds, for which the agreement is very high, including the threshold best by F1 (0.4).\n",
    "\n",
    "### The analysis of the differences\n",
    "\n",
    "Let's also look more closely at the reasons for differences between the links. SBM links analysed in this section are links without any threshold."
   ]
  },
  {
   "cell_type": "code",
   "execution_count": 18,
   "metadata": {},
   "outputs": [],
   "source": [
    "data = read_json(DATA_DIR + 'sample_1000_reasons.json')\n",
    "orig_link = 'original_link'\n",
    "stq_link = 'current_STQ_link'\n",
    "sbm_link = 'search_API_link'"
   ]
  },
  {
   "cell_type": "markdown",
   "metadata": {},
   "source": [
    "#### Null original link\n",
    "\n",
    "The first category we will explore are references currently not matched to any target document in the system. How many references don't have the original link?"
   ]
  },
  {
   "cell_type": "code",
   "execution_count": 19,
   "metadata": {},
   "outputs": [
    {
     "name": "stdout",
     "output_type": "stream",
     "text": [
      "Null original link: 458\n"
     ]
    }
   ],
   "source": [
    "data_orig_null = [d for d in data if d[orig_link] is None]\n",
    "print('Null original link: {}'.format(len(data_orig_null)))"
   ]
  },
  {
   "cell_type": "markdown",
   "metadata": {},
   "source": [
    "45.8% of reference strings in our sample are not linked to anything. In how many cases we have a new STQ link?"
   ]
  },
  {
   "cell_type": "code",
   "execution_count": 20,
   "metadata": {},
   "outputs": [
    {
     "name": "stdout",
     "output_type": "stream",
     "text": [
      "Null original link, STQ link exists: 146\n"
     ]
    }
   ],
   "source": [
    "data_orig_null_stq_exists = [d for d in data_orig_null if d[stq_link] is not None]\n",
    "print('Null original link, STQ link exists: {}'.format(len(data_orig_null_stq_exists)))"
   ]
  },
  {
   "cell_type": "markdown",
   "metadata": {},
   "source": [
    "In 32% of references with null original link we have the new STQ link. And how many of those have the same SBM link?"
   ]
  },
  {
   "cell_type": "code",
   "execution_count": 21,
   "metadata": {},
   "outputs": [
    {
     "name": "stdout",
     "output_type": "stream",
     "text": [
      "Null original link; STQ and SBM agree: 139\n"
     ]
    }
   ],
   "source": [
    "data_orig_null_sbm_stq_equal = [d for d in data_orig_null if d[stq_link] is not None and d[stq_link] == d[sbm_link]]\n",
    "print('Null original link; STQ and SBM agree: {}'.format(len(data_orig_null_sbm_stq_equal)))"
   ]
  },
  {
   "cell_type": "markdown",
   "metadata": {},
   "source": [
    "It seems there is a high agreement between STQ and SBM, almost all new STQ links were \"confirmed\" by SBM.\n",
    "\n",
    "We are left with 319 cases, in which the original link is null and STQ and SBM links differ. I manually inspected them and provided an explanation of what happened. This function will show the distribution of those explanations (\"comments\"):"
   ]
  },
  {
   "cell_type": "code",
   "execution_count": 22,
   "metadata": {},
   "outputs": [],
   "source": [
    "def summarize_comments(data):\n",
    "    comments = [d['reason'] for d in data]\n",
    "    comments = list(set([(r, comments.count(r)) for r in comments]))\n",
    "    comments.sort(key=lambda x: x[1], reverse=True) \n",
    "    return comments "
   ]
  },
  {
   "cell_type": "markdown",
   "metadata": {},
   "source": [
    "The distribution of the explanations of the cases where original link is null and SBM and STQ links disagree:"
   ]
  },
  {
   "cell_type": "code",
   "execution_count": 23,
   "metadata": {},
   "outputs": [
    {
     "data": {
      "text/plain": [
       "[('original link null; STQ link null; SBM link incorrect', 259),\n",
       " ('original link null; STQ link null; SBM link correct', 49),\n",
       " ('original link null; STQ link null; SBM links to a review', 3),\n",
       " ('original link null; STQ and SBM disagree; same landing page', 2),\n",
       " ('original link null; STQ and SBM disagree; both incorrect', 1),\n",
       " ('original link null; STQ and SBM disagree; SBM link incorrect', 1),\n",
       " ('original link null; STQ and SBM disagree, both correct', 1),\n",
       " ('original link null; STQ link null; SBM links to a chapter', 1),\n",
       " ('original link null; STQ and SBM disagree; same metadata', 1),\n",
       " ('original link null; STQ and SBM disagree; SBM links to a chapter', 1)]"
      ]
     },
     "execution_count": 23,
     "metadata": {},
     "output_type": "execute_result"
    }
   ],
   "source": [
    "data_orig_null_sbm_stq_disagree = [d for d in data_orig_null if d[stq_link] != d[sbm_link]]\n",
    "summarize_comments(data_orig_null_sbm_stq_disagree)"
   ]
  },
  {
   "cell_type": "markdown",
   "metadata": {},
   "source": [
    "We have the following cases:\n",
    "  * 263: only SBM link present and incorrect \n",
    "  * 49: only SBM present and correct\n",
    "  * 3: STQ and SBM links disagree, but the either the landing pages or the document metadata are the same\n",
    "  * 4: other cases\n",
    "\n",
    "Of course high fraction of incorrect links is affected by not applying any threshold.\n",
    "\n",
    "#### All links agree\n",
    "\n",
    "How many cases we have, in which all three links agree?"
   ]
  },
  {
   "cell_type": "code",
   "execution_count": 24,
   "metadata": {},
   "outputs": [
    {
     "name": "stdout",
     "output_type": "stream",
     "text": [
      "All links agree: 481\n"
     ]
    }
   ],
   "source": [
    "data_all_agree = [d for d in data\n",
    "                  if d[orig_link] is not None and d[orig_link] == d[stq_link] and d[sbm_link] == d[stq_link]]\n",
    "print('All links agree: {}'.format(len(data_all_agree)))"
   ]
  },
  {
   "cell_type": "markdown",
   "metadata": {},
   "source": [
    "Almost half of all the cases, and 89% of the cases with not null original link. This also confirms high agreement between STQ and SBM.\n",
    "\n",
    "#### Original link is different\n",
    "\n",
    "In how many cases SBM link is the same as STQ link, but original link is not null and different?"
   ]
  },
  {
   "cell_type": "code",
   "execution_count": 25,
   "metadata": {},
   "outputs": [
    {
     "name": "stdout",
     "output_type": "stream",
     "text": [
      "Original link is different : 2\n"
     ]
    },
    {
     "data": {
      "text/plain": [
       "[('original link incorrect', 1), ('different version of the paper', 1)]"
      ]
     },
     "execution_count": 25,
     "metadata": {},
     "output_type": "execute_result"
    }
   ],
   "source": [
    "data_diff_orig = [d for d in data\n",
    "                  if d[orig_link] is not None and d[orig_link] != d[stq_link] and d[sbm_link] == d[stq_link]]\n",
    "print('Original link is different : {}'.format(len(data_diff_orig)))\n",
    "summarize_comments(data_diff_orig)"
   ]
  },
  {
   "cell_type": "markdown",
   "metadata": {},
   "source": [
    "Only 2 references:\n",
    "  * in one case the DOIs link to two different versions of the same paper\n",
    "  * in the second case the original link is incorrect\n",
    "  \n",
    "#### STQ link is different\n",
    "  \n",
    "Now let's see the cases, where original and SBM links agree and STQ is different:"
   ]
  },
  {
   "cell_type": "code",
   "execution_count": 26,
   "metadata": {},
   "outputs": [
    {
     "name": "stdout",
     "output_type": "stream",
     "text": [
      "STQ link is different : 32\n"
     ]
    },
    {
     "data": {
      "text/plain": [
       "[('STQ link missing', 32)]"
      ]
     },
     "execution_count": 26,
     "metadata": {},
     "output_type": "execute_result"
    }
   ],
   "source": [
    "data_diff_stq = [d for d in data\n",
    "                 if d[orig_link] is not None and d[orig_link] != d[stq_link] and d[sbm_link] == d[orig_link]]\n",
    "print('STQ link is different : {}'.format(len(data_diff_stq)))\n",
    "summarize_comments(data_diff_stq)"
   ]
  },
  {
   "cell_type": "markdown",
   "metadata": {},
   "source": [
    "In all cases STQ link is simply missing.\n",
    "\n",
    "#### SBM link is different\n",
    "\n",
    "How many cases we have, where SBM link is different from the other two?"
   ]
  },
  {
   "cell_type": "code",
   "execution_count": 27,
   "metadata": {},
   "outputs": [
    {
     "name": "stdout",
     "output_type": "stream",
     "text": [
      "SBT link is different : 24\n"
     ]
    },
    {
     "data": {
      "text/plain": [
       "[('SBM link incorrect', 13),\n",
       " ('same document (metadata)', 3),\n",
       " ('same document (landing page)', 2),\n",
       " ('SBM links to a chapter', 2),\n",
       " ('original link incorrect', 1),\n",
       " ('SBM links to a correction', 1),\n",
       " ('original link incorrect; STQ link incorrect; SBM link correct', 1),\n",
       " ('SBM links to one paper in conference proceedings', 1)]"
      ]
     },
     "execution_count": 27,
     "metadata": {},
     "output_type": "execute_result"
    }
   ],
   "source": [
    "data_diff_sbt = [d for d in data\n",
    "                if d[orig_link] is not None and d[orig_link] == d[stq_link] and d[sbm_link] != d[orig_link]]\n",
    "print('SBT link is different : {}'.format(len(data_diff_sbt)))\n",
    "summarize_comments(data_diff_sbt)"
   ]
  },
  {
   "cell_type": "markdown",
   "metadata": {},
   "source": [
    "Out of 24 cases:\n",
    "  * in 13 cases SBM link is incorrect (11 of those are strings not containing the title of the reference)\n",
    "  * in 5 the linked documents appear to be the same\n",
    "  * in 4 cases SBM links to a document related to the correct one, such as a chapter or a correction\n",
    "  * in 2 case the original link is incorrect or incorrectly null\n",
    "\n",
    "#### All three links are different"
   ]
  },
  {
   "cell_type": "code",
   "execution_count": 28,
   "metadata": {},
   "outputs": [
    {
     "name": "stdout",
     "output_type": "stream",
     "text": [
      "All links different : 3\n"
     ]
    },
    {
     "data": {
      "text/plain": [
       "[('STQ link missing; both link to a different chapter', 2),\n",
       " ('STQ link missing; SBM link incorrect', 1)]"
      ]
     },
     "execution_count": 28,
     "metadata": {},
     "output_type": "execute_result"
    }
   ],
   "source": [
    "data_diff_all = [d for d in data\n",
    "                 if d[orig_link] is not None and d[orig_link] != d[stq_link]\n",
    "                 and d[sbm_link] != d[orig_link] and d[stq_link] != d[sbm_link]]\n",
    "print('All links different : {}'.format(len(data_diff_all)))\n",
    "summarize_comments(data_diff_all)"
   ]
  },
  {
   "cell_type": "markdown",
   "metadata": {},
   "source": [
    "In all three cases STQ link is missing and SBM link is incorrect."
   ]
  }
 ],
 "metadata": {
  "kernelspec": {
   "display_name": "Python 3",
   "language": "python",
   "name": "python3"
  },
  "language_info": {
   "codemirror_mode": {
    "name": "ipython",
    "version": 3
   },
   "file_extension": ".py",
   "mimetype": "text/x-python",
   "name": "python",
   "nbconvert_exporter": "python",
   "pygments_lexer": "ipython3",
   "version": "3.6.6"
  }
 },
 "nbformat": 4,
 "nbformat_minor": 2
}
