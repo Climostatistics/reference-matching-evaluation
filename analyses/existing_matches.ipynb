{
 "cells": [
  {
   "cell_type": "markdown",
   "metadata": {},
   "source": [
    "# Comparing existing and new links\n",
    "\n",
    "In this analysis I examine how the links existing in the live system compare to the links currently returned by both STQ and SBM algorithms.\n",
    "\n",
    "For the comparison of the two algorithms on artificial data, see [this notebook](https://github.com/CrossRef/reference-matching-evaluation/blob/master/analyses/comparison.ipynb)."
   ]
  },
  {
   "cell_type": "markdown",
   "metadata": {},
   "source": [
    "## TL;DR\n",
    "\n",
    "  * I examined 100 random reference strings from the live system.\n",
    "  * 46% of reference strings are currently unmatched in the system:\n",
    "    * of those unmatched, in 32% cases STQ returned DOI\n",
    "    * of those unmatched, in 30% cases STQ DOI is the same as SBM (almost every DOI returned by STQ was \"confirmed\" by SBM)\n",
    "    * according to the estimations, when STQ did not give any answer, SA was correct in 16% cases\n",
    "  * The remaining 54% of reference strings are currently matched in the system:\n",
    "    * of those matched, in 89% cases all three links are the same; this confirms high agreement of STQ and SBM\n",
    "    * of those matched, in 6% of the references STQ link is missing, but the original link is the same as SBM\n",
    "    * of those matched, in 3% of the cases SA link is incorrect; the most common causes are:\n",
    "      * a short reference string without the title\n",
    "      * choosing a document closely related to the real target, such that usually contains all the real target's metadata, such as a review or a chapter instead of the book"
   ]
  },
  {
   "cell_type": "markdown",
   "metadata": {},
   "source": [
    "## Methodology\n",
    "\n",
    "The following procedure was used to gather the data for this experiment:\n",
    "1. A sample of 5000 items was extracted from the system.\n",
    "2. I iterated over all references in the sampled items, and extracted all 6289 unstructured references (reference strings).\n",
    "3. ! sampled 1000 unstructured references from them and ran both STQ and SBM algorithms on them.\n",
    "4. I examined the differences between the links."
   ]
  },
  {
   "cell_type": "markdown",
   "metadata": {},
   "source": [
    "## Results"
   ]
  },
  {
   "cell_type": "code",
   "execution_count": 1,
   "metadata": {},
   "outputs": [],
   "source": [
    "import sys\n",
    "sys.path.append('..')\n",
    "\n",
    "%matplotlib inline\n",
    "\n",
    "import json\n",
    "import matplotlib.pyplot as plt\n",
    "\n",
    "from utils.utils import read_json, save_json\n",
    "\n",
    "DATA_DIR = '../data/existing_links/'"
   ]
  },
  {
   "cell_type": "markdown",
   "metadata": {},
   "source": [
    "Let's read the data:"
   ]
  },
  {
   "cell_type": "code",
   "execution_count": 2,
   "metadata": {},
   "outputs": [
    {
     "name": "stdout",
     "output_type": "stream",
     "text": [
      "{\n",
      "    \"source_DOI\": \"10.1007/978-3-319-40773-9_4\",\n",
      "    \"ref_string\": \"Portocarrero, C. (2013a). Mapas de vulnerabilidad y riesgo de la subcuenca Chucch\\u00fan ante la posible ocurrencia de un proceso aluvi\\u00f3nico procedente de la Laguna 513. Huaraz: CARE Per\\u00fa, Proyecto Glaciares.\",\n",
      "    \"original_link\": null,\n",
      "    \"current_STQ_link\": null,\n",
      "    \"search_API_link\": \"10.19083/tesis/621436\",\n",
      "    \"search_API_score\": 69.07092,\n",
      "    \"reason\": \"original link null; STQ link null; SBM link incorrect\"\n",
      "}\n"
     ]
    }
   ],
   "source": [
    "data = read_json(DATA_DIR + 'sample_1000.json')\n",
    "orig_link = 'original_link'\n",
    "stq_link = 'current_STQ_link'\n",
    "sbm_link = 'search_API_link'\n",
    "print(json.dumps(data[0], indent=4))"
   ]
  },
  {
   "cell_type": "markdown",
   "metadata": {},
   "source": [
    "For each reference, I keep the following information:\n",
    "  * source DOI\n",
    "  * reference string\n",
    "  * original link: link currently existing in the system, can be null\n",
    "  * current STQ link: link obtained from STQ, can be null\n",
    "  * search API link: link obtained from SBM, can be null\n",
    "  * search API score: relevance score from SBM"
   ]
  },
  {
   "cell_type": "markdown",
   "metadata": {},
   "source": [
    "### Null original link\n",
    "\n",
    "The first category we will explore are references currently not matched to any target document in the system. How many references don't have the original link?"
   ]
  },
  {
   "cell_type": "code",
   "execution_count": 3,
   "metadata": {},
   "outputs": [
    {
     "name": "stdout",
     "output_type": "stream",
     "text": [
      "Null original link: 459\n"
     ]
    }
   ],
   "source": [
    "data_orig_null = [d for d in data if d[orig_link] is None]\n",
    "print('Null original link: {}'.format(len(data_orig_null)))"
   ]
  },
  {
   "cell_type": "markdown",
   "metadata": {},
   "source": [
    "45.9% of reference strings in our sample are not linked to anything. In how many cases we have a new STQ link?"
   ]
  },
  {
   "cell_type": "code",
   "execution_count": 4,
   "metadata": {},
   "outputs": [
    {
     "name": "stdout",
     "output_type": "stream",
     "text": [
      "Null original link, STQ link exists: 147\n"
     ]
    }
   ],
   "source": [
    "data_orig_null_stq_exists = [d for d in data_orig_null if d[stq_link] is not None]\n",
    "print('Null original link, STQ link exists: {}'.format(len(data_orig_null_stq_exists)))"
   ]
  },
  {
   "cell_type": "markdown",
   "metadata": {},
   "source": [
    "In 32.03% of references with null original link we have the new STQ link. And how many of those have the same SBM link?"
   ]
  },
  {
   "cell_type": "code",
   "execution_count": 5,
   "metadata": {},
   "outputs": [
    {
     "name": "stdout",
     "output_type": "stream",
     "text": [
      "Null original link; STQ and SBM agree: 139\n"
     ]
    }
   ],
   "source": [
    "data_orig_null_sbm_stq_equal = [d for d in data_orig_null if d[stq_link] is not None and d[stq_link] == d[sbm_link]]\n",
    "print('Null original link; STQ and SBM agree: {}'.format(len(data_orig_null_sbm_stq_equal)))"
   ]
  },
  {
   "cell_type": "markdown",
   "metadata": {},
   "source": [
    "It seems there is a high agreement between STQ and SBM, almost all new STQ links were \"confirmed\" by SBM.\n",
    "\n",
    "We are left with 320 cases, in which the original link is null and STQ and SBM links differs. I manually inspected a sample of them and provided an explanation of what happened. This function will show the distribution of those explanations (\"comments\"):"
   ]
  },
  {
   "cell_type": "code",
   "execution_count": 6,
   "metadata": {},
   "outputs": [],
   "source": [
    "def summarize_comments(data):\n",
    "    reasons = [d['reason'] for d in data]\n",
    "    reasons = list(set([(r, reasons.count(r)) for r in reasons]))\n",
    "    reasons.sort(key=lambda x: x[1], reverse=True) \n",
    "    return reasons "
   ]
  },
  {
   "cell_type": "markdown",
   "metadata": {},
   "source": [
    "The distribution of the explanations of the cases where original link is null and SBM and STQ links disagree:"
   ]
  },
  {
   "cell_type": "code",
   "execution_count": 7,
   "metadata": {},
   "outputs": [
    {
     "data": {
      "text/plain": [
       "[('original link null; STQ link null; SBM link not inspected', 185),\n",
       " ('original link null; STQ link null; SBM link incorrect', 104),\n",
       " ('original link null; STQ link null; SBM link correct', 20),\n",
       " ('original link null; STQ link null; SBM links to a review', 3),\n",
       " ('original link null; STQ and SBM disagree; same metadata', 2),\n",
       " ('original link null; STQ and SBM disagree; same landing page', 2),\n",
       " ('original link null; STQ and SBM disagree, SBM link broken', 1),\n",
       " ('original link null; STQ and SBM disagree; SBM link incorrect', 1),\n",
       " ('original link null; STQ and SBM disagree; SBM links to a chapter', 1),\n",
       " ('original link null; STQ and SBM disagree; SBM correct', 1)]"
      ]
     },
     "execution_count": 7,
     "metadata": {},
     "output_type": "execute_result"
    }
   ],
   "source": [
    "data_orig_null_sbm_stq_disagree = [d for d in data_orig_null if d[stq_link] != d[sbm_link]]\n",
    "summarize_comments(data_orig_null_sbm_stq_disagree)"
   ]
  },
  {
   "cell_type": "markdown",
   "metadata": {},
   "source": [
    "We have the following cases:\n",
    "  * 185: only SBM link present; not inspected manually\n",
    "  * 107: only SBM link present and incorrect \n",
    "  * 20: only SBM present and correct\n",
    "  * 4: STQ and SBM links disagree, but the either the landing pages or the document metadata are the same\n",
    "  * 4 other cases"
   ]
  },
  {
   "cell_type": "markdown",
   "metadata": {},
   "source": [
    "### All links agree\n",
    "\n",
    "How many cases we have, in which all three links agree?"
   ]
  },
  {
   "cell_type": "code",
   "execution_count": 8,
   "metadata": {},
   "outputs": [
    {
     "name": "stdout",
     "output_type": "stream",
     "text": [
      "All links agree: 481\n"
     ]
    }
   ],
   "source": [
    "data_all_agree = [d for d in data\n",
    "                  if d[orig_link] is not None and d[orig_link] == d[stq_link] and d[sbm_link] == d[stq_link]]\n",
    "print('All links agree: {}'.format(len(data_all_agree)))"
   ]
  },
  {
   "cell_type": "markdown",
   "metadata": {},
   "source": [
    "Almost half of all the cases, and 89% of the cases with not null original link. This also confirms large agreement between STQ and SBM."
   ]
  },
  {
   "cell_type": "markdown",
   "metadata": {},
   "source": [
    "### Original link is different\n",
    "\n",
    "In how many cases SBM link is the same as STQ link, but original link is not null and different?"
   ]
  },
  {
   "cell_type": "code",
   "execution_count": 9,
   "metadata": {},
   "outputs": [
    {
     "name": "stdout",
     "output_type": "stream",
     "text": [
      "Original link is different : 2\n"
     ]
    },
    {
     "data": {
      "text/plain": [
       "[('original link incorrect', 1), ('different version of the paper', 1)]"
      ]
     },
     "execution_count": 9,
     "metadata": {},
     "output_type": "execute_result"
    }
   ],
   "source": [
    "data_diff_orig = [d for d in data\n",
    "                  if d[orig_link] is not None and d[orig_link] != d[stq_link] and d[sbm_link] == d[stq_link]]\n",
    "print('Original link is different : {}'.format(len(data_diff_orig)))\n",
    "summarize_comments(data_diff_orig)"
   ]
  },
  {
   "cell_type": "markdown",
   "metadata": {},
   "source": [
    "Only 2 references:\n",
    "  * in one case the DOIs link to two different versions of the same paper (with identical metadata)\n",
    "  * in the second case the original link is incorrect"
   ]
  },
  {
   "cell_type": "markdown",
   "metadata": {},
   "source": [
    "### STQ link is different\n",
    "  \n",
    "Now let's see the cases, where original and SBM links agree and STQ is different:"
   ]
  },
  {
   "cell_type": "code",
   "execution_count": 10,
   "metadata": {},
   "outputs": [
    {
     "name": "stdout",
     "output_type": "stream",
     "text": [
      "STQ link is different : 31\n"
     ]
    },
    {
     "data": {
      "text/plain": [
       "[('STQ link missing', 31)]"
      ]
     },
     "execution_count": 10,
     "metadata": {},
     "output_type": "execute_result"
    }
   ],
   "source": [
    "data_diff_stq = [d for d in data\n",
    "                 if d[orig_link] is not None and d[orig_link] != d[stq_link] and d[sbm_link] == d[orig_link]]\n",
    "print('STQ link is different : {}'.format(len(data_diff_stq)))\n",
    "summarize_comments(data_diff_stq)"
   ]
  },
  {
   "cell_type": "markdown",
   "metadata": {},
   "source": [
    "In all cases STQ link is simply missing."
   ]
  },
  {
   "cell_type": "markdown",
   "metadata": {},
   "source": [
    "### SBM link is different\n",
    "\n",
    "How many cases we have, where SBM link is different from the other two?"
   ]
  },
  {
   "cell_type": "code",
   "execution_count": 11,
   "metadata": {},
   "outputs": [
    {
     "name": "stdout",
     "output_type": "stream",
     "text": [
      "SBT link is different : 24\n"
     ]
    },
    {
     "data": {
      "text/plain": [
       "[('SBM link incorrect', 14),\n",
       " ('same document (metadata)', 3),\n",
       " ('same document (landing page)', 2),\n",
       " ('SBM links to a chapter', 2),\n",
       " ('SBM links to a correction', 1),\n",
       " ('original link incorrect', 1),\n",
       " ('SBM links to one paper in conference proceedings', 1)]"
      ]
     },
     "execution_count": 11,
     "metadata": {},
     "output_type": "execute_result"
    }
   ],
   "source": [
    "data_diff_sbt = [d for d in data\n",
    "                if d[orig_link] is not None and d[orig_link] == d[stq_link] and d[sbm_link] != d[orig_link]]\n",
    "print('SBT link is different : {}'.format(len(data_diff_sbt)))\n",
    "summarize_comments(data_diff_sbt)"
   ]
  },
  {
   "cell_type": "markdown",
   "metadata": {},
   "source": [
    "Out of 24 cases:\n",
    "  * in 14 cases SBM link is incorrect (11 of those are strings not containing the title of the reference)\n",
    "  * in 5 cases DOIs are the same or link to the same document\n",
    "  * in 4 cases SBM links to a document related to the correct one, such as a chapter or a correction\n",
    "  * in 1 case the original link is incorrect"
   ]
  },
  {
   "cell_type": "markdown",
   "metadata": {},
   "source": [
    "### All three links are different"
   ]
  },
  {
   "cell_type": "code",
   "execution_count": 12,
   "metadata": {},
   "outputs": [
    {
     "name": "stdout",
     "output_type": "stream",
     "text": [
      "All links different : 3\n"
     ]
    },
    {
     "data": {
      "text/plain": [
       "[('STQ link missing; both link to a different chapter', 2),\n",
       " ('STQ link missing; SBM link incorrect', 1)]"
      ]
     },
     "execution_count": 12,
     "metadata": {},
     "output_type": "execute_result"
    }
   ],
   "source": [
    "data_diff_all = [d for d in data\n",
    "                 if d[orig_link] is not None and d[orig_link] != d[stq_link]\n",
    "                 and d[sbm_link] != d[orig_link] and d[stq_link] != d[sbm_link]]\n",
    "print('All links different : {}'.format(len(data_diff_all)))\n",
    "summarize_comments(data_diff_all)"
   ]
  },
  {
   "cell_type": "markdown",
   "metadata": {},
   "source": [
    "In all three cases STQ link is missing and SBT link is incorrect.\n",
    "\n",
    "Finally, let's see the overall distribution of all 1000 cases:"
   ]
  },
  {
   "cell_type": "code",
   "execution_count": 13,
   "metadata": {},
   "outputs": [
    {
     "data": {
      "image/png": "[encoded data removed]",
      "text/plain": [
       "<Figure size 648x432 with 1 Axes>"
      ]
     },
     "metadata": {},
     "output_type": "display_data"
    }
   ],
   "source": [
    "labels = 'all links agree', 'stq null; orig and SBM agree', 'orig null; STQ and SBM agree', \\\n",
    "         'orig null; STQ and SBM disagree', 'other cases'\n",
    "sizes = [481, 29, 139, 320, 31]\n",
    "\n",
    "fig, ax = plt.subplots(figsize=(9,6))\n",
    "ax.pie(sizes, labels=labels, autopct='%1.1f%%', startangle=90,\n",
    "       colors=['#d8d2c4', '#4f5858', '#3eb1c8', '#ffc72c', '#ef3340'])\n",
    "ax.axis('equal')\n",
    "\n",
    "plt.show()"
   ]
  }
 ],
 "metadata": {
  "kernelspec": {
   "display_name": "Python 3",
   "language": "python",
   "name": "python3"
  },
  "language_info": {
   "codemirror_mode": {
    "name": "ipython",
    "version": 3
   },
   "file_extension": ".py",
   "mimetype": "text/x-python",
   "name": "python",
   "nbconvert_exporter": "python",
   "pygments_lexer": "ipython3",
   "version": "3.6.6"
  }
 },
 "nbformat": 4,
 "nbformat_minor": 2
}
