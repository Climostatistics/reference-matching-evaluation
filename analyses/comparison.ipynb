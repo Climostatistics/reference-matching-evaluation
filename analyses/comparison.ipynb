{
 "cells": [
  {
   "cell_type": "markdown",
   "metadata": {},
   "source": [
    "# Comparison of reference matching algorithms\n",
    "\n",
    "Dominika Tkaczyk\n",
    "\n",
    "7.11.2018\n",
    "\n",
    "This file contains the comparison of the following approaches to bibliographic reference matching:\n",
    "  * **STQ**: the currently used matching approach\n",
    "  * **SBM** and **SBMV**: search-based matching\n",
    "\n",
    "**STQ** is Crossref's current matching algorithm. STQ internally uses a 3rd party parser and regular expressions and queries the Oracle. I run this matching algorithm using [Simple Text Query form](https://apps.crossref.org/SimpleTextQuery/).\n",
    "\n",
    "**SBM** (Search-Based Matching) is a new idea, based on the search functionality of Crossref REST API. It is a very simple algorithm, which doesn't include any reference parsing step. In SBM the entire reference string is used as a search query in REST API. The first hit is returned as the matched target document, if its relevance score is high enough. If the relevance score of the first hit is low, no target DOI is assigned and the reference string stays unmatched.\n",
    "\n",
    "**SBMV** (Search-Based Matching with Validation) is a variation of SBM, in which we use additional validation procedure on top of SBM. In SBMV, \"simple\" SBM is first applied and a number of top search results are selected as candidate target documents. Second, during the validation the candidates are re-scored based on the validation similarity between the input string and the candidates. This validation similarity is based on the presence of the candidate's metadata fields (year, volume, issue, pages, the lastname of the first author, etc.) in the input reference string, as well as the relevance score returned by the search engine. Finally, the most similar candidate is chosen as the final target document, if its similarity is high enough. If the highest similarity is low, null value is returned and the reference string stays unmatched.\n",
    "\n",
    "The goal of this analysis is to evaluate and compare these matching algorithms."
   ]
  },
  {
   "cell_type": "markdown",
   "metadata": {},
   "source": [
    "## TL;DR\n",
    "\n",
    "  * A large automatically generated dataset was used for the experiments. It is composed of 7374 real metadata records, each of which was formatted automatically into reference strings using 11 citation styles.\n",
    "  * The main metrics used for the evaluation are [precision and recall](https://en.wikipedia.org/wiki/Precision_and_recall). I also use [F1](https://en.wikipedia.org/wiki/F1_score) as a standard metric that combines precision and recall into a single number, weighing them equally.\n",
    "  * Three variations of search-based matching were tested and compared against STQ (more about the thresholds and how their values were calculated can be found [here](https://github.com/CrossRef/reference-matching-evaluation/blob/master/analyses/relevance_threshold.ipynb)):\n",
    "    * SBM with a simple relevance threshold of 53\n",
    "    * SBM with a normalized relevance threshold of 0.47\n",
    "    * SBMV with a normalized threshold of 0.4 and a validation threshold of 0.6\n",
    "  * All variations of SBM(V) outperform STQ on the automatically generated dataset:\n",
    "    * SBM with a simple threshold: F1 78.7% vs. 52.9%\n",
    "    * SBM with a normalized threshold: F1 83.5% vs. 52.9%\n",
    "    * SBMV: F1 84.5% vs. 52.9%\n",
    "  * **The best approach is SBMV**:\n",
    "    * **SBMV is slightly worse than STQ in precision** (99.2% vs. 99.3%, not statistically significant)\n",
    "    * **SBMV is much better than STQ in recall** (79.0% vs. 42.0%, statistically significant)\n",
    "  * SBM with a simple threshold outperforms STQ in 8 citation styles out of 11. SBM with a normalized threshold and **SBMV outperform STQ in all 11 citation styles**.\n",
    "  * Weak spot of STQ are degraded/noisy reference strings, which do not appear to use any of the known citation style.\n",
    "  * Weak spot of SBM(V) are short reference strings, and in particular citation styles that do not include the title in the string."
   ]
  },
  {
   "cell_type": "markdown",
   "metadata": {},
   "source": [
    "## Methodology"
   ]
  },
  {
   "cell_type": "markdown",
   "metadata": {},
   "source": [
    "### The algorithms\n",
    "\n",
    "Four algorithms were compared in this experiment:\n",
    "* STQ\n",
    "* SBM with a simple relevance threshold of 53\n",
    "* SBM with a normalized relevance threshold of 0.47\n",
    "* SBMV with a normalized relevance threshold of 0.4 and a similarity threshold of 0.6\n",
    "\n",
    "The threshold values used here are the best values calculated in a separate [analysis](https://github.com/CrossRef/reference-matching-evaluation/blob/master/analyses/relevance_threshold.ipynb)."
   ]
  },
  {
   "cell_type": "markdown",
   "metadata": {},
   "source": [
    "### The dataset\n",
    "\n",
    "The dataset used for the experiments was generated automatically using the following workflow.\n",
    "\n",
    "First, I took a random sample of 2500 items from the system. (This number was chosen as big enough to give reliable results and small enough to handle the current STQ form limits.) This is my base sample.\n",
    "\n",
    "Second, I extended the sample by adding up to 2 similar documents for each item in the sample. Similar documents were found by selecting the highest hits from the search results. As a search query I used the concatenation of the title, container title and family names of all the authors. This step was performed to increase the probability of incorrect links pointing to the base sample (i.e. to have a non-zero false positive rate). Extending the dataset resulted in 7374 items in total (fewer than 3 x the original sample size, because for some documents fewer than 2 similar documents could be found)."
   ]
  },
  {
   "cell_type": "markdown",
   "metadata": {},
   "source": [
    "Next, reference strings were generated for all items. In this experiment, I used the following 11 styles:\n",
    "  * popular styles:\n",
    "    * **american-chemical-society**\n",
    "    * **american-institute-of-physics**\n",
    "    * **elsevier-without-titles**\n",
    "    * **apa**\n",
    "    * **chicago-author-date**\n",
    "    * **modern-language-association**\n",
    "  * popular styles + random noise added to the reference strings (additional spaces, missing spaces, typos):\n",
    "    * **apa+noise**\n",
    "    * **american-institute-of-physics+noise**\n",
    "  * custom \"styles\":\n",
    "    * **degraded_all_authors**: a simple concatenation of authors' names, title, container title, year, volume, issue and pages\n",
    "    * **degraded_one_author**: a simple concatenation of the first author's name, title, container title, year, volume, issue and pages\n",
    "    * **degraded_title_scrambled**: same as degraded_all_authors, but with the title words randomly shuffled\n",
    "\n",
    "Finally, each string was passed to all reference matching algorithms and the returned matched DOIs were recorded. For SBM and SBMV I also kept the resulting relevance/similarity scores, so that it is possible to later apply any threshold.\n",
    "\n",
    "Note that this workflow is automatic, but it resembles what a lot of authors do when they compile the bibliographies for their papers (finding the metadata of the cited paper in a digital repository, and using a tool to format the metadata into a specified citation style). As a result, even though the reference strings we have in the dataset are not strings we actually came across in the live system, these are strings that could easily appear there. "
   ]
  },
  {
   "cell_type": "markdown",
   "metadata": {},
   "source": [
    "### The metrics\n",
    "\n",
    "\n",
    "To evaluate and compare the algorithms, I used averaged document-based metrics. More specifically, for each document from the base sample the following metrics are calculated:\n",
    "  * **precision**: what fraction of links to document X returned by the matching algorithm are correct (or: what is the probability that the link to document X returned by the algorithm is correct)\n",
    "  * **recall**: what fraction of true expected links to document X were returned by the algorithm (or: what is the probability that the true link to document X will be returned by the algorithm)\n",
    "  * **F1**: harmonic mean of precision and recall. F1 is a standard metric, used in information retrieval to combine precision and recall into a single number, weighing them equally. A more generic version of this metric, called F-measure, can be used to place more emphasis on either precision or recall. In these experiments I use a balanced version.\n",
    "\n",
    "These numbers are then averaged over all 2500 documents from the base sample. The averages can be treated as single-number metrics, and the distributions of the results over the documents allow to calculate the confidence intervals. \n",
    "\n",
    "More information about the metrics can be found [here](https://docs.google.com/document/d/1X0clkjH-HM3DLVPWDgAZgS97Th4slniq28F9o-yd53k). More information about the foundations of sampling and confidence intervals can be found in [this notebook](https://github.com/CrossRef/reference-matching-evaluation/blob/master/analyses/sampling_notes.ipynb)."
   ]
  },
  {
   "cell_type": "markdown",
   "metadata": {},
   "source": [
    "## Results"
   ]
  },
  {
   "cell_type": "code",
   "execution_count": 1,
   "metadata": {},
   "outputs": [],
   "source": [
    "import sys\n",
    "sys.path.append('..')\n",
    "\n",
    "%matplotlib inline\n",
    "\n",
    "import matplotlib.pyplot as plt\n",
    "import numpy as np\n",
    "import re\n",
    "import utils.data_format_keys as dfk\n",
    "\n",
    "from evaluation.document_metrics import ByDocumentMetricsResults\n",
    "from evaluation.split_metrics import SplitByRefAttrResults\n",
    "from scipy.stats import ttest_rel\n",
    "from utils.utils import read_json\n",
    "\n",
    "DATA_DIR = '../data/comparison/'\n",
    "STYLES = ['american-chemical-society', 'american-institute-of-physics', 'american-institute-of-physics-noise', 'apa',\n",
    "          'apa-noise', 'chicago-author-date', 'degraded_all_authors', 'degraded_one_author',\n",
    "          'degraded_title_scrambled', 'elsevier-without-titles', 'modern-language-association']"
   ]
  },
  {
   "cell_type": "markdown",
   "metadata": {},
   "source": [
    "Let's first read the data:"
   ]
  },
  {
   "cell_type": "code",
   "execution_count": 2,
   "metadata": {},
   "outputs": [
    {
     "name": "stdout",
     "output_type": "stream",
     "text": [
      "STQ dataset size: 81114\n",
      "SBM dataset size: 81114\n",
      "SBMV dataset size: 81114\n"
     ]
    }
   ],
   "source": [
    "def read_data(algorithm):\n",
    "    dataset = []\n",
    "    for style in STYLES:\n",
    "        d = read_json(DATA_DIR + 'matched/matched-' + algorithm + '-' + style + '.json')\n",
    "        dois = d[dfk.DATASET_DOIS]\n",
    "        dataset.extend(d[dfk.DATASET_DATASET])\n",
    "    return dataset, dois\n",
    "\n",
    "dataset_stq, dois = read_data('stq')\n",
    "dataset_sbm, _ = read_data('sbm')\n",
    "dataset_sbmv, _ = read_data('sbmv')\n",
    "print('STQ dataset size: {}'.format(len(dataset_stq)))\n",
    "print('SBM dataset size: {}'.format(len(dataset_sbm)))\n",
    "print('SBMV dataset size: {}'.format(len(dataset_sbmv)))"
   ]
  },
  {
   "cell_type": "markdown",
   "metadata": {},
   "source": [
    "*dois* is the list of 2500 DOIs from the original sample. We will need it for the evaluation."
   ]
  },
  {
   "cell_type": "code",
   "execution_count": 3,
   "metadata": {},
   "outputs": [
    {
     "name": "stdout",
     "output_type": "stream",
     "text": [
      "Size of the base sample: 2500\n"
     ]
    }
   ],
   "source": [
    "print('Size of the base sample: {}'.format(len(dois)))"
   ]
  },
  {
   "cell_type": "markdown",
   "metadata": {},
   "source": [
    "Let's first look at the overall averaged results for all the citation styles combined into a single dataset. Here are the results of STQ algorithm:"
   ]
  },
  {
   "cell_type": "code",
   "execution_count": 4,
   "metadata": {},
   "outputs": [
    {
     "name": "stdout",
     "output_type": "stream",
     "text": [
      "Average precision for STQ algorithm: 0.9933 (confidence interval (95%): 0.9910 - 0.9956)\n",
      "Average recall for STQ algorithm: 0.4203 (confidence interval (95%): 0.4095 - 0.4312)\n",
      "Average F1 for STQ algorithm: 0.5289 (confidence interval (95%): 0.5164 - 0.5413)\n"
     ]
    }
   ],
   "source": [
    "def print_summary(results, name):\n",
    "    for av, ci, metric in results.metrics_groups:\n",
    "        print('Average {} for {} algorithm: {:.4f} (confidence interval (95%): {:.4f} - {:.4f})'\n",
    "              .format(metric, name, results.get(av), results.get(ci)[0], results.get(ci)[1]))\n",
    "\n",
    "results_stq = ByDocumentMetricsResults(dataset_stq, dois)\n",
    "results_style_stq = SplitByRefAttrResults(dataset_stq, 'style', dois)\n",
    "print_summary(results_stq, 'STQ')"
   ]
  },
  {
   "cell_type": "markdown",
   "metadata": {},
   "source": [
    "In order to calculate the results for SBM and SBMV, we have to modify the SBM and SBMV datasets according to the best thresholds calculated previously. These functions will modify the dataset according to the simple, normalized or validation threshold:"
   ]
  },
  {
   "cell_type": "code",
   "execution_count": 5,
   "metadata": {},
   "outputs": [],
   "source": [
    "def modify_simple_threshold(dataset, threshold):\n",
    "    for item in dataset:\n",
    "        if item[dfk.DATASET_SCORE] is not None and item[dfk.DATASET_SCORE] < threshold:\n",
    "            item[dfk.DATASET_TARGET_TEST][dfk.CR_ITEM_DOI] = None\n",
    "    return dataset\n",
    "\n",
    "def modify_norm_threshold(dataset, threshold):\n",
    "    for item in dataset:\n",
    "        if item[dfk.DATASET_SCORE] is not None \\\n",
    "            and item[dfk.DATASET_SCORE]/len(item[dfk.DATASET_REF_STRING]) < threshold:\n",
    "            item[dfk.DATASET_TARGET_TEST][dfk.CR_ITEM_DOI] = None\n",
    "    return dataset\n",
    "\n",
    "def modify_valid_threshold(dataset, threshold):\n",
    "    for item in dataset:\n",
    "        if item[dfk.DATASET_SCORE] is not None and item[dfk.DATASET_SCORE] < threshold:\n",
    "            item[dfk.DATASET_TARGET_TEST][dfk.CR_ITEM_DOI] = None\n",
    "    return dataset"
   ]
  },
  {
   "cell_type": "markdown",
   "metadata": {},
   "source": [
    "Let's calculate the results for SBM with the best simple threshold of 53:"
   ]
  },
  {
   "cell_type": "code",
   "execution_count": 6,
   "metadata": {},
   "outputs": [
    {
     "name": "stdout",
     "output_type": "stream",
     "text": [
      "Average precision for SBM (t=53) algorithm: 0.9890 (confidence interval (95%): 0.9863 - 0.9917)\n",
      "Average recall for SBM (t=53) algorithm: 0.7127 (confidence interval (95%): 0.7021 - 0.7233)\n",
      "Average F1 for SBM (t=53) algorithm: 0.7866 (confidence interval (95%): 0.7763 - 0.7968)\n"
     ]
    }
   ],
   "source": [
    "dataset_sbm, _ = read_data('sbm')\n",
    "dataset_sbm = modify_simple_threshold(dataset_sbm, 53)\n",
    "results_sbm_53 = ByDocumentMetricsResults(dataset_sbm, dois)\n",
    "results_style_sbm_53 = SplitByRefAttrResults(dataset_sbm, 'style', dois)\n",
    "print_summary(results_sbm_53, 'SBM (t=53)')"
   ]
  },
  {
   "cell_type": "markdown",
   "metadata": {},
   "source": [
    "And here we have the results for SBM with the best normalized threshold of 0.47:"
   ]
  },
  {
   "cell_type": "code",
   "execution_count": 7,
   "metadata": {},
   "outputs": [
    {
     "name": "stdout",
     "output_type": "stream",
     "text": [
      "Average precision for SBM (tnorm=0.47) algorithm: 0.9872 (confidence interval (95%): 0.9844 - 0.9901)\n",
      "Average recall for SBM (tnorm=0.47) algorithm: 0.7905 (confidence interval (95%): 0.7796 - 0.8015)\n",
      "Average F1 for SBM (tnorm=0.47) algorithm: 0.8354 (confidence interval (95%): 0.8249 - 0.8458)\n"
     ]
    }
   ],
   "source": [
    "dataset_sbm, _ = read_data('sbm')\n",
    "dataset_sbm = modify_norm_threshold(dataset_sbm, 0.47)\n",
    "results_sbm_047 = ByDocumentMetricsResults(dataset_sbm, dois)\n",
    "results_style_sbm_047 = SplitByRefAttrResults(dataset_sbm, 'style', dois)\n",
    "print_summary(results_sbm_047, 'SBM (tnorm=0.47)')"
   ]
  },
  {
   "cell_type": "markdown",
   "metadata": {},
   "source": [
    "Finally, the results for SBMV with the normalized threshold of 0.4 for candidate selection and the validation threshold of 0.6:"
   ]
  },
  {
   "cell_type": "code",
   "execution_count": 8,
   "metadata": {},
   "outputs": [
    {
     "name": "stdout",
     "output_type": "stream",
     "text": [
      "Average precision for SBMV (tvalid=0.6) algorithm: 0.9923 (confidence interval (95%): 0.9902 - 0.9945)\n",
      "Average recall for SBMV (tvalid=0.6) algorithm: 0.7902 (confidence interval (95%): 0.7802 - 0.8002)\n",
      "Average F1 for SBMV (tvalid=0.6) algorithm: 0.8448 (confidence interval (95%): 0.8352 - 0.8544)\n"
     ]
    }
   ],
   "source": [
    "dataset_sbmv, _ = read_data('sbmv')\n",
    "dataset_sbmv = modify_simple_threshold(dataset_sbmv, 0.6)\n",
    "results_sbmv_06 = ByDocumentMetricsResults(dataset_sbmv, dois)\n",
    "results_style_sbmv_06 = SplitByRefAttrResults(dataset_sbmv, 'style', dois)\n",
    "print_summary(results_sbmv_06, 'SBMV (tvalid=0.6)')"
   ]
  },
  {
   "cell_type": "markdown",
   "metadata": {},
   "source": [
    "Let's compare the overall results using a single plot:"
   ]
  },
  {
   "cell_type": "code",
   "execution_count": 9,
   "metadata": {},
   "outputs": [],
   "source": [
    "def get_means(results):\n",
    "    return [results.get(m) for m in [dfk.EVAL_MEAN_PREC, dfk.EVAL_MEAN_REC, dfk.EVAL_MEAN_F1]]\n",
    "\n",
    "def get_ses(results):\n",
    "    return [(results.get(m)[1]-results.get(m)[0])/2 for m in [dfk.EVAL_CI_PREC, dfk.EVAL_CI_REC, dfk.EVAL_CI_F1]]"
   ]
  },
  {
   "cell_type": "code",
   "execution_count": 10,
   "metadata": {},
   "outputs": [
    {
     "data": {
      "image/png": "[encoded data removed]",
      "text/plain": [
       "<Figure size 864x648 with 1 Axes>"
      ]
     },
     "metadata": {
      "needs_background": "light"
     },
     "output_type": "display_data"
    }
   ],
   "source": [
    "def autolabel(ax, rects):\n",
    "    plt.rcParams.update({'font.size': 10})\n",
    "    for rect in rects:\n",
    "        height = rect.get_height()\n",
    "        text = '{:.2f}'.format(height)\n",
    "        text = re.sub('\\.00$', '', text)\n",
    "        ax.text(rect.get_x() + rect.get_width()/2., 1.03*height, text, ha='center', va='bottom')\n",
    "\n",
    "ind = np.arange(3)\n",
    "width = 0.2\n",
    "plt.rcParams.update({'font.size': 15}) \n",
    "fig, ax = plt.subplots(figsize=(12, 9))\n",
    "\n",
    "rects1 = ax.bar(ind - width, get_means(results_stq), width, color='#d8d2c4', yerr=get_ses(results_stq))\n",
    "rects2 = ax.bar(ind, get_means(results_sbm_53), width, color='#4f5858', yerr=get_ses(results_sbm_53))\n",
    "rects3 = ax.bar(ind + width, get_means(results_sbm_047), width, color='#3eb1c8', yerr=get_ses(results_sbm_047))\n",
    "rects4 = ax.bar(ind + 2*width, get_means(results_sbmv_06), width, color='#ffc72c', yerr=get_ses(results_sbmv_06))\n",
    "\n",
    "ax.set_ylabel('fraction')\n",
    "ax.set_title('Overall averaged results')\n",
    "ax.set_xticks(ind + width / 2)\n",
    "ax.set_xticklabels(('precision', 'recall', 'F1'))\n",
    "plt.ylim(0, 1.2)\n",
    "plt.yticks([0, 0.2, 0.4, 0.6, 0.8, 1.0])\n",
    "ax.legend((rects1[0], rects2[0], rects3[0], rects4[0]),\n",
    "          ('STQ', 'SBM (simple threshold)', 'SBM (norm threshold)', 'SBMV'))\n",
    "autolabel(ax, rects1)\n",
    "autolabel(ax, rects2)\n",
    "autolabel(ax, rects3)\n",
    "autolabel(ax, rects4)\n",
    "\n",
    "plt.show()"
   ]
  },
  {
   "cell_type": "markdown",
   "metadata": {},
   "source": [
    "All versions of SBM(V) outperform STQ in terms of F1, with a slightly worse precision and much better recall.\n",
    "\n",
    "SBMV is the best algorithm, outperforming both STQ and SBM. SBMV's precision is very close to STQ's. At the same time, SBMV achieves recall almost twice as STQ's recall (79.02% vs. 42.03%). STQ's small recall suggests that STQ is very conservative and as a result, misses quite a few links.\n",
    "\n",
    "I will also compare SBMV's and STQ's precisions, recalls and F1s for target documents using a paired Student's t-test. This will tell us whether the differences are statistically significant, or only the effect of sampling randomness."
   ]
  },
  {
   "cell_type": "code",
   "execution_count": 11,
   "metadata": {},
   "outputs": [
    {
     "name": "stdout",
     "output_type": "stream",
     "text": [
      "precision p-value: 0.4401 (this is not statistically significant)\n",
      "recall p-value: 0.0000 (this is statistically significant)\n",
      "F1 p-value: 0.0000 (this is statistically significant)\n"
     ]
    }
   ],
   "source": [
    "results_docs_stq = results_stq.get(dfk.EVAL_DOC_METRICS)\n",
    "results_docs_sbmv = results_sbmv_06.get(dfk.EVAL_DOC_METRICS)\n",
    "\n",
    "for metric in ['precision', 'recall', 'F1']:\n",
    "    _, p = ttest_rel(results_docs_stq[metric], results_docs_sbmv[metric])\n",
    "    c = 'this is statistically significant' if p < 0.05 else 'this is not statistically significant'\n",
    "    print('{} p-value: {:.4f} ({})'.format(metric, p, c))"
   ]
  },
  {
   "cell_type": "markdown",
   "metadata": {},
   "source": [
    "In each case, the test calculates the p-value. P-value is the probability of observing in our data the difference at least as big as we have, just by chance. P-value is typically compared to a predefined threshold (I used 5%) and based on this, we conclude the significance:\n",
    "* If p-value is smaller than the threshold, it means it was very unlikely to observe the difference we have just by chance. In this case we conclude the difference is statistically significant.\n",
    "* If p-value is larger than the threshold, it means it was more likely to observe the difference we have just by chance. In this case we conclude the difference is not statistically significant.\n",
    "\n",
    "As we can see, the difference in precision between SBMV and STQ is not statistically significant, and the differences in recall and F1 is.\n",
    "\n",
    "Let's also see what would the validation threshold be if we wanted SBMV to match the STQ's precision:"
   ]
  },
  {
   "cell_type": "code",
   "execution_count": 12,
   "metadata": {},
   "outputs": [
    {
     "name": "stdout",
     "output_type": "stream",
     "text": [
      "STQ's precision is matched for threshold 0.73\n",
      "Recall for this threshold: 0.6605\n"
     ]
    }
   ],
   "source": [
    "dataset_sbmv, _ = read_data('sbmv')\n",
    "results = [ByDocumentMetricsResults(modify_simple_threshold(dataset_sbmv, t), dois) for t in np.arange(0, 1, 0.01)]\n",
    "thresholds = np.arange(0, 1, 0.1)\n",
    "precisions = [r.get(dfk.EVAL_MEAN_PREC) for r in results]\n",
    "recalls = [r.get(dfk.EVAL_MEAN_REC) for r in results]\n",
    "for i, p in enumerate(precisions):\n",
    "    if p >= 0.9933:\n",
    "        break\n",
    "print('STQ\\'s precision is matched for threshold {}'.format(i/100))\n",
    "print('Recall for this threshold: {:.4f}'.format(recalls[i]))"
   ]
  },
  {
   "cell_type": "markdown",
   "metadata": {},
   "source": [
    "As we can see, for the validation threshold of 0.73 SBMV achieves precision at least as good as STQ's precision. For this threshold, SBMV's recall is 66.05%, which is still much higher than STQ's recall of 42.03%.\n",
    "\n",
    "Finally, let's also compare precision, recall and F1 for each style separately. "
   ]
  },
  {
   "cell_type": "code",
   "execution_count": 13,
   "metadata": {},
   "outputs": [],
   "source": [
    "def get_results_style(results, style):\n",
    "    results = results.get(dfk.EVAL_SPLIT_METRICS)\n",
    "    results = results.iloc[:,[7,8,9]][results['style'] == style]\n",
    "    return list(results.to_records(index=False)[0])"
   ]
  },
  {
   "cell_type": "code",
   "execution_count": 14,
   "metadata": {},
   "outputs": [
    {
     "data": {
      "image/png": "[encoded data removed]",
      "text/plain": [
       "<Figure size 720x576 with 12 Axes>"
      ]
     },
     "metadata": {
      "needs_background": "light"
     },
     "output_type": "display_data"
    }
   ],
   "source": [
    "f, axes = plt.subplots(4, 3, sharex=True, sharey=True, figsize=(10, 8))\n",
    "ind = np.arange(3)\n",
    "width = 0.2\n",
    "\n",
    "styles = [['apa-noise', 'american-institute-of-physics-noise'],\n",
    "          ['apa', 'chicago-author-date', 'modern-language-association'],\n",
    "          ['american-chemical-society', 'american-institute-of-physics', 'elsevier-without-titles'],\n",
    "          ['degraded_all_authors', 'degraded_one_author', 'degraded_title_scrambled']]\n",
    "titles = [['apa+noise', 'aip+noise'],\n",
    "          ['apa', 'chicago', 'mla'],\n",
    "          ['acs', 'aip', 'ewt'],\n",
    "          ['degraded', 'one author', 'title scrambled']]\n",
    "\n",
    "for i in range(4):\n",
    "    for j in range(3):\n",
    "        if len(styles) <= i or len(styles[i]) <= j:\n",
    "            continue\n",
    "        rects1 = axes[i, j].bar(ind-width, get_results_style(results_style_stq, styles[i][j]), width, color='#d8d2c4')\n",
    "        rects2 = axes[i, j].bar(ind, get_results_style(results_style_sbm_53, styles[i][j]), width, color='#4f5858')\n",
    "        rects3 = axes[i, j].bar(ind+width, get_results_style(results_style_sbm_047, styles[i][j]), width, color='#3eb1c8')\n",
    "        rects4 = axes[i, j].bar(ind+2*width, get_results_style(results_style_sbmv_06, styles[i][j]), width, color='#ffc72c')\n",
    "        axes[i, j].set_title(titles[i][j])\n",
    "\n",
    "axes[0, 0].set_xticks(ind + width / 2)\n",
    "axes[0, 0].set_xticklabels(('precision', 'recall', 'F1'))\n",
    "axes[0, 2].legend((rects1[0], rects2[0], rects3[0], rects4[0]),\n",
    "                  ('STQ', 'SBM (simple threshold)', 'SBM (norm threshold)', 'SBMV'),\n",
    "                  loc=3, bbox_to_anchor=(0, 0.25))\n",
    "\n",
    "for i in range(3):\n",
    "    for j in range(3):\n",
    "        axes[i, j].xaxis.set_ticks_position('none') \n",
    "for i in range(4):\n",
    "    for j in [1,2]:\n",
    "        axes[i, j].yaxis.set_ticks_position('none')\n",
    "axes[0, 2].axis('off')\n",
    "\n",
    "plt.ylim(0, 1.15)\n",
    "plt.yticks([0, 0.2, 0.4, 0.6, 0.8, 1.0])\n",
    "plt.show()"
   ]
  },
  {
   "cell_type": "markdown",
   "metadata": {},
   "source": [
    "SBM with a simple threshold is worse than STQ for styles that do not include the title (acs, aip, ewt). Both SBM with a normalized threshold and SBMV are in every case better than STQ."
   ]
  }
 ],
 "metadata": {
  "kernelspec": {
   "display_name": "Python 3",
   "language": "python",
   "name": "python3"
  },
  "language_info": {
   "codemirror_mode": {
    "name": "ipython",
    "version": 3
   },
   "file_extension": ".py",
   "mimetype": "text/x-python",
   "name": "python",
   "nbconvert_exporter": "python",
   "pygments_lexer": "ipython3",
   "version": "3.6.6"
  }
 },
 "nbformat": 4,
 "nbformat_minor": 2
}
