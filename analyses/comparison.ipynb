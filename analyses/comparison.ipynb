{
 "cells": [
  {
   "cell_type": "markdown",
   "metadata": {},
   "source": [
    "# Comparison of reference matching algorithms\n",
    "\n",
    "Dominika Tkaczyk\n",
    "\n",
    "13.10.2018\n",
    "\n",
    "This file contains the the comparison of two approaches to bibliographic reference matching:\n",
    "  * **STQ**: the current approach based on Simple Text Query form\n",
    "  * **SBM**: the new idea based on the search API\n",
    "\n",
    "STQ is based on regular expressions and reference parsing.\n",
    "\n",
    "SBM is a very simple algorithm, which doesn't include any reference parsing step. In SBM the entire reference string is used as a query in the search engine. The first hit is returned as the matched target document, if its relevance score is high enough. If the relevance score of the first hit is low, no target DOI is assigned and the reference string stays unmatched.\n",
    "\n",
    "The goal of this analysis is to evaluate and compare both STQ and SBM."
   ]
  },
  {
   "cell_type": "markdown",
   "metadata": {},
   "source": [
    "## TL;DR\n",
    "\n",
    "  * A larget artificial dataset was used for the experiments.\n",
    "  * The main metrics are precision, recall and F1 averaged over a sample of target documents.\n",
    "  * Two variations of SBM were tested: SBM with a simple relevance threshold of 53 and SBM with a normalized relevance threshold of 0.47\n",
    "  * In general, STQ is better than SBM in precision, but worse in recall and F1.\n",
    "  * SBM with a simple relevance threshold outperforms STQ (F1 76% vs. 49%)\n",
    "  * SBM with a normalized relevance threshold outperforms STQ (F1 81% vs. 49%)\n",
    "  * SBM with a simple relevance threshold outperforms STQ in 8 styles out of 11\n",
    "  * SBM with a normalized relevance threshold outperforms STQ in all 11 styles"
   ]
  },
  {
   "cell_type": "markdown",
   "metadata": {},
   "source": [
    "## Methodology\n",
    "\n",
    "We need two things to evaluate and compare the algorithms: the dataset and the metrics."
   ]
  },
  {
   "cell_type": "markdown",
   "metadata": {},
   "source": [
    "### The dataset\n",
    "\n",
    "The dataset used for experiments was generated automatically using the following workflow.\n",
    "\n",
    "First, I took a random sample of 2500 items from the system. (This number was chosen as big enough to give reliable results and small enough to handle the current STQ form limits.) This is my base sample.\n",
    "\n",
    "Second, I extended the sample by adding up to 2 similar documents for each item in the sample. Similar documents were found by selecting the highest hits from the search results. As a search query I used the concatenation of the title, container title and family names of all the authors. This step was performed to increase the probability of incorrect links pointing to the base sample (ie. to have a non-zero false positive rate). Extending the dataset resulted in 7374 items in total (fewer than 3 x the original sample size, because for some documents fewer than 2 similar documents could be found).\n",
    "\n",
    "Next, reference strings were generated for all items. In this experiment, I used the following 11 styles:\n",
    "  * normal styles:\n",
    "    * **american-chemical-society**\n",
    "    * **american-institute-of-physics**\n",
    "    * **elsevier-without-titles**\n",
    "    * **apa**\n",
    "    * **chicago-author-date**\n",
    "    * **modern-language-association**\n",
    "  * normal styles + random noise added to the reference strings (additional spaces, missing spaces, typos):\n",
    "    * **apa+noise**\n",
    "    * **american-institute-of-physics+noise**\n",
    "  * custom \"styles\":\n",
    "    * **degraded_all_authors**: a simple concatenation of authors' names, title and container title\n",
    "    * **degraded_one_author**: a simple concatenation of the first author's name, title and container title\n",
    "    * **degraded_title_scrambled**: same as degraded_all_authors, but with title words randomly shuffled\n",
    " \n",
    "Finally, each string was passed to both reference matching algorithms and the returned matched DOIs were recorded. For SBM I also kept the resulting relevance scores, so that it is possible to apply any relevance score threshold after."
   ]
  },
  {
   "cell_type": "markdown",
   "metadata": {},
   "source": [
    "### The metrics\n",
    "\n",
    "\n",
    "To evaluate and compare the algorithms, I used averaged document-based metrics. More specifically, for each document from the base sample the following metrics are calculated:\n",
    "  * **precision**: what fraction of links to document X returned by the matching algorithm are correct (or: what is the probability that the link to document X returned by the algorithm is correct)\n",
    "  * **recall**: what fraction of true expected links to document X were returned by the algorithm (or: what is the probability that the true link to document X will be returned by the algorithm)\n",
    "  * **F1**: harmonic mean of precision and recall\n",
    "\n",
    "These numbers are then averaged over all 2500 documents from the base sample. The averages can be treated as single-number metrics, and the distributions of the results over the documents allow to calculate the confidence intervals. \n",
    "\n",
    "More information about the metrics can be found here: https://docs.google.com/document/d/1X0clkjH-HM3DLVPWDgAZgS97Th4slniq28F9o-yd53k More information about the foundations of sampling and confidence intervals can be found in this notebook: https://notebooks.labs.crossref.org/user/dtkaczyk/notebooks/dtkaczyk/sampling_notes.ipynb"
   ]
  },
  {
   "cell_type": "markdown",
   "metadata": {},
   "source": [
    "## Results"
   ]
  },
  {
   "cell_type": "code",
   "execution_count": 1,
   "metadata": {},
   "outputs": [],
   "source": [
    "import sys\n",
    "sys.path.append('..')\n",
    "\n",
    "%matplotlib inline\n",
    "\n",
    "import matplotlib.pyplot as plt\n",
    "import numpy as np\n",
    "import re\n",
    "import utils.data_format_keys as dfk\n",
    "\n",
    "from evaluation.document_metrics import ByDocumentMetricsResults\n",
    "from evaluation.split_metrics import SplitByRefAttrResults\n",
    "from utils.utils import read_json\n",
    "\n",
    "DATA_DIR = '../data/comparison/'\n",
    "STYLES = ['american-chemical-society', 'american-institute-of-physics', 'american-institute-of-physics-noise', 'apa',\n",
    "          'apa-noise', 'chicago-author-date', 'degraded_all_authors', 'degraded_one_author',\n",
    "          'degraded_title_scrambled', 'elsevier-without-titles', 'modern-language-association']"
   ]
  },
  {
   "cell_type": "markdown",
   "metadata": {},
   "source": [
    "Let's now read the data:"
   ]
  },
  {
   "cell_type": "code",
   "execution_count": 2,
   "metadata": {},
   "outputs": [
    {
     "name": "stdout",
     "output_type": "stream",
     "text": [
      "{'stq': 81114, 'sbm': 81114}\n"
     ]
    }
   ],
   "source": [
    "def read_data():\n",
    "    datasets = {}\n",
    "    for algo in ['sa', 'stq']:\n",
    "        datasets[algo] = []\n",
    "        for style in STYLES:\n",
    "            d = read_json(DATA_DIR + 'matched/matched-' + algo + '-' + style + '.json')\n",
    "            dois = d[dfk.DATASET_DOIS]\n",
    "            datasets[algo].extend(d[dfk.DATASET_DATASET])\n",
    "    datasets['sbm'] = datasets['sa']\n",
    "    datasets.pop('sa')\n",
    "    return datasets, dois\n",
    "\n",
    "datasets, dois = read_data()\n",
    "print({a: len(d) for a, d in datasets.items()})"
   ]
  },
  {
   "cell_type": "markdown",
   "metadata": {},
   "source": [
    "*dois* is the list of 2500 DOIs from the original sample. We will need it for the evaluation."
   ]
  },
  {
   "cell_type": "code",
   "execution_count": 3,
   "metadata": {},
   "outputs": [
    {
     "name": "stdout",
     "output_type": "stream",
     "text": [
      "Size of the base sample: 2500\n"
     ]
    }
   ],
   "source": [
    "print('Size of the base sample: {}'.format(len(dois)))"
   ]
  },
  {
   "cell_type": "markdown",
   "metadata": {},
   "source": [
    "Let's first look at the overall averaged results for all the citation styles combined into a single dataset, for STQ and SBM algorithms, respectively:"
   ]
  },
  {
   "cell_type": "code",
   "execution_count": 4,
   "metadata": {},
   "outputs": [],
   "source": [
    "def print_summary(results, name):\n",
    "    for av, ci, metric in results.metrics_groups:\n",
    "        print('Average {} for {} algorithm: {:.4f} (confidence interval (95%): {:.4f} - {:.4f})'\n",
    "              .format(metric, name, results.get(av), results.get(ci)[0], results.get(ci)[1]))"
   ]
  },
  {
   "cell_type": "code",
   "execution_count": 5,
   "metadata": {},
   "outputs": [
    {
     "name": "stdout",
     "output_type": "stream",
     "text": [
      "Average precision for STQ algorithm: 0.9932 (confidence interval (95%): 0.9908 - 0.9955)\n",
      "Average recall for STQ algorithm: 0.3820 (confidence interval (95%): 0.3716 - 0.3924)\n",
      "Average F1 for STQ algorithm: 0.4905 (confidence interval (95%): 0.4781 - 0.5028)\n"
     ]
    }
   ],
   "source": [
    "results_stq = ByDocumentMetricsResults(datasets['stq'], dois)\n",
    "results_style_stq = SplitByRefAttrResults(datasets['stq'], 'style', dois)\n",
    "print_summary(results_stq, 'STQ')"
   ]
  },
  {
   "cell_type": "code",
   "execution_count": 6,
   "metadata": {},
   "outputs": [
    {
     "name": "stdout",
     "output_type": "stream",
     "text": [
      "Average precision for SBM (t=0) algorithm: 0.9803 (confidence interval (95%): 0.9770 - 0.9836)\n",
      "Average recall for SBM (t=0) algorithm: 0.8484 (confidence interval (95%): 0.8381 - 0.8587)\n",
      "Average F1 for SBM (t=0) algorithm: 0.8737 (confidence interval (95%): 0.8642 - 0.8832)\n"
     ]
    }
   ],
   "source": [
    "results_sbm_0 = ByDocumentMetricsResults(datasets['sbm'], dois)\n",
    "results_style_sbm_0 = SplitByRefAttrResults(datasets['sbm'], 'style', dois)\n",
    "print_summary(results_sbm_0, 'SBM (t=0)')"
   ]
  },
  {
   "cell_type": "markdown",
   "metadata": {},
   "source": [
    "STQ has a slightly better precision than SBM (99.32% vs. 98.03%), but much smaller recall (38.20% vs. 84.84%). STQ's small recall suggests that STQ is very conservative and as a result, misses quite a few links.\n",
    "\n",
    "High precision values are related to the limitation of the dataset. Since we included only 2 similar documents for each document in the sample, the possibility of incorrectly matching them to our sample is still quite limited.\n",
    "\n",
    "The confidence intervals give us the ranges of values, where we expect the real averages to be. For example, statistically speaking, we are 95% sure that the real average recall for SBM in the system is between 83.81% and 85.87%.\n",
    "\n",
    "Of course, the results of SBM are reported here are not entirely fair, because we didn't apply any relevance score threshold. Since all input reference strings have a target document in the system, the results are most likely higher that with a threshold. In practise, of course, we will have to apply a threshold.\n",
    "\n",
    "Let's calculate the overall  results also for the best values of simple and normalized threshold, calculated in the analysis \"The relevance score threshold\". These functions will modify the dataset according to the simple or normalized threshold:"
   ]
  },
  {
   "cell_type": "code",
   "execution_count": 7,
   "metadata": {},
   "outputs": [],
   "source": [
    "def modify_simple_threshold(dataset, threshold):\n",
    "    for item in dataset:\n",
    "        if item[dfk.DATASET_SCORE] is not None and item[dfk.DATASET_SCORE] < threshold:\n",
    "            item[dfk.DATASET_TARGET_TEST][dfk.CR_ITEM_DOI] = None\n",
    "    return dataset"
   ]
  },
  {
   "cell_type": "code",
   "execution_count": 8,
   "metadata": {},
   "outputs": [],
   "source": [
    "def modify_norm_threshold(dataset, threshold):\n",
    "    for item in dataset:\n",
    "        if item[dfk.DATASET_SCORE] is not None \\\n",
    "            and item[dfk.DATASET_SCORE]/len(item[dfk.DATASET_REF_STRING]) < threshold:\n",
    "            item[dfk.DATASET_TARGET_TEST][dfk.CR_ITEM_DOI] = None\n",
    "    return dataset"
   ]
  },
  {
   "cell_type": "markdown",
   "metadata": {},
   "source": [
    "Let's calculate the results for the best simple threshold of 53:"
   ]
  },
  {
   "cell_type": "code",
   "execution_count": 9,
   "metadata": {},
   "outputs": [
    {
     "name": "stdout",
     "output_type": "stream",
     "text": [
      "Average precision for SBM (t=53) algorithm: 0.9840 (confidence interval (95%): 0.9809 - 0.9871)\n",
      "Average recall for SBM (t=53) algorithm: 0.6835 (confidence interval (95%): 0.6723 - 0.6948)\n",
      "Average F1 for SBM (t=53) algorithm: 0.7592 (confidence interval (95%): 0.7485 - 0.7699)\n"
     ]
    }
   ],
   "source": [
    "datasets, _ = read_data()\n",
    "datasets['sbm'] = modify_simple_threshold(datasets['sbm'], 53)\n",
    "results_sbm_53 = ByDocumentMetricsResults(datasets['sbm'], dois)\n",
    "results_style_sbm_53 = SplitByRefAttrResults(datasets['sbm'], 'style', dois)\n",
    "print_summary(results_sbm_53, 'SBM (t=53)')"
   ]
  },
  {
   "cell_type": "markdown",
   "metadata": {},
   "source": [
    "And here we have the results for the normalized best threshold of 0.47:"
   ]
  },
  {
   "cell_type": "code",
   "execution_count": 10,
   "metadata": {},
   "outputs": [
    {
     "name": "stdout",
     "output_type": "stream",
     "text": [
      "Average precision for SBM (tnorm=0.47) algorithm: 0.9814 (confidence interval (95%): 0.9782 - 0.9846)\n",
      "Average recall for SBM (tnorm=0.47) algorithm: 0.7611 (confidence interval (95%): 0.7497 - 0.7726)\n",
      "Average F1 for SBM (tnorm=0.47) algorithm: 0.8102 (confidence interval (95%): 0.7995 - 0.8209)\n"
     ]
    }
   ],
   "source": [
    "datasets, _ = read_data()\n",
    "datasets['sbm'] = modify_norm_threshold(datasets['sbm'], 0.47)\n",
    "results_sbm_047 = ByDocumentMetricsResults(datasets['sbm'], dois)\n",
    "results_style_sbm_047 = SplitByRefAttrResults(datasets['sbm'], 'style', dois)\n",
    "print_summary(results_sbm_047, 'SBM (tnorm=0.47)')"
   ]
  },
  {
   "cell_type": "markdown",
   "metadata": {},
   "source": [
    "Let's compare the overall results using a single plot:"
   ]
  },
  {
   "cell_type": "code",
   "execution_count": 11,
   "metadata": {},
   "outputs": [],
   "source": [
    "def get_means(results):\n",
    "    return [results.get(m) for m in [dfk.EVAL_MEAN_PREC, dfk.EVAL_MEAN_REC, dfk.EVAL_MEAN_F1]]\n",
    "\n",
    "def get_ses(results):\n",
    "    return [(results.get(m)[1]-results.get(m)[0])/2 for m in [dfk.EVAL_CI_PREC, dfk.EVAL_CI_REC, dfk.EVAL_CI_F1]]"
   ]
  },
  {
   "cell_type": "code",
   "execution_count": 12,
   "metadata": {},
   "outputs": [
    {
     "data": {
      "image/png": "[encoded data removed]",
      "text/plain": [
       "<Figure size 864x648 with 1 Axes>"
      ]
     },
     "metadata": {
      "needs_background": "light"
     },
     "output_type": "display_data"
    }
   ],
   "source": [
    "def autolabel(ax, rects):\n",
    "    plt.rcParams.update({'font.size': 10})\n",
    "    for rect in rects:\n",
    "        height = rect.get_height()\n",
    "        text = '{:.2f}'.format(height)\n",
    "        text = re.sub('\\.00$', '', text)\n",
    "        ax.text(rect.get_x() + rect.get_width()/2., 1.03*height, text, ha='center', va='bottom')\n",
    "\n",
    "ind = np.arange(3)\n",
    "width = 0.2\n",
    "fig, ax = plt.subplots(figsize=(12, 9))\n",
    "plt.rcParams.update({'font.size': 15}) \n",
    "\n",
    "rects1 = ax.bar(ind - width, get_means(results_stq), width, color='#d8d2c4', yerr=get_ses(results_stq))\n",
    "rects2 = ax.bar(ind, get_means(results_sbm_0), width, color='#4f5858', yerr=get_ses(results_sbm_0))\n",
    "rects3 = ax.bar(ind + width, get_means(results_sbm_53), width, color='#3eb1c8', yerr=get_ses(results_sbm_53))\n",
    "rects4 = ax.bar(ind + 2*width, get_means(results_sbm_047), width, color='#ffc72c', yerr=get_ses(results_sbm_047))\n",
    "\n",
    "ax.set_ylabel('fraction')\n",
    "ax.set_title('Overall averaged results')\n",
    "ax.set_xticks(ind + width / 2)\n",
    "ax.set_xticklabels(('precision', 'recall', 'F1'))\n",
    "plt.ylim(0, 1.2)\n",
    "plt.yticks([0, 0.2, 0.4, 0.6, 0.8, 1.0])\n",
    "ax.legend((rects1[0], rects2[0], rects3[0], rects4[0]),\n",
    "          ('STQ', 'SBM (no threshold)', 'SBM (simple threshold)', 'SBM (norm threshold)'))\n",
    "autolabel(ax, rects1)\n",
    "autolabel(ax, rects2)\n",
    "autolabel(ax, rects3)\n",
    "autolabel(ax, rects4)\n",
    "\n",
    "plt.show() "
   ]
  },
  {
   "cell_type": "markdown",
   "metadata": {},
   "source": [
    "We can see that STQ is still the worst approach, accorsing to F1. The best is SBM without any threshold (which is not a practical approach). Normalized threshold results in better overall F1 than simple threshold.\n",
    "\n",
    "Let's also plot similar comparison for each style separately. "
   ]
  },
  {
   "cell_type": "code",
   "execution_count": 13,
   "metadata": {},
   "outputs": [],
   "source": [
    "def get_results_style(results, style):\n",
    "    results = results.get(dfk.EVAL_SPLIT_METRICS)\n",
    "    results = results.iloc[:,[7,8,9]][results['style'] == style]\n",
    "    return list(results.to_records(index=False)[0])"
   ]
  },
  {
   "cell_type": "code",
   "execution_count": 14,
   "metadata": {},
   "outputs": [
    {
     "data": {
      "image/png": "[encoded data removed]",
      "text/plain": [
       "<Figure size 720x576 with 12 Axes>"
      ]
     },
     "metadata": {
      "needs_background": "light"
     },
     "output_type": "display_data"
    }
   ],
   "source": [
    "f, axes = plt.subplots(4, 3, sharex=True, sharey=True, figsize=(10, 8))\n",
    "ind = np.arange(3)\n",
    "width = 0.2\n",
    "\n",
    "styles = [['apa-noise', 'american-institute-of-physics-noise'],\n",
    "          ['apa', 'chicago-author-date', 'modern-language-association'],\n",
    "          ['american-chemical-society', 'american-institute-of-physics', 'elsevier-without-titles'],\n",
    "          ['degraded_all_authors', 'degraded_one_author', 'degraded_title_scrambled']]\n",
    "titles = [['apa+noise', 'aip+noise'],\n",
    "          ['apa', 'chicago', 'mla'],\n",
    "          ['acs', 'aip', 'ewt'],\n",
    "          ['degraded', 'one author', 'title scrambled']]\n",
    "\n",
    "for i in range(4):\n",
    "    for j in range(3):\n",
    "        if len(styles) <= i or len(styles[i]) <= j:\n",
    "            continue\n",
    "        rects1 = axes[i, j].bar(ind-width, get_results_style(results_style_stq, styles[i][j]), width, color='#d8d2c4')\n",
    "        rects2 = axes[i, j].bar(ind, get_results_style(results_style_sbm_0, styles[i][j]), width, color='#4f5858')\n",
    "        rects3 = axes[i, j].bar(ind+width, get_results_style(results_style_sbm_53, styles[i][j]), width, color='#3eb1c8')\n",
    "        rects4 = axes[i, j].bar(ind+2*width, get_results_style(results_style_sbm_047, styles[i][j]), width, color='#ffc72c')\n",
    "        axes[i, j].set_title(titles[i][j])\n",
    "\n",
    "axes[0, 0].set_xticks(ind + width / 2)\n",
    "axes[0, 0].set_xticklabels(('precision', 'recall', 'F1'))\n",
    "axes[0, 2].legend((rects1[0], rects2[0], rects3[0], rects4[0]),\n",
    "                  ('STQ', 'SBM (no threshold)', 'SBM (simple threshold)', 'SBM (norm threshold)'),\n",
    "                  loc=3, bbox_to_anchor=(0, 0.3))\n",
    "\n",
    "for i in range(3):\n",
    "    for j in range(3):\n",
    "        axes[i, j].xaxis.set_ticks_position('none') \n",
    "for i in range(4):\n",
    "    for j in [1,2]:\n",
    "        axes[i, j].yaxis.set_ticks_position('none')\n",
    "axes[0, 2].axis('off')\n",
    "\n",
    "plt.ylim(0, 1.15)\n",
    "plt.yticks([0, 0.2, 0.4, 0.6, 0.8, 1.0])\n",
    "plt.show()"
   ]
  },
  {
   "cell_type": "markdown",
   "metadata": {},
   "source": [
    "As we can see, SBM with no threshold outperforms STQ for every style. SBM with a simple threshold is worse than STQ for styles that do not include the title (acs, aip, ewt). SBM with a normalized threshold is worse than SBM with no threshold, but in every case better than STQ."
   ]
  }
 ],
 "metadata": {
  "kernelspec": {
   "display_name": "Python 3",
   "language": "python",
   "name": "python3"
  },
  "language_info": {
   "codemirror_mode": {
    "name": "ipython",
    "version": 3
   },
   "file_extension": ".py",
   "mimetype": "text/x-python",
   "name": "python",
   "nbconvert_exporter": "python",
   "pygments_lexer": "ipython3",
   "version": "3.6.6"
  }
 },
 "nbformat": 4,
 "nbformat_minor": 2
}
