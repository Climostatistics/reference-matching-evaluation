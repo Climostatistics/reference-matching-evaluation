{
 "cells": [
  {
   "cell_type": "markdown",
   "metadata": {},
   "source": [
    "# Comparing existing and new links\n",
    "\n",
    "Dominika Tkaczyk\n",
    "\n",
    "22.11.2018\n",
    "\n",
    "In this analysis I examine how the links existing in the live system compare to the links currently returned by STQ and SBM(V) algorithms.\n",
    "\n",
    "The results from this notebook were published on [Crossref blog](https://www.crossref.org/blog/reference-matching-for-real-this-time/).\n",
    "\n",
    "For the comparison of the algorithms on automatically generated reference strings, see [this notebook](https://github.com/CrossRef/reference-matching-evaluation/blob/master/analyses/blog/comparison.ipynb)."
   ]
  },
  {
   "cell_type": "markdown",
   "metadata": {},
   "source": [
    "## TL;DR\n",
    "\n",
    "  * The dataset used in this analysis is composed of 2000 random reference strings from the live system. For each string I have:\n",
    "    * original link (currently in the system)\n",
    "    * STQ link (the link returned by STQ form)\n",
    "    * SBM link (the link returned by SBM algorithm)\n",
    "    * SBMV link (the link returned by SBMV algorithm)\n",
    "  * Both variations of SBM are outperformed by STQ (F1 92.5% vs. 84.3% and 83.6%).\n",
    "  * **SBMV outperforms STQ (F1 96.3% vs. 92.5%)**, with precision worse by 0.86 percentage points and recall better by 7.71 percentage points. The difference in precision between SBMV and STQ is not statistically significant. The difference in recall between SBMV and STQ is statistically significant.\n",
    "  * SBMV also outperforms the results for the current links (F1 96.3% vs. 77.8%). Applying SBMV to currently not resolved links would result in 51.4% more links, 95.5% of which would be correct.\n",
    "  * There is a high level of agreement between the links (original vs. STQ vs. SBMV):\n",
    "    * in 84.7% of the cases SBM with a simple threshold link is equal to either original or new STQ link\n",
    "    * in 78.0% of the cases SBM with a normalized threshold link is equal to either original or new STQ link\n",
    "    * in 94.0% of the cases SBMV link is equal to either original or new STQ link"
   ]
  },
  {
   "cell_type": "markdown",
   "metadata": {},
   "source": [
    "## Methodology\n",
    "\n",
    "The goal of this analysis is to examine the agreement between the approaches, as well as to estimate precision, recall and F1 on the real data.\n",
    "\n",
    "The following procedure was used to gather the data for these experiments:\n",
    "1. A random sample of 100K items was extracted from the system.\n",
    "2. I iterated over all references in the sampled items, and extracted all unstructured references (reference strings).\n",
    "3. I sampled 2000 unstructured references from them, recorded the existing target DOI (if any), and ran STQ, SBM and SBMV algorithms on them.\n",
    "4. I manually provided ground truth target DOIs for each reference string. This was done by verifying DOIs returned by the algorithms and/or manual searching."
   ]
  },
  {
   "cell_type": "markdown",
   "metadata": {},
   "source": [
    "## Results"
   ]
  },
  {
   "cell_type": "code",
   "execution_count": 1,
   "metadata": {},
   "outputs": [],
   "source": [
    "import sys\n",
    "sys.path.append('../..')\n",
    "\n",
    "%matplotlib inline\n",
    "\n",
    "import json\n",
    "import matplotlib.pyplot as plt\n",
    "import numpy as np\n",
    "import re\n",
    "import utils.data_format_keys as dfk\n",
    "\n",
    "from dataset.dataset_utils import get_target_gt_doi, get_target_test_doi\n",
    "from evaluation.evaluation_utils import doi_test_same, doi_equals\n",
    "from evaluation.link_metrics import LinkMetricsResults\n",
    "from evaluation.reference_metrics import ReferenceMetricsResults\n",
    "from scipy.stats import chi2_contingency\n",
    "from utils.utils import read_json\n",
    "\n",
    "DATA_DIR = '../../data/blog/existing_links/'"
   ]
  },
  {
   "cell_type": "markdown",
   "metadata": {},
   "source": [
    "### Precision, recall, F1\n",
    "\n",
    "First, let's compare precision, recall and F1 of different algorithms.\n",
    "\n",
    "Here are the results of the links currently present in the system:"
   ]
  },
  {
   "cell_type": "code",
   "execution_count": 2,
   "metadata": {},
   "outputs": [
    {
     "name": "stdout",
     "output_type": "stream",
     "text": [
      "original precision: 0.9922 (CI at 95% 0.9860-0.9984)\n",
      "original recall: 0.6399 (CI at 95% 0.6126-0.6671)\n",
      "original F1: 0.7780\n"
     ]
    }
   ],
   "source": [
    "def print_summary(dataset, name):\n",
    "    link_results = LinkMetricsResults(dataset)\n",
    "    print('{} precision: {:.4f} (CI at 95% {:.4f}-{:.4f})'\n",
    "          .format(name, link_results.get(dfk.EVAL_PREC),\n",
    "                  link_results.get(dfk.EVAL_CI_PREC)[0], link_results.get(dfk.EVAL_CI_PREC)[1]))\n",
    "    print('{} recall: {:.4f} (CI at 95% {:.4f}-{:.4f})'\n",
    "          .format(name, link_results.get(dfk.EVAL_REC),\n",
    "                  link_results.get(dfk.EVAL_CI_REC)[0], link_results.get(dfk.EVAL_CI_REC)[1]))\n",
    "    print('{} F1: {:.4f}'.format(name, link_results.get(dfk.EVAL_F1)))\n",
    "\n",
    "dataset_orig = read_json(DATA_DIR + 'unstructured_orig.json')[dfk.DATASET_DATASET]\n",
    "print_summary(dataset_orig, 'original')"
   ]
  },
  {
   "cell_type": "markdown",
   "metadata": {},
   "source": [
    "For precision and recall the confidence intervals at the confidence level of 95% are given. The confidence interval is the range of values where the real value is likely to be. For example, based on this, we are 95% sure that the real recall in the system currently is in the range 0.6126-0.6671. More information about the foundations of sampling and confidence intervals can be found in [this notebook](https://github.com/CrossRef/reference-matching-evaluation/blob/master/analyses/sampling_notes.ipynb).\n",
    "\n",
    "Here are the results of STQ:"
   ]
  },
  {
   "cell_type": "code",
   "execution_count": 3,
   "metadata": {},
   "outputs": [
    {
     "name": "stdout",
     "output_type": "stream",
     "text": [
      "STQ precision: 0.9895 (CI at 95% 0.9833-0.9957)\n",
      "STQ recall: 0.8685 (CI at 95% 0.8493-0.8877)\n",
      "STQ F1: 0.9251\n"
     ]
    }
   ],
   "source": [
    "dataset_stq = read_json(DATA_DIR + 'unstructured_stq.json')[dfk.DATASET_DATASET]\n",
    "print_summary(dataset_stq, 'STQ')"
   ]
  },
  {
   "cell_type": "markdown",
   "metadata": {},
   "source": [
    "In order to calculate the results for SBM and SBMV, we have to modify the SBM and SBMV datasets according to the best thresholds calculated previously. These functions will modify the dataset according to the simple, normalized or validation threshold:"
   ]
  },
  {
   "cell_type": "code",
   "execution_count": 4,
   "metadata": {},
   "outputs": [],
   "source": [
    "def modify_simple_threshold(dataset, threshold):\n",
    "    for item in dataset:\n",
    "        if item[dfk.DATASET_SCORE] is not None and item[dfk.DATASET_SCORE] < threshold:\n",
    "            item[dfk.DATASET_TARGET_TEST][dfk.CR_ITEM_DOI] = None\n",
    "    return dataset\n",
    "\n",
    "def modify_norm_threshold(dataset, threshold):\n",
    "    for item in dataset:\n",
    "        if item[dfk.DATASET_SCORE] is not None \\\n",
    "            and item[dfk.DATASET_SCORE]/len(item[dfk.DATASET_REF_STRING]) < threshold:\n",
    "            item[dfk.DATASET_TARGET_TEST][dfk.CR_ITEM_DOI] = None\n",
    "    return dataset\n",
    "\n",
    "def modify_valid_threshold(dataset, threshold):\n",
    "    for item in dataset:\n",
    "        if item[dfk.DATASET_SCORE] is not None and item[dfk.DATASET_SCORE] < threshold:\n",
    "            item[dfk.DATASET_TARGET_TEST][dfk.CR_ITEM_DOI] = None\n",
    "    return dataset"
   ]
  },
  {
   "cell_type": "markdown",
   "metadata": {},
   "source": [
    "Let's see the results of SBM with a simple threshold of 64:"
   ]
  },
  {
   "cell_type": "code",
   "execution_count": 5,
   "metadata": {},
   "outputs": [
    {
     "name": "stdout",
     "output_type": "stream",
     "text": [
      "SBM precision: 0.8686 (CI at 95% 0.8488-0.8883)\n",
      "SBM recall: 0.8191 (CI at 95% 0.7973-0.8409)\n",
      "SBM F1: 0.8431\n"
     ]
    }
   ],
   "source": [
    "dataset_sbm_simple = read_json(DATA_DIR + 'unstructured_sbm.json')[dfk.DATASET_DATASET]\n",
    "modify_simple_threshold(dataset_sbm_simple, 64)\n",
    "print_summary(dataset_sbm_simple, 'SBM')"
   ]
  },
  {
   "cell_type": "markdown",
   "metadata": {},
   "source": [
    "Now the results of SBM with the normalized threshold of 0.4:"
   ]
  },
  {
   "cell_type": "code",
   "execution_count": 6,
   "metadata": {},
   "outputs": [
    {
     "name": "stdout",
     "output_type": "stream",
     "text": [
      "SBM precision: 0.7712 (CI at 95% 0.7493-0.7932)\n",
      "SBM recall: 0.9121 (CI at 95% 0.8960-0.9281)\n",
      "SBM F1: 0.8358\n"
     ]
    }
   ],
   "source": [
    "dataset_sbm_norm = read_json(DATA_DIR + 'unstructured_sbm.json')[dfk.DATASET_DATASET]\n",
    "modify_norm_threshold(dataset_sbm_norm, 0.4)\n",
    "print_summary(dataset_sbm_norm, 'SBM')"
   ]
  },
  {
   "cell_type": "markdown",
   "metadata": {},
   "source": [
    "And finally, the results of SBMV with the validation threshold of 0.34:"
   ]
  },
  {
   "cell_type": "code",
   "execution_count": 7,
   "metadata": {},
   "outputs": [
    {
     "name": "stdout",
     "output_type": "stream",
     "text": [
      "SBMV precision: 0.9809 (CI at 95% 0.9730-0.9888)\n",
      "SBMV recall: 0.9456 (CI at 95% 0.9327-0.9584)\n",
      "SBMV F1: 0.9629\n"
     ]
    }
   ],
   "source": [
    "dataset_sbmv = read_json(DATA_DIR + 'unstructured_sbmv.json')[dfk.DATASET_DATASET]\n",
    "modify_simple_threshold(dataset_sbmv, 0.34) \n",
    "print_summary(dataset_sbmv, 'SBMV')"
   ]
  },
  {
   "cell_type": "markdown",
   "metadata": {},
   "source": [
    "Let's compare all the results in one plot:"
   ]
  },
  {
   "cell_type": "code",
   "execution_count": 8,
   "metadata": {},
   "outputs": [],
   "source": [
    "def get_means(dataset):\n",
    "    results = LinkMetricsResults(dataset)\n",
    "    return [results.get(m) for m in [dfk.EVAL_PREC, dfk.EVAL_REC, dfk.EVAL_F1]]\n",
    "\n",
    "def get_ci(dataset):\n",
    "    results = LinkMetricsResults(dataset)\n",
    "    ms = [results.get(m) for m in [dfk.EVAL_PREC, dfk.EVAL_REC]]\n",
    "    return [[a-results.get(m)[0] for m, a in zip([dfk.EVAL_CI_PREC, dfk.EVAL_CI_REC], ms)] + [0],\n",
    "            [results.get(m)[1]-a for m, a in zip([dfk.EVAL_CI_PREC, dfk.EVAL_CI_REC], ms)] + [0]]\n",
    "\n",
    "def autolabel(ax, rects):\n",
    "    plt.rcParams.update({'font.size': 10})\n",
    "    for rect in rects:\n",
    "        height = rect.get_height()\n",
    "        text = '{:.2f}'.format(height)\n",
    "        text = re.sub('\\.00$', '', text)\n",
    "        ax.text(rect.get_x() + rect.get_width()/2., 1.03*height, text, ha='center', va='bottom')"
   ]
  },
  {
   "cell_type": "code",
   "execution_count": 9,
   "metadata": {},
   "outputs": [
    {
     "data": {
      "image/png": "[encoded data removed]",
      "text/plain": [
       "<Figure size 864x648 with 1 Axes>"
      ]
     },
     "metadata": {
      "needs_background": "light"
     },
     "output_type": "display_data"
    }
   ],
   "source": [
    "ind = np.arange(3)\n",
    "width = 0.15\n",
    "plt.rcParams.update({'font.size': 15, 'legend.fontsize': 10}) \n",
    "fig, ax = plt.subplots(figsize=(12, 9))\n",
    "\n",
    "rects1 = ax.bar(ind - 1.5 * width, get_means(dataset_orig), yerr=get_ci(dataset_stq), width=width,\n",
    "                color='#d8d2c4')\n",
    "rects2 = ax.bar(ind - 0.5 * width, get_means(dataset_stq), yerr=get_ci(dataset_sbm_simple),\n",
    "                width=width, color='#4f5858')\n",
    "rects3 = ax.bar(ind + 0.5 * width, get_means(dataset_sbm_simple), yerr=get_ci(dataset_sbm_norm),\n",
    "                width=width, color='#3eb1c8')\n",
    "rects4 = ax.bar(ind + 1.5 * width, get_means(dataset_sbm_norm), yerr=get_ci(dataset_sbmv),\n",
    "                width=width, color='#ffc72c')\n",
    "rects5 = ax.bar(ind + 2.5 * width, get_means(dataset_sbmv), yerr=get_ci(dataset_sbmv),\n",
    "                width=width, color='#ef3340')\n",
    "\n",
    "ax.set_ylabel('fraction')\n",
    "ax.set_xticks(ind + width / 2)\n",
    "ax.set_xticklabels(('precision', 'recall', 'F1'))\n",
    "plt.ylim(0, 1.25)\n",
    "plt.yticks([0, 0.2, 0.4, 0.6, 0.8, 1.0])\n",
    "ax.legend((rects1[0], rects2[0], rects3[0], rects4[0], rects5[0]),\n",
    "          ('original', 'STQ', 'SBM (simple threshold)', 'SBM (norm threshold)', 'SBMV'))\n",
    "autolabel(ax, rects1)\n",
    "autolabel(ax, rects2)\n",
    "autolabel(ax, rects3)\n",
    "autolabel(ax, rects4)\n",
    "autolabel(ax, rects5)\n",
    "\n",
    "plt.show() "
   ]
  },
  {
   "cell_type": "markdown",
   "metadata": {},
   "source": [
    "As we can see, SBMV outperforms all other algorithms. It is better than STQ (F1 96.29% vs. 92.51%), with precision worse by only 0.86 percentage points and recall better by 7.71 percentage points.\n",
    "\n",
    "Both variations of SBM are much worse than SBMV and STQ.\n",
    "\n",
    "Let's also calculate statistical significance between STQ's and SBMV's precision and recall using a Chi-square test of independence:"
   ]
  },
  {
   "cell_type": "code",
   "execution_count": 10,
   "metadata": {},
   "outputs": [
    {
     "name": "stdout",
     "output_type": "stream",
     "text": [
      "precision p-value: 0.1377 (this is not statistically significant)\n",
      "recall p-value: 0.0000 (this is statistically significant)\n"
     ]
    }
   ],
   "source": [
    "for metric in [dfk.EVAL_PREC, dfk.EVAL_REC]:\n",
    "    fun = get_target_test_doi if metric == dfk.EVAL_PREC else get_target_gt_doi\n",
    "    stq_results = LinkMetricsResults(dataset_stq)\n",
    "    stq_precision = stq_results.get(metric)\n",
    "    stq_test_count = len([d for d in dataset_stq if fun(d) is not None])\n",
    "    stq_precision_success = int(stq_precision * stq_test_count)\n",
    "\n",
    "    sbmv_results = LinkMetricsResults(dataset_sbmv)\n",
    "    sbmv_precision = sbmv_results.get(metric)\n",
    "    sbmv_test_count = len([d for d in dataset_sbmv if fun(d) is not None])\n",
    "    sbmv_precision_success = int(sbmv_precision * sbmv_test_count)\n",
    "\n",
    "    _, p, _, _ = chi2_contingency(np.array([[stq_precision_success,\n",
    "                                             stq_test_count-stq_precision_success],\n",
    "                                           [sbmv_precision_success,\n",
    "                                            sbmv_test_count-sbmv_precision_success]]),\n",
    "                                  correction=True)\n",
    "    c = 'this is statistically significant' if p < 0.05 \\\n",
    "        else 'this is not statistically significant'\n",
    "    print('{} p-value: {:.4f} ({})'.format(metric, p, c))"
   ]
  },
  {
   "cell_type": "markdown",
   "metadata": {},
   "source": [
    "The difference in precision is not statistically significant. In other words, the values are so close that we cannot rule out that the difference is due to the randomness in sampling.\n",
    "\n",
    "The difference in recall is statistically significant.\n",
    "\n",
    "Let's also see what would the validation threshold of SBMV be if we wanted to match STQ's precision:"
   ]
  },
  {
   "cell_type": "code",
   "execution_count": 11,
   "metadata": {},
   "outputs": [
    {
     "name": "stdout",
     "output_type": "stream",
     "text": [
      "STQ's precision is matched for threshold 0.43\n",
      "Recall for this threshold: 0.9321608040201005\n"
     ]
    }
   ],
   "source": [
    "dataset_sbmv = read_json(DATA_DIR + 'unstructured_sbmv.json')[dfk.DATASET_DATASET]\n",
    "results = [LinkMetricsResults(modify_simple_threshold(dataset_sbmv, t))\n",
    "           for t in np.arange(0, 1, 0.01)]\n",
    "thresholds = np.arange(0, 1, 0.1)\n",
    "precisions = [r.get(dfk.EVAL_PREC) for r in results]\n",
    "recalls = [r.get(dfk.EVAL_REC) for r in results]\n",
    "for i, p in enumerate(precisions):\n",
    "    if p >= 0.9895:\n",
    "        break\n",
    "print('STQ\\'s precision is matched for threshold {}'.format(i/100))\n",
    "print('Recall for this threshold: {}'.format(recalls[i]))"
   ]
  },
  {
   "cell_type": "markdown",
   "metadata": {},
   "source": [
    "For the threshold 0.43 the recall is 93.2%, which is still higher than STQ's recall of 86.9%.\n",
    "\n",
    "Finally, let's see how many more links we would get if we applied SBMV to currently unresolved references in the system:"
   ]
  },
  {
   "cell_type": "code",
   "execution_count": 12,
   "metadata": {},
   "outputs": [
    {
     "name": "stdout",
     "output_type": "stream",
     "text": [
      "Applying SBMV to currently not resolved links will result in 51.43% more links\n",
      "95.45% of the new links will be correct\n"
     ]
    }
   ],
   "source": [
    "dataset_sbmv = read_json(DATA_DIR + 'unstructured_sbmv.json')[dfk.DATASET_DATASET]\n",
    "modify_simple_threshold(dataset_sbmv, 0.34) \n",
    "\n",
    "orig_links = len([d for d in dataset_orig if get_target_test_doi(d) is not None])\n",
    "sbmv_new_links = len([d_sbmv for d_orig, d_sbmv in zip(dataset_orig, dataset_sbmv)\n",
    "                      if get_target_test_doi(d_sbmv) is not None\n",
    "                      and get_target_test_doi(d_orig) is None])\n",
    "sbmv_new_correct_links = len([d_sbmv for d_orig, d_sbmv in zip(dataset_orig, dataset_sbmv)\n",
    "                              if get_target_test_doi(d_sbmv) is not None\n",
    "                              and get_target_test_doi(d_orig) is None\n",
    "                              and doi_equals(d_sbmv)])\n",
    "\n",
    "print('Applying SBMV to currently not resolved links will result in {:.2f}% more links'\n",
    "      .format(100*sbmv_new_links/orig_links))\n",
    "print('{:.2f}% of the new links will be correct'\n",
    "      .format(100*sbmv_new_correct_links/sbmv_new_links))"
   ]
  },
  {
   "cell_type": "markdown",
   "metadata": {},
   "source": [
    "### Agreement between links\n",
    "\n",
    "Let's also see what is the agreement between the links.\n",
    "\n",
    "Function *get_category* classifies an item from the dataset into one of the categories:\n",
    "  * SBM(V) = STQ = orig (all links agree)\n",
    "  * SBM(V) = STQ =/= orig (original link is different)\n",
    "  * SBM(V) = orig =/= STQ (new STQ link is different)\n",
    "  * SBM(V) =/= STQ = orig (SBM(V) link is different)\n",
    "  * other"
   ]
  },
  {
   "cell_type": "code",
   "execution_count": 13,
   "metadata": {},
   "outputs": [],
   "source": [
    "categories = ['SBM(V) = STQ = orig', 'SBM(V) = STQ =/= orig', 'SBM(V) = orig =/= STQ',\n",
    "              'SBM(V) =/= STQ = orig', 'other']\n",
    "\n",
    "def get_category(item_orig, item_stq, item_new):\n",
    "    if doi_test_same(item_orig, get_target_test_doi(item_stq)) and \\\n",
    "            doi_test_same(item_orig, get_target_test_doi(item_new)):\n",
    "        return 'SBM(V) = STQ = orig'\n",
    "    if doi_equals(item_orig) and doi_equals(item_stq) and doi_equals(item_new):\n",
    "        return 'SBM(V) = STQ = orig'\n",
    "    if doi_test_same(item_new, get_target_test_doi(item_stq)) and \\\n",
    "            not doi_test_same(item_new, get_target_test_doi(item_orig)):\n",
    "        return 'SBM(V) = STQ =/= orig'\n",
    "    if not doi_equals(item_orig) and doi_equals(item_stq) and doi_equals(item_new):\n",
    "        return 'SBM(V) = STQ =/= orig'\n",
    "    if doi_test_same(item_new, get_target_test_doi(item_orig)) and \\\n",
    "            not doi_test_same(item_new, get_target_test_doi(item_stq)):\n",
    "        return 'SBM(V) = orig =/= STQ'\n",
    "    if doi_equals(item_orig) and not doi_equals(item_stq) and doi_equals(item_new):\n",
    "        return 'SBM(V) = orig =/= STQ'\n",
    "    if doi_test_same(item_stq, get_target_test_doi(item_orig)) and \\\n",
    "            not doi_test_same(item_new, get_target_test_doi(item_stq)):\n",
    "        return 'SBM(V) =/= STQ = orig'\n",
    "    if doi_equals(item_orig) and doi_equals(item_stq) and not doi_equals(item_new):\n",
    "        return 'SBM(V) =/= STQ = orig'\n",
    "    return 'other'"
   ]
  },
  {
   "cell_type": "markdown",
   "metadata": {},
   "source": [
    "What is the distribution of the categories in the dataset for the best simple threshold of SBM?"
   ]
  },
  {
   "cell_type": "code",
   "execution_count": 14,
   "metadata": {},
   "outputs": [
    {
     "data": {
      "text/plain": [
       "{'SBM(V) = STQ = orig': 0.684,\n",
       " 'SBM(V) = STQ =/= orig': 0.122,\n",
       " 'SBM(V) = orig =/= STQ': 0.0405,\n",
       " 'SBM(V) =/= STQ = orig': 0.1475,\n",
       " 'other': 0.006}"
      ]
     },
     "execution_count": 14,
     "metadata": {},
     "output_type": "execute_result"
    }
   ],
   "source": [
    "dataset_orig = read_json(DATA_DIR + 'unstructured_orig.json')[dfk.DATASET_DATASET]\n",
    "dataset_stq = read_json(DATA_DIR + 'unstructured_stq.json')[dfk.DATASET_DATASET]\n",
    "dataset_sbm = read_json(DATA_DIR + 'unstructured_sbm.json')[dfk.DATASET_DATASET]\n",
    "modify_simple_threshold(dataset_sbm, 64)\n",
    "\n",
    "data_categories = [get_category(d1, d2, d3)\n",
    "                   for d1, d2, d3 in zip(dataset_orig, dataset_stq, dataset_sbm)]\n",
    "categories_counts = {cat: data_categories.count(cat)/len(data_categories) for cat in categories}\n",
    "categories_counts"
   ]
  },
  {
   "cell_type": "markdown",
   "metadata": {},
   "source": [
    "In 68.4% of the cases all links agree and in 84.65% SBM link is equal to either original or STQ link.\n",
    "\n",
    "What about the distribution of the categories in the dataset for the best normalized threshold of SBM?"
   ]
  },
  {
   "cell_type": "code",
   "execution_count": 15,
   "metadata": {},
   "outputs": [
    {
     "data": {
      "text/plain": [
       "{'SBM(V) = STQ = orig': 0.6215,\n",
       " 'SBM(V) = STQ =/= orig': 0.1435,\n",
       " 'SBM(V) = orig =/= STQ': 0.0145,\n",
       " 'SBM(V) =/= STQ = orig': 0.21,\n",
       " 'other': 0.0105}"
      ]
     },
     "execution_count": 15,
     "metadata": {},
     "output_type": "execute_result"
    }
   ],
   "source": [
    "dataset_orig = read_json(DATA_DIR + 'unstructured_orig.json')[dfk.DATASET_DATASET]\n",
    "dataset_stq = read_json(DATA_DIR + 'unstructured_stq.json')[dfk.DATASET_DATASET]\n",
    "dataset_sbm = read_json(DATA_DIR + 'unstructured_sbm.json')[dfk.DATASET_DATASET]\n",
    "modify_norm_threshold(dataset_sbm, 0.4)\n",
    "\n",
    "data_categories = [get_category(d1, d2, d3)\n",
    "                   for d1, d2, d3 in zip(dataset_orig, dataset_stq, dataset_sbm)]\n",
    "categories_counts = {cat: data_categories.count(cat)/len(data_categories) for cat in categories}\n",
    "categories_counts"
   ]
  },
  {
   "cell_type": "markdown",
   "metadata": {},
   "source": [
    "In 62.15% of the cases all links agree and in 77.95% SBM link is equal to either original or STQ link.\n",
    "\n",
    "What about the distribution of the categories in the dataset for the best validation threshold of SBMV?"
   ]
  },
  {
   "cell_type": "code",
   "execution_count": 16,
   "metadata": {},
   "outputs": [
    {
     "data": {
      "text/plain": [
       "{'SBM(V) = STQ = orig': 0.773,\n",
       " 'SBM(V) = STQ =/= orig': 0.148,\n",
       " 'SBM(V) = orig =/= STQ': 0.019,\n",
       " 'SBM(V) =/= STQ = orig': 0.0585,\n",
       " 'other': 0.0015}"
      ]
     },
     "execution_count": 16,
     "metadata": {},
     "output_type": "execute_result"
    }
   ],
   "source": [
    "dataset_orig = read_json(DATA_DIR + 'unstructured_orig.json')[dfk.DATASET_DATASET]\n",
    "dataset_stq = read_json(DATA_DIR + 'unstructured_stq.json')[dfk.DATASET_DATASET]\n",
    "dataset_sbmv = read_json(DATA_DIR + 'unstructured_sbmv.json')[dfk.DATASET_DATASET]\n",
    "modify_simple_threshold(dataset_sbmv, 0.34)\n",
    "\n",
    "data_categories = [get_category(d1, d2, d3)\n",
    "                   for d1, d2, d3 in zip(dataset_orig, dataset_stq, dataset_sbmv)]\n",
    "categories_counts = {cat: data_categories.count(cat)/len(data_categories) for cat in categories}\n",
    "categories_counts"
   ]
  },
  {
   "cell_type": "markdown",
   "metadata": {},
   "source": [
    "In 77.3% of the cases all links agree and in 94.0% SBMV link is equal to either original or STQ link."
   ]
  },
  {
   "cell_type": "markdown",
   "metadata": {},
   "source": [
    "### Error analysis\n",
    "\n",
    "Let's also look more closely at the causes of SBMV errors in our 2000 references."
   ]
  },
  {
   "cell_type": "code",
   "execution_count": 17,
   "metadata": {},
   "outputs": [
    {
     "name": "stdout",
     "output_type": "stream",
     "text": [
      "Dataset size: 2000\n"
     ]
    }
   ],
   "source": [
    "data = read_json(DATA_DIR + 'comparison-reasons.json')\n",
    "sbm_link = 'search_API_link'\n",
    "sbm_score = 'search_API_score'\n",
    "gt_link = 'gt'\n",
    "res = [d.update({sbm_link: None}) for d in data\n",
    "       if d[sbm_score] is not None and d[sbm_score] < 0.34]\n",
    "print('Dataset size: {}'.format(len(data)))"
   ]
  },
  {
   "cell_type": "markdown",
   "metadata": {},
   "source": [
    "How many references were correctly matched?"
   ]
  },
  {
   "cell_type": "code",
   "execution_count": 18,
   "metadata": {},
   "outputs": [
    {
     "name": "stdout",
     "output_type": "stream",
     "text": [
      "Correctly resolved references: 1129 (56.45%)\n"
     ]
    }
   ],
   "source": [
    "data_correct_res = [d for d in data if d[sbm_link] == d[gt_link] and d[sbm_link] is not None]\n",
    "print('Correctly resolved references: {} ({:.2f}%)'.format(len(data_correct_res),\n",
    "                                                           100*len(data_correct_res)/len(data)))"
   ]
  },
  {
   "cell_type": "markdown",
   "metadata": {},
   "source": [
    "How many references were correctly not matched to anything?"
   ]
  },
  {
   "cell_type": "code",
   "execution_count": 19,
   "metadata": {},
   "outputs": [
    {
     "name": "stdout",
     "output_type": "stream",
     "text": [
      "Correctly not resolved references: 791 (39.55%)\n"
     ]
    }
   ],
   "source": [
    "data_correct_not_res = [d for d in data if d[sbm_link] == d[gt_link] and d[sbm_link] is None]\n",
    "print('Correctly not resolved references: {} ({:.2f}%)'\n",
    "      .format(len(data_correct_not_res), 100*len(data_correct_not_res)/len(data)))"
   ]
  },
  {
   "cell_type": "markdown",
   "metadata": {},
   "source": [
    "We are left with 80 reference strings incorrectly matched or unmatched.\n",
    "\n",
    "How many references are matched to the wrong document?"
   ]
  },
  {
   "cell_type": "code",
   "execution_count": 20,
   "metadata": {},
   "outputs": [
    {
     "name": "stdout",
     "output_type": "stream",
     "text": [
      "References resolved to the wrong document: 7 (0.35%)\n"
     ]
    }
   ],
   "source": [
    "data_incorrect_res = [d for d in data if d[sbm_link] != d[gt_link] and d[sbm_link] is not None\n",
    "                      and d[gt_link] is not None]\n",
    "print('References resolved to the wrong document: {} ({:.2f}%)'\n",
    "      .format(len(data_incorrect_res), 100*len(data_incorrect_res)/len(data)))"
   ]
  },
  {
   "cell_type": "markdown",
   "metadata": {},
   "source": [
    "Let's see the summary of the causes of these errors:"
   ]
  },
  {
   "cell_type": "code",
   "execution_count": 21,
   "metadata": {},
   "outputs": [
    {
     "data": {
      "text/plain": [
       "[('similar metadata', 2),\n",
       " ('no title in the ref string', 2),\n",
       " ('two similar papers differ by journal name only', 1),\n",
       " ('search score too low to be considered as a candidate', 1),\n",
       " ('chapter matched instead of the book', 1)]"
      ]
     },
     "execution_count": 21,
     "metadata": {},
     "output_type": "execute_result"
    }
   ],
   "source": [
    "def summarize_causes(data):\n",
    "    causes = [d['reason'] for d in data]\n",
    "    causes = list(set([(r, causes.count(r)) for r in causes]))\n",
    "    causes.sort(key=lambda x: x[1], reverse=True) \n",
    "    return causes\n",
    "\n",
    "summarize_causes(data_incorrect_res)"
   ]
  },
  {
   "cell_type": "markdown",
   "metadata": {},
   "source": [
    "We have only 7 cases. In two cases the mistake was caused by missing title in the reference string. In one case the right target's relevance score was too low, and the remaining four reference strings were matched to similar documents.\n",
    "\n",
    "How many missing links we have?"
   ]
  },
  {
   "cell_type": "code",
   "execution_count": 22,
   "metadata": {},
   "outputs": [
    {
     "name": "stdout",
     "output_type": "stream",
     "text": [
      "Missing links: 58 (2.90%)\n"
     ]
    }
   ],
   "source": [
    "data_incorrect_not_res = [d for d in data if d[sbm_link] is None and d[gt_link] is not None]\n",
    "print('Missing links: {} ({:.2f}%)'\n",
    "      .format(len(data_incorrect_not_res), 100*len(data_incorrect_not_res)/len(data)))"
   ]
  },
  {
   "cell_type": "markdown",
   "metadata": {},
   "source": [
    "This is the largest category of the errors. What were the causes?"
   ]
  },
  {
   "cell_type": "code",
   "execution_count": 23,
   "metadata": {},
   "outputs": [
    {
     "data": {
      "text/plain": [
       "[('missing author in the metadata', 8),\n",
       " ('search score too low to be considered as a candidate', 7),\n",
       " ('missing year in the metadata', 7),\n",
       " ('year mismatch', 5),\n",
       " ('missing year and pages in the metadata', 4),\n",
       " ('DOI resolvable but not visible in API', 4),\n",
       " ('missing author in the ref string', 4),\n",
       " ('no numbers in the ref string except for arXiv id', 4),\n",
       " ('search score too low to be considered as a candidate; no title in the ref string',\n",
       "  3),\n",
       " ('missing title in the metadata', 2),\n",
       " ('missing title in the ref string', 2),\n",
       " ('ref string contains a large HTML fragment', 2),\n",
       " ('no title or numbers in the ref string', 1),\n",
       " (\"author's entire name as family name in the metadata, ref string contains abbreviated first name\",\n",
       "  1),\n",
       " ('missing year in the ref string', 1),\n",
       " ('matcher error', 1),\n",
       " ('title given in different language in the ref string', 1),\n",
       " ('missing author in the ref string, missing year in the metadata', 1)]"
      ]
     },
     "execution_count": 23,
     "metadata": {},
     "output_type": "execute_result"
    }
   ],
   "source": [
    "summarize_causes(data_incorrect_not_res)"
   ]
  },
  {
   "cell_type": "markdown",
   "metadata": {},
   "source": [
    "The most common causes are:\n",
    "  * the target was scored too low by the search engine\n",
    "  * missing metadata in the items in the system\n",
    "  * missing information in the reference strings\n",
    "  \n",
    "Finally, how many unexpected links we have?"
   ]
  },
  {
   "cell_type": "code",
   "execution_count": 24,
   "metadata": {},
   "outputs": [
    {
     "name": "stdout",
     "output_type": "stream",
     "text": [
      "Incorrect extra links: 15 (0.75%)\n"
     ]
    }
   ],
   "source": [
    "data_incorrect_extra_res = [d for d in data if d[sbm_link] is not None and d[gt_link] is None]\n",
    "print('Incorrect extra links: {} ({:.2f}%)'\n",
    "      .format(len(data_incorrect_extra_res), 100*len(data_incorrect_extra_res)/len(data)))"
   ]
  },
  {
   "cell_type": "markdown",
   "metadata": {},
   "source": [
    "We have 15 extra links. What were the causes?"
   ]
  },
  {
   "cell_type": "code",
   "execution_count": 25,
   "metadata": {},
   "outputs": [
    {
     "data": {
      "text/plain": [
       "[('multiple references in the string', 6),\n",
       " ('similar metadata', 4),\n",
       " ('journal article matched; chapter/book referenced', 2),\n",
       " ('different versions of the paper', 1),\n",
       " ('conference paper matched; phd thesis referenced', 1),\n",
       " ('journal article matched; working paper referenced', 1)]"
      ]
     },
     "execution_count": 25,
     "metadata": {},
     "output_type": "execute_result"
    }
   ],
   "source": [
    "summarize_causes(data_incorrect_extra_res)"
   ]
  },
  {
   "cell_type": "markdown",
   "metadata": {},
   "source": [
    "The most common cases are:\n",
    "  * Sometimes the reference string contains multiple references, either intentionally or by mistake. In such cases we expect the matching algorithm not to return any match, but sometimes the match is found.\n",
    "  * Reference strings containing similar metadata as the matched items, while the referenced version of the document is not present in the system."
   ]
  }
 ],
 "metadata": {
  "kernelspec": {
   "display_name": "Python 3",
   "language": "python",
   "name": "python3"
  },
  "language_info": {
   "codemirror_mode": {
    "name": "ipython",
    "version": 3
   },
   "file_extension": ".py",
   "mimetype": "text/x-python",
   "name": "python",
   "nbconvert_exporter": "python",
   "pygments_lexer": "ipython3",
   "version": "3.6.6"
  }
 },
 "nbformat": 4,
 "nbformat_minor": 2
}
